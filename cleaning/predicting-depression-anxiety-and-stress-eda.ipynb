{
 "cells": [
  {
   "cell_type": "code",
   "execution_count": 1,
   "id": "44dba2e2",
   "metadata": {
    "_cell_guid": "c0960c41-96f6-44a6-bdc3-1af5694558e1",
    "_kg_hide-input": true,
    "_uuid": "1d9c03b3-040e-48e3-be4a-f0f1c47aa052",
    "collapsed": false,
    "jupyter": {
     "outputs_hidden": false
    },
    "papermill": {
     "duration": 0.072333,
     "end_time": "2021-10-29T13:38:46.933719",
     "exception": false,
     "start_time": "2021-10-29T13:38:46.861386",
     "status": "completed"
    },
    "tags": []
   },
   "outputs": [
    {
     "data": {
      "text/html": [
       "\n",
       "<!DOCTYPE html>\n",
       "<html lang=\"en\">\n",
       "    <head>\n",
       "        <link rel=\"stylesheet\" href=\"https://www.w3schools.com/w3css/4/w3.css\">\n",
       "        <link rel=\"stylesheet\" href=\"https://fonts.googleapis.com/css?family=Raleway\">\n",
       "        <link rel=\"stylesheet\" href=\"https://fonts.googleapis.com/css?family=Oswald\">\n",
       "        <link rel=\"stylesheet\" href=\"https://fonts.googleapis.com/css?family=Open Sans\">\n",
       "        <link rel=\"stylesheet\" href=\"https://cdnjs.cloudflare.com/ajax/libs/font-awesome/4.7.0/css/font-awesome.min.css\">\n",
       "        <style>\n",
       "        .title-section{\n",
       "            font-family: \"Oswald\", Arial, sans-serif;\n",
       "            font-weight: bold;\n",
       "            color: \"#6A8CAF\";\n",
       "            letter-spacing: 6px;\n",
       "        }\n",
       "        hr { border: 1px solid #E58F65 !important;\n",
       "             color: #E58F65 !important;\n",
       "             background: #E58F65 !important;\n",
       "           }\n",
       "        body {\n",
       "            font-family: \"Open Sans\", sans-serif;\n",
       "            }        \n",
       "        </style>\n",
       "    </head>    \n",
       "</html>\n"
      ],
      "text/plain": [
       "<IPython.core.display.HTML object>"
      ]
     },
     "execution_count": 1,
     "metadata": {},
     "output_type": "execute_result"
    }
   ],
   "source": [
    "%matplotlib inline\n",
    "from IPython.core.display import display, HTML, Javascript\n",
    "\n",
    "# ----- Notebook Theme -----\n",
    "\n",
    "notebook_theme = 'carrot'\n",
    "color_maps = {'turquoise': ['#1abc9c', '#e8f8f5', '#d1f2eb', '#a3e4d7', '#76d7c4', '#48c9b0', '#1abc9c', '#17a589', '#148f77', '#117864', '#0e6251'], 'green': ['#16a085', '#e8f6f3', '#d0ece7', '#a2d9ce', '#73c6b6', '#45b39d', '#16a085', '#138d75', '#117a65', '#0e6655', '#0b5345'], 'emerald': ['#2ecc71', '#eafaf1', '#d5f5e3', '#abebc6', '#82e0aa', '#58d68d', '#2ecc71', '#28b463', '#239b56', '#1d8348', '#186a3b'], 'nephritis': ['#27ae60', '#e9f7ef', '#d4efdf', '#a9dfbf', '#7dcea0', '#52be80', '#27ae60', '#229954', '#1e8449', '#196f3d', '#145a32'], 'peter': ['#3498db', '#ebf5fb', '#d6eaf8', '#aed6f1', '#85c1e9', '#5dade2', '#3498db', '#2e86c1', '#2874a6', '#21618c', '#1b4f72'], 'belize': ['#2980b9', '#eaf2f8', '#d4e6f1', '#a9cce3', '#7fb3d5', '#5499c7', '#2980b9', '#2471a3', '#1f618d', '#1a5276', '#154360'], 'amethyst': ['#9b59b6', '#f5eef8', '#ebdef0', '#d7bde2', '#c39bd3', '#af7ac5', '#9b59b6', '#884ea0', '#76448a', '#633974', '#512e5f'], 'wisteria': ['#8e44ad', '#f4ecf7', '#e8daef', '#d2b4de', '#bb8fce', '#a569bd', '#8e44ad', '#7d3c98', '#6c3483', '#5b2c6f', '#4a235a'], 'wet': ['#34495e', '#ebedef', '#d6dbdf', '#aeb6bf', '#85929e', '#5d6d7e', '#34495e', '#2e4053', '#283747', '#212f3c', '#1b2631'], 'midnight': ['#2c3e50', '#eaecee', '#d5d8dc', '#abb2b9', '#808b96', '#566573', '#2c3e50', '#273746', '#212f3d', '#1c2833', '#17202a'], 'sunflower': ['#f1c40f', '#fef9e7', '#fcf3cf', '#f9e79f', '#f7dc6f', '#f4d03f', '#f1c40f', '#d4ac0d', '#b7950b', '#9a7d0a', '#7d6608'], 'orange': ['#f39c12', '#fef5e7', '#fdebd0', '#fad7a0', '#f8c471', '#f5b041', '#f39c12', '#d68910', '#b9770e', '#9c640c', '#7e5109'], 'carrot': ['#e67e22', '#fdf2e9', '#fae5d3', '#f5cba7', '#f0b27a', '#eb984e', '#e67e22', '#ca6f1e', '#af601a', '#935116', '#784212'], 'pumpkin': ['#d35400', '#fbeee6', '#f6ddcc', '#edbb99', '#e59866', '#dc7633', '#d35400', '#ba4a00', '#a04000', '#873600', '#6e2c00'], 'alizarin': ['#e74c3c', '#fdedec', '#fadbd8', '#f5b7b1', '#f1948a', '#ec7063', '#e74c3c', '#cb4335', '#b03a2e', '#943126', '#78281f'], 'pomegranate': ['#c0392b', '#f9ebea', '#f2d7d5', '#e6b0aa', '#d98880', '#cd6155', '#c0392b', '#a93226', '#922b21', '#7b241c', '#641e16'], 'clouds': ['#ecf0f1', '#fdfefe', '#fbfcfc', '#f7f9f9', '#f4f6f7', '#f0f3f4', '#ecf0f1', '#d0d3d4', '#b3b6b7', '#979a9a', '#7b7d7d'], 'silver': ['#bdc3c7', '#f8f9f9', '#f2f3f4', '#e5e7e9', '#d7dbdd', '#cacfd2', '#bdc3c7', '#a6acaf', '#909497', '#797d7f', '#626567'], 'concrete': ['#95a5a6', '#f4f6f6', '#eaeded', '#d5dbdb', '#bfc9ca', '#aab7b8', '#95a5a6', '#839192', '#717d7e', '#5f6a6a', '#4d5656'], 'asbestos': ['#7f8c8d', '#f2f4f4', '#e5e8e8', '#ccd1d1', '#b2babb', '#99a3a4', '#7f8c8d', '#707b7c', '#616a6b', '#515a5a', '#424949']}\n",
    "# color_maps = {'red': ['#f44336', '#ffebee', '#ffcdd2', '#ef9a9a', '#e57373', '#ef5350', '#f44336', '#e53935', '#d32f2f', '#c62828', '#b71c1c', '#ff8a80', '#ff5252', '#ff1744', '#d50000'], 'pink': ['#e91e63', '#fce4ec', '#f8bbd0', '#f48fb1', '#f06292', '#ec407a', '#e91e63', '#d81b60', '#c2185b', '#ad1457', '#880e4f', '#ff80ab', '#ff4081', '#f50057', '#c51162'], 'purple': ['#9c27b0', '#f3e5f5', '#e1bee7', '#ce93d8', '#ba68c8', '#ab47bc', '#9c27b0', '#8e24aa', '#7b1fa2', '#6a1b9a', '#4a148c', '#ea80fc', '#e040fb', '#d500f9', '#aa00ff'], 'deep': ['#673ab7', '#ede7f6', '#d1c4e9', '#b39ddb', '#9575cd', '#7e57c2', '#673ab7', '#5e35b1', '#512da8', '#4527a0', '#311b92', '#b388ff', '#7c4dff', '#651fff', '#6200ea', '#ff5722', '#fbe9e7', '#ffccbc', '#ffab91', '#ff8a65', '#ff7043', '#ff5722', '#f4511e', '#e64a19', '#d84315', '#bf360c', '#ff9e80', '#ff6e40', '#ff3d00', '#dd2c00'], 'indigo': ['#3f51b5', '#e8eaf6', '#c5cae9', '#9fa8da', '#7986cb', '#5c6bc0', '#3f51b5', '#3949ab', '#303f9f', '#283593', '#1a237e', '#8c9eff', '#536dfe', '#3d5afe', '#304ffe'], 'blue': ['#2196f3', '#e3f2fd', '#bbdefb', '#90caf9', '#64b5f6', '#42a5f5', '#2196f3', '#1e88e5', '#1976d2', '#1565c0', '#0d47a1', '#82b1ff', '#448aff', '#2979ff', '#2962ff', '#607d8b', '#eceff1', '#cfd8dc', '#b0bec5', '#90a4ae', '#78909c', '#607d8b', '#546e7a', '#455a64', '#37474f', '#263238'], 'light': ['#03a9f4', '#e1f5fe', '#b3e5fc', '#81d4fa', '#4fc3f7', '#29b6f6', '#03a9f4', '#039be5', '#0288d1', '#0277bd', '#01579b', '#80d8ff', '#40c4ff', '#00b0ff', '#0091ea', '#8bc34a', '#f1f8e9', '#dcedc8', '#c5e1a5', '#aed581', '#9ccc65', '#8bc34a', '#7cb342', '#689f38', '#558b2f', '#33691e', '#ccff90', '#b2ff59', '#76ff03', '#64dd17'], 'cyan': ['#00bcd4', '#e0f7fa', '#b2ebf2', '#80deea', '#4dd0e1', '#26c6da', '#00bcd4', '#00acc1', '#0097a7', '#00838f', '#006064', '#84ffff', '#18ffff', '#00e5ff', '#00b8d4'], 'teal': ['#009688', '#e0f2f1', '#b2dfdb', '#80cbc4', '#4db6ac', '#26a69a', '#009688', '#00897b', '#00796b', '#00695c', '#004d40', '#a7ffeb', '#64ffda', '#1de9b6', '#00bfa5'], 'green': ['#4caf50', '#e8f5e9', '#c8e6c9', '#a5d6a7', '#81c784', '#66bb6a', '#4caf50', '#43a047', '#388e3c', '#2e7d32', '#1b5e20', '#b9f6ca', '#69f0ae', '#00e676', '#00c853'], 'lime': ['#cddc39', '#f9fbe7', '#f0f4c3', '#e6ee9c', '#dce775', '#d4e157', '#cddc39', '#c0ca33', '#afb42b', '#9e9d24', '#827717', '#f4ff81', '#eeff41', '#c6ff00', '#aeea00'], 'yellow': ['#ffeb3b', '#fffde7', '#fff9c4', '#fff59d', '#fff176', '#ffee58', '#ffeb3b', '#fdd835', '#fbc02d', '#f9a825', '#f57f17', '#ffff8d', '#ffff00', '#ffea00', '#ffd600'], 'amber': ['#ffc107', '#fff8e1', '#ffecb3', '#ffe082', '#ffd54f', '#ffca28', '#ffc107', '#ffb300', '#ffa000', '#ff8f00', '#ff6f00', '#ffe57f', '#ffd740', '#ffc400', '#ffab00'], 'orange': ['#ff9800', '#fff3e0', '#ffe0b2', '#ffcc80', '#ffb74d', '#ffa726', '#ff9800', '#fb8c00', '#f57c00', '#ef6c00', '#e65100', '#ffd180', '#ffab40', '#ff9100', '#ff6d00'], 'brown': ['#795548', '#efebe9', '#d7ccc8', '#bcaaa4', '#a1887f', '#8d6e63', '#795548', '#6d4c41', '#5d4037', '#4e342e', '#3e2723'], 'grey': ['#9e9e9e', '#fafafa', '#f5f5f5', '#eeeeee', '#e0e0e0', '#bdbdbd', '#9e9e9e', '#757575', '#616161', '#424242', '#212121'], 'white': ['#ffffff'], 'black': ['#000000']}\n",
    "\n",
    "color_maps = {i: color_maps[i] for i in color_maps if i not in ['clouds', 'silver', 'concrete', 'asbestos', 'wet asphalt', 'midnight blue', 'wet']}\n",
    "\n",
    "CMAP = 'Oranges'\n",
    "prompt = '#1DBCCD'\n",
    "main_color = '#E58F65' # color_maps[notebook_theme]\n",
    "strong_main_color = '#EB9514' # = color_maps[notebook_theme] \n",
    "custom_colors = [strong_main_color, main_color]\n",
    "\n",
    "# ----- Notebook Theme -----\n",
    "\n",
    "html_contents =\"\"\"\n",
    "<!DOCTYPE html>\n",
    "<html lang=\"en\">\n",
    "    <head>\n",
    "        <link rel=\"stylesheet\" href=\"https://www.w3schools.com/w3css/4/w3.css\">\n",
    "        <link rel=\"stylesheet\" href=\"https://fonts.googleapis.com/css?family=Raleway\">\n",
    "        <link rel=\"stylesheet\" href=\"https://fonts.googleapis.com/css?family=Oswald\">\n",
    "        <link rel=\"stylesheet\" href=\"https://fonts.googleapis.com/css?family=Open Sans\">\n",
    "        <link rel=\"stylesheet\" href=\"https://cdnjs.cloudflare.com/ajax/libs/font-awesome/4.7.0/css/font-awesome.min.css\">\n",
    "        <style>\n",
    "        .title-section{\n",
    "            font-family: \"Oswald\", Arial, sans-serif;\n",
    "            font-weight: bold;\n",
    "            color: \"#6A8CAF\";\n",
    "            letter-spacing: 6px;\n",
    "        }\n",
    "        hr { border: 1px solid #E58F65 !important;\n",
    "             color: #E58F65 !important;\n",
    "             background: #E58F65 !important;\n",
    "           }\n",
    "        body {\n",
    "            font-family: \"Open Sans\", sans-serif;\n",
    "            }        \n",
    "        </style>\n",
    "    </head>    \n",
    "</html>\n",
    "\"\"\"\n",
    "\n",
    "HTML(html_contents)"
   ]
  },
  {
   "cell_type": "markdown",
   "id": "370274ae",
   "metadata": {
    "_cell_guid": "42a2c92b-00e6-4c13-b99e-408266d1b964",
    "_uuid": "9b3904ae-5fd7-432b-a10a-1a2446fbcc4b",
    "papermill": {
     "duration": 0.042603,
     "end_time": "2021-10-29T13:38:47.017339",
     "exception": false,
     "start_time": "2021-10-29T13:38:46.974736",
     "status": "completed"
    },
    "tags": []
   },
   "source": [
    "<br><br>\n",
    "<div>    \n",
    "<!--     <div style = \"float:left; width:55%; overflow:hidden;\">         -->\n",
    "        <center><img src=\"https://i.ibb.co/HPfjnwd/8.png\" style = \"max-height:300px;\"></center> \n",
    "<!--     </div> -->\n",
    "<!--     <div style = \"float:right; width:35%; overflow:hidden;\"> -->\n",
    "<!--         <img src=\"img/meditation/Meditation3.gif\">  -->\n",
    "<!--     </div> -->\n",
    "</div>"
   ]
  },
  {
   "cell_type": "markdown",
   "id": "8f24e467",
   "metadata": {
    "_cell_guid": "e6c2dfb7-488f-4740-acd4-34d2b129d5a3",
    "_uuid": "c24a369d-57bd-4934-b944-83cb2afb0eb8",
    "execution": {
     "iopub.execute_input": "2021-10-29T12:29:32.5428Z",
     "iopub.status.busy": "2021-10-29T12:29:32.542453Z",
     "iopub.status.idle": "2021-10-29T12:29:32.550727Z",
     "shell.execute_reply": "2021-10-29T12:29:32.549727Z",
     "shell.execute_reply.started": "2021-10-29T12:29:32.542763Z"
    },
    "papermill": {
     "duration": 0.038588,
     "end_time": "2021-10-29T13:38:47.11039",
     "exception": false,
     "start_time": "2021-10-29T13:38:47.071802",
     "status": "completed"
    },
    "tags": []
   },
   "source": [
    "<a class=\"title-section w3-large w3-tag\" href=\"#more\" style=\"color: white; text-decoration: none; background-color: #1C2833\">SEE ALL DATASETS⬇</a>\n",
    "<hr >"
   ]
  },
  {
   "cell_type": "markdown",
   "id": "552efc0c",
   "metadata": {
    "_cell_guid": "241ce292-edca-4688-a665-c6321e80b438",
    "_uuid": "79576405-5d2f-465f-bb01-10eee623172c",
    "papermill": {
     "duration": 0.036915,
     "end_time": "2021-10-29T13:38:47.184754",
     "exception": false,
     "start_time": "2021-10-29T13:38:47.147839",
     "status": "completed"
    },
    "tags": []
   },
   "source": [
    "<div>    \n",
    "    <div style = \"float:left; width:55%; overflow:hidden;\">        \n",
    "        <br><br><br><br>        \n",
    "        <span style = \"float:right;\">\n",
    "        <h2>Predicting Depression, Anxiety and Stress</h2>\n",
    "        <p>Taylor, J. (1953). \"A personality scale of manifest anxiety\". The Journal of Abnormal and Social Psychology, 48(2), 285-290.</p>\n",
    "        <br>\n",
    "        <b></b>\n",
    "        <b>\n",
    "        - 🌎 <a href=\"https://openpsychometrics.org/tests/DASS/\">Open Psychometrics</a>\n",
    "        <br>\n",
    "        - 🇰 <a href=\"https://www.kaggle.com/yamqwe/depression-anxiety-stress-scales\">Kaggle</a>\n",
    "        </b>            \n",
    "        </span>\n",
    "    </div>\n",
    "    <div style=\"float:right; width:35%; max-height:300px; overflow: hidden;\">        \n",
    "        <img src=\"https://i.ibb.co/LtJY4w8/Meditation19.gif\" style = \"max-height: 300px;\">         \n",
    "    </div>\n",
    "</div>"
   ]
  },
  {
   "cell_type": "markdown",
   "id": "ae871afd",
   "metadata": {
    "_cell_guid": "ca79faf7-ca73-4e9b-8552-be96bdc881f9",
    "_uuid": "4e428101-c977-488b-aa10-fe96d228224f",
    "papermill": {
     "duration": 0.046159,
     "end_time": "2021-10-29T13:38:47.267941",
     "exception": false,
     "start_time": "2021-10-29T13:38:47.221782",
     "status": "completed"
    },
    "tags": []
   },
   "source": [
    "<hr >"
   ]
  },
  {
   "cell_type": "markdown",
   "id": "343f4d2e",
   "metadata": {
    "_cell_guid": "8af163ff-915a-4fae-aefe-6447e64952e5",
    "_uuid": "b328cc9e-a536-4347-beed-d033e9f5ac6a",
    "papermill": {
     "duration": 0.037245,
     "end_time": "2021-10-29T13:38:47.43437",
     "exception": false,
     "start_time": "2021-10-29T13:38:47.397125",
     "status": "completed"
    },
    "tags": []
   },
   "source": [
    "\n",
    ">from: https://openpsychometrics.org/tests/TMAS/<br>\n",
    "><br>\n",
    ">These are the results of an interactive version of the Taylor Manifest Anxiety Scale.<br>\n",
    "><br>\n",
    ">### Introduction:<br>\n",
    "> The Taylor Manifest Anxiety Scale was first developed in 1953 to identify individuals who would be good subjects for studies of stress and other related psychological phenomenon. Since then it has been used as a measure of anxiety as general personality trait. Anxiety is a complex psychological construct that includes a multiple of different facets related to extensive worrying that may impair normal functioning. The test has been widely studied and used in research however there are some concerns that it does not measure a single trait but instead measures a basket of loosely related ones and so the score is not that meaningful.<br>\n",
    "><br>\n",
    ">### Procedure:<br>\n",
    ">The test consists of fifty statements about you. You must rate each one as true or false. It should take most people four to ten minutes to complete.<br>\n",
    "><br>\n",
    ">### Method <br>\n",
    ">This data was collected with an on-line version of the Depression Anxiety Stress Scales (DASS), see http://www2.psy.unsw.edu.au/dass/<br>\n",
    "><br>\n",
    ">The survey was open to anyone and people were motivated to take it to get personalized results. At the end of the test they also were given the option to complete a short research survey. This datatset comes from those who agreed to complete the research survey and answered yes to the question \"Have you given accurate answers and may they be used for research?\" at the end.<br>\n",
    "><br>\n",
    ">This data was collected 2017 - 2019.<br>\n",
    "><br>\n",
    ">The following items were included in the survey:<br>\n",
    "><br>\n",
    ">Q1    I found myself getting upset by quite trivial things.<br>\n",
    ">Q2    I was aware of dryness of my mouth.<br>\n",
    ">Q3    I couldn't seem to experience any positive feeling at all.<br>\n",
    ">Q4    I experienced breathing difficulty (eg, excessively rapid breathing, breathlessness in the absence of physical exertion).<br>\n",
    ">Q5    I just couldn't seem to get going.<br>\n",
    ">Q6    I tended to over-react to situations.<br>\n",
    ">Q7    I had a feeling of shakiness (eg, legs going to give way).<br>\n",
    ">Q8    I found it difficult to relax.<br>\n",
    ">Q9    I found myself in situations that made me so anxious I was most relieved when they ended.<br>\n",
    ">Q10    I felt that I had nothing to look forward to.<br>\n",
    ">Q11    I found myself getting upset rather easily.<br>\n",
    ">Q12    I felt that I was using a lot of nervous energy.<br>\n",
    ">Q13    I felt sad and depressed.<br>\n",
    ">Q14    I found myself getting impatient when I was delayed in any way (eg, elevators, traffic lights, being kept waiting).<br>\n",
    ">Q15    I had a feeling of faintness.<br>\n",
    ">Q16    I felt that I had lost interest in just about everything.<br>\n",
    ">Q17    I felt I wasn't worth much as a person.<br>\n",
    ">Q18    I felt that I was rather touchy.<br>\n",
    ">Q19    I perspired noticeably (eg, hands sweaty) in the absence of high temperatures or physical exertion.<br>\n",
    ">Q20    I felt scared without any good reason.<br>\n",
    ">Q21    I felt that life wasn't worthwhile.<br>\n",
    ">Q22    I found it hard to wind down.<br>\n",
    ">Q23    I had difficulty in swallowing.<br>\n",
    ">Q24    I couldn't seem to get any enjoyment out of the things I did.<br>\n",
    ">Q25    I was aware of the action of my heart in the absence of physical exertion (eg, sense of heart rate increase, heart missing a beat).<br>\n",
    ">Q26    I felt down-hearted and blue.<br>\n",
    ">Q27    I found that I was very irritable.<br>\n",
    ">Q28    I felt I was close to panic.<br>\n",
    ">Q29    I found it hard to calm down after something upset me.<br>\n",
    ">Q30    I feared that I would be \"thrown\" by some trivial but unfamiliar task.<br>\n",
    ">Q31    I was unable to become enthusiastic about anything.<br>\n",
    ">Q32    I found it difficult to tolerate interruptions to what I was doing.<br>\n",
    ">Q33    I was in a state of nervous tension.<br>\n",
    ">Q34    I felt I was pretty worthless.<br>\n",
    ">Q35    I was intolerant of anything that kept me from getting on with what I was doing.<br>\n",
    ">Q36    I felt terrified.<br>\n",
    ">Q37    I could see nothing in the future to be hopeful about.<br>\n",
    ">Q38    I felt that life was meaningless.<br>\n",
    ">Q39    I found myself getting agitated.<br>\n",
    ">Q40    I was worried about situations in which I might panic and make a fool of myself.<br>\n",
    ">Q41    I experienced trembling (eg, in the hands).<br>\n",
    ">Q42    I found it difficult to work up the initiative to do things.<br>\n",
    "><br>\n",
    ">Each item was presented one at a time in a random order for each new participant along with a 4 point rating scale asking the user to indicate how often that had been true of them in the past week where<br>\n",
    "><br>\n",
    ">1 = Did not apply to me at all <br>\n",
    ">2 = Applied to me to some degree, or some of the time<br>\n",
    ">3 = Applied to me to a considerable degree, or a good part of the time<br>\n",
    ">4 = Applied to me very much, or most of the time<br>\n",
    "><br>\n",
    ">(see the file demo1.png for how this looked)<br>\n",
    "><br>\n",
    ">This response is stored in variable A (e.g. Q1A). Also recorded was the time taken in milliseconds to answer that question (E) and that question's position in the survey (I).<br>\n",
    "><br>\n",
    ">These other durations were also recorded (measured on the server's side):<br>\n",
    "><br>\n",
    ">introelapse        The time spent on the introduction/landing page (in seconds)<br>\n",
    ">testelapse        The time spent on all the DASS questions (should be equivalent to the time elapsed on all the indiviudal questions combined)<br>\n",
    ">surveyelapse    The time spent answering the rest of the demographic and survey questions<br>\n",
    "><br>\n",
    ">On the next page was a generic demographics survey with many different questions.<br>\n",
    "><br>\n",
    ">The Ten Item Personality Inventory was administered (see Gosling, S. D., Rentfrow, P. J., & Swann, W. B., Jr. (2003). A Very Brief Measure of the Big Five Personality Domains. Journal of Research in Personality, 37, 504-528.):<br>\n",
    "><br>\n",
    ">TIPI1    Extraverted, enthusiastic.<br>\n",
    ">TIPI2    Critical, quarrelsome.<br>\n",
    ">TIPI3    Dependable, self-disciplined.<br>\n",
    ">TIPI4    Anxious, easily upset.<br>\n",
    ">TIPI5    Open to new experiences, complex.<br>\n",
    ">TIPI6    Reserved, quiet.<br>\n",
    ">TIPI7    Sympathetic, warm.<br>\n",
    ">TIPI8    Disorganized, careless.<br>\n",
    ">TIPI9    Calm, emotionally stable.<br>\n",
    ">TIPI10    Conventional, uncreative.<br>\n",
    "><br>\n",
    ">The TIPI items were rated \"I see myself as:\" _____ such that<br>\n",
    "><br>\n",
    ">1 = Disagree strongly<br>\n",
    ">2 = Disagree moderately<br>\n",
    ">3 = Disagree a little<br>\n",
    ">4 = Neither agree nor disagree<br>\n",
    ">5 = Agree a little<br>\n",
    ">6 = Agree moderately<br>\n",
    ">7 = Agree strongly<br>\n",
    "><br>\n",
    "><br>\n",
    "><br>\n",
    ">The following items were presented as a check-list and subjects were instructed \"In the grid below, check all the words whose definitions you are sure you know\":<br>\n",
    "><br>\n",
    ">VCL1    boat<br>\n",
    ">VCL2    incoherent<br>\n",
    ">VCL3    pallid<br>\n",
    ">VCL4    robot<br>\n",
    ">VCL5    audible<br>\n",
    ">VCL6    cuivocal<br>\n",
    ">VCL7    paucity<br>\n",
    ">VCL8    epistemology<br>\n",
    ">VCL9    florted<br>\n",
    ">VCL10    decide<br>\n",
    ">VCL11    pastiche<br>\n",
    ">VCL12    verdid<br>\n",
    ">VCL13    abysmal<br>\n",
    ">VCL14    lucid<br>\n",
    ">VCL15    betray<br>\n",
    ">VCL16    funny<br>\n",
    "><br>\n",
    ">A value of 1 is checked, 0 means unchecked. The words at VCL6, VCL9, and VCL12 are not real words and can be used as a validity check.<br>\n",
    "><br>\n",
    ">A bunch more questions were then asked:<br>\n",
    "><br>\n",
    "><br>\n",
    ">education            \"How much education have you completed?\", 1=Less than high school, 2=High school, 3=University degree, 4=Graduate degree<br>\n",
    ">urban                \"What type of area did you live when you were a child?\", 1=Rural (country side), 2=Suburban, 3=Urban (town, city)<br>\n",
    ">gender                \"What is your gender?\", 1=Male, 2=Female, 3=Other<br>\n",
    ">engnat                \"Is English your native language?\", 1=Yes, 2=No<br>\n",
    ">age                    \"How many years old are you?\"<br>\n",
    ">hand                \"What hand do you use to write with?\", 1=Right, 2=Left, 3=Both<br>\n",
    ">religion            \"What is your religion?\", 1=Agnostic, 2=Atheist, 3=Buddhist, 4=Christian (Catholic), 5=Christian (Mormon), 6=Christian (Protestant), 7=Christian (Other), 8=Hindu, 9=Jewish, 10=Muslim, 11=Sikh, 12=Other<br>\n",
    ">orientation            \"What is your sexual orientation?\", 1=Heterosexual, 2=Bisexual, 3=Homosexual, 4=Asexual, 5=Other<br>\n",
    ">race                \"What is your race?\", 10=Asian, 20=Arab, 30=Black, 40=Indigenous Australian, 50=Native American, 60=White, 70=Other<br>\n",
    ">voted                \"Have you voted in a national election in the past year?\", 1=Yes, 2=No<br>\n",
    ">married                \"What is your marital status?\", 1=Never married, 2=Currently married, 3=Previously married<br>\n",
    ">familysize            \"Including you, how many children did your mother have?\"        <br>\n",
    ">major                \"If you attended a university, what was your major (e.g. \"psychology\", \"English\", \"civil engineering\")?\"<br>\n",
    "><br>\n",
    ">The following values were derived from technical information:<br>\n",
    "><br>\n",
    ">country                ISO country code of where the user connected from<br>\n",
    ">screensize            1=device with small screen (phone, etc), 2=device with big screen (laptop, desktop, etc)<br>\n",
    ">uniquenetworklocation        1=only one survey from user's specific network in dataset, 2=multiple surveys submitted from the network of this user  (2 does not necessarily imply duplicate records for an individual, as it could be different students at a single school or different memebers of the same household; and even if 1 there still could be duplicate records from a single individual e.g. if they took it once on their wifi and once on their phone)<br>\n",
    ">source            how the user found the test, 1=from the front page of the site hosting the survey, 2=from google, 0=other or unknown<br>\n",
    "><br>\n",
    "\n",
    "<div class=\"alert alert-block alert-warning\">\n",
    "<b>References:</b>\n",
    "<ul>\n",
    "    <li><a href = \"https://openpsychometrics.org/tests/DASS/\">Open Psychometrics</a></li>\n",
    "    <li><a href = \"https://psycnet.apa.org/record/1954-02683-001\">Taylor, J. (1953). \"A personality scale of manifest anxiety\". The Journal of Abnormal and Social Psychology, 48(2), 285-290.\n",
    "</a></li>\n",
    "</ul>\n",
    "</div>"
   ]
  },
  {
   "cell_type": "code",
   "execution_count": 3,
   "id": "7c53b6a5",
   "metadata": {
    "_cell_guid": "e48f0352-0baa-4123-83fa-ca84aa72d4d6",
    "_uuid": "1d97ebb0-802d-4c9f-aee0-7539a0c3e184",
    "collapsed": false,
    "jupyter": {
     "outputs_hidden": false
    },
    "papermill": {
     "duration": 0.136676,
     "end_time": "2021-10-29T13:38:47.60877",
     "exception": false,
     "start_time": "2021-10-29T13:38:47.472094",
     "status": "completed"
    },
    "tags": []
   },
   "outputs": [],
   "source": [
    "import pandas as pd\n",
    "df = pd.read_csv('../data/data.csv', error_bad_lines = False, warn_bad_lines = False, sep=r'\t')\n",
    "codebook = open('../data/codebook.txt', 'r').read()"
   ]
  },
  {
   "cell_type": "markdown",
   "id": "f3d72899",
   "metadata": {
    "_cell_guid": "966e9166-3a01-4d2e-b7e3-519e49d22ceb",
    "_uuid": "0c9fa9b4-f80b-4726-9d02-fb54da3b6f10",
    "papermill": {
     "duration": 0.037321,
     "end_time": "2021-10-29T13:38:47.702942",
     "exception": false,
     "start_time": "2021-10-29T13:38:47.665621",
     "status": "completed"
    },
    "tags": []
   },
   "source": [
    "# <span class=\"title-section w3-xxlarge\" id=\"codebook\">Codebook 📖</span>\n",
    "<hr >"
   ]
  },
  {
   "cell_type": "code",
   "execution_count": 4,
   "id": "a491a5dd",
   "metadata": {
    "_cell_guid": "ecf01d60-3846-44e8-ad43-5d0ab62c216d",
    "_kg_hide-input": true,
    "_uuid": "211eecc9-a2ab-4c34-beef-46dc684c9dd2",
    "collapsed": false,
    "jupyter": {
     "outputs_hidden": false
    },
    "papermill": {
     "duration": 0.051651,
     "end_time": "2021-10-29T13:38:47.791578",
     "exception": false,
     "start_time": "2021-10-29T13:38:47.739927",
     "status": "completed"
    },
    "pycharm": {
     "name": "#%%\n"
    },
    "tags": []
   },
   "outputs": [],
   "source": [
    "def get_from_last_space(line, idx):\n",
    "    to_return = ''\n",
    "    while idx > 0 and line[idx] != ' ':\n",
    "        idx -= 1\n",
    "        to_return += line[idx]\n",
    "    return to_return[::-1]\n",
    "\n",
    "def get_to_next_eq(line, idx):\n",
    "    to_return = ''\n",
    "    while idx < len(line) - 1 and line[idx + 1] != '=':\n",
    "        to_return += line[idx]\n",
    "        idx += 1\n",
    "    return to_return.split('=')[0]\n",
    "\n",
    "def parse_codebook(codebook_text):\n",
    "    q_dict = {}\n",
    "    for line in codebook_text.split('\\n'):\n",
    "        if '.' in line and len(line.split('=')) > 2:\n",
    "            question = line.split('.')[0]\n",
    "            answers = ''.join(line.split('.')[1:])\n",
    "            for idx in range(len(answers)):\n",
    "                if answers[idx] == '=':\n",
    "                    key = get_from_last_space(answers, idx).lstrip()\n",
    "                    if len(key) != 0 and '(' == key[0]: key = key[1:]\n",
    "                    val = get_to_next_eq(answers, idx + 1)\n",
    "                    if val.endswith(', '): val = val[:-2]\n",
    "                    if question not in q_dict: q_dict[question] = {}\n",
    "                    if key not in q_dict[question]: q_dict[question][key] = val\n",
    "    return q_dict\n",
    "\n",
    "q_dict = parse_codebook(codebook)"
   ]
  },
  {
   "cell_type": "code",
   "execution_count": 5,
   "id": "ca7b2699",
   "metadata": {
    "tags": []
   },
   "outputs": [
    {
     "data": {
      "text/plain": [
       "{}"
      ]
     },
     "execution_count": 5,
     "metadata": {},
     "output_type": "execute_result"
    }
   ],
   "source": [
    "q_dict"
   ]
  },
  {
   "cell_type": "code",
   "execution_count": 4,
   "id": "8e513a6d",
   "metadata": {
    "_cell_guid": "850db3da-f69e-47a8-891c-61b35b38d3f5",
    "_kg_hide-input": true,
    "_uuid": "c8167820-5dd3-43de-8436-cabfa981d28b",
    "collapsed": false,
    "execution": {
     "iopub.execute_input": "2021-10-29T13:38:47.87255Z",
     "iopub.status.busy": "2021-10-29T13:38:47.871704Z",
     "iopub.status.idle": "2021-10-29T13:38:47.874937Z",
     "shell.execute_reply": "2021-10-29T13:38:47.875381Z",
     "shell.execute_reply.started": "2021-10-29T12:52:34.250323Z"
    },
    "jupyter": {
     "outputs_hidden": false
    },
    "papermill": {
     "duration": 0.046083,
     "end_time": "2021-10-29T13:38:47.875557",
     "exception": false,
     "start_time": "2021-10-29T13:38:47.829474",
     "status": "completed"
    },
    "tags": []
   },
   "outputs": [],
   "source": [
    "from IPython.display import display, HTML\n",
    "display(HTML('<pre style=\"color:DimGrey !important\">' + '\\n'.join(codebook.split('\\n')[:10]) + '<br><br>...<br><br><br><b>see original file: codebook.txt..</b><br>' + '</pre>'))"
   ]
  },
  {
   "cell_type": "markdown",
   "id": "4a7a5d19",
   "metadata": {
    "_cell_guid": "3208562a-4f7a-45d5-b8e2-67da427cd906",
    "_uuid": "d7276e81-829f-4be5-967d-0a641fb1adbf",
    "papermill": {
     "duration": 0.037447,
     "end_time": "2021-10-29T13:38:47.950458",
     "exception": false,
     "start_time": "2021-10-29T13:38:47.913011",
     "status": "completed"
    },
    "tags": []
   },
   "source": [
    "# <span class=\"title-section w3-xxlarge\" id=\"outline\">Table Of Content 📑</span>\n",
    "<hr >"
   ]
  },
  {
   "cell_type": "markdown",
   "id": "541b3fd4",
   "metadata": {
    "_cell_guid": "d70815a1-3398-43b2-be85-2230fffd89a9",
    "_uuid": "e9b980c5-036c-4e25-992b-115169a95ba4",
    "papermill": {
     "duration": 0.040583,
     "end_time": "2021-10-29T13:38:48.028885",
     "exception": false,
     "start_time": "2021-10-29T13:38:47.988302",
     "status": "completed"
    },
    "tags": []
   },
   "source": [
    "#### Table Of Content\n",
    "\n",
    "1. [📝 Introduction](#introduction)\n",
    "\n",
    "2. [📖 Codebook](#codebook) \n",
    "\n",
    "3. [📑 Table Of Content](#outline) \n",
    "\n",
    "4. [🤿 Diving into the Data](#diving) \n",
    "\n",
    "5. [📚 Imports](#imports) \n",
    "\n",
    "6. [🧮 Correlations](#corr) \n",
    "\n",
    "7. [💭 Dimensionality Reduction](#dimred)  \n",
    "\n",
    "8. [📊 Categorical Columns](#categs)  \n",
    "\n",
    "9. [📉 Numerical Columns](#numerics)\n",
    "\n",
    "10. [🗂️ More of the series](#more)"
   ]
  },
  {
   "cell_type": "markdown",
   "id": "f96ab083",
   "metadata": {
    "_cell_guid": "310c5bce-3fab-4a82-b70e-d5e8a0e5e594",
    "_uuid": "ce509f90-2ae9-4ea3-94ad-39479b72ca12",
    "papermill": {
     "duration": 0.038699,
     "end_time": "2021-10-29T13:38:48.105343",
     "exception": false,
     "start_time": "2021-10-29T13:38:48.066644",
     "status": "completed"
    },
    "tags": []
   },
   "source": [
    "# <span class=\"title-section w3-xxlarge\" id=\"outline\">Diving into the Data 🤿</span>\n",
    "<hr >"
   ]
  },
  {
   "cell_type": "markdown",
   "id": "553d50b1",
   "metadata": {
    "_cell_guid": "ca6da936-954f-427b-af0c-f04517c4d4ed",
    "_uuid": "a91494a0-a071-49e5-bcc0-9c7b7566ad75",
    "papermill": {
     "duration": 0.036962,
     "end_time": "2021-10-29T13:38:48.179784",
     "exception": false,
     "start_time": "2021-10-29T13:38:48.142822",
     "status": "completed"
    },
    "tags": []
   },
   "source": [
    "\n",
    "#### **<span>Dataset Structure</span>**\n",
    "> **dataset.csv** - The answers collected from the test-takers\n",
    "> \n",
    "> **codebook.txt** - A supplementary description file that explains the dataset \n",
    "> \n",
    "> - ℹ️ Multiple postings by the same test-taker might have the exact ID, but with different answers.\n",
    "> \n",
    "> \n",
    "> - 📌 Test answers are always self-describing and can be biased. \n",
    "> \n",
    "> - 📌 There are 1000 answers in the dataset\n",
    ">\n",
    "> - 📌 There are 200 questions in the test"
   ]
  },
  {
   "cell_type": "code",
   "execution_count": 5,
   "id": "69160ac9",
   "metadata": {
    "_cell_guid": "75405d52-594f-4791-a45a-16354bc24cfa",
    "_kg_hide-input": true,
    "_kg_hide-output": true,
    "_uuid": "775496bb-f633-46f4-a642-10e6cd29c1bb",
    "collapsed": false,
    "execution": {
     "iopub.execute_input": "2021-10-29T13:38:48.258919Z",
     "iopub.status.busy": "2021-10-29T13:38:48.257892Z",
     "iopub.status.idle": "2021-10-29T13:38:48.268957Z",
     "shell.execute_reply": "2021-10-29T13:38:48.269468Z",
     "shell.execute_reply.started": "2021-10-29T12:52:34.274423Z"
    },
    "jupyter": {
     "outputs_hidden": false
    },
    "papermill": {
     "duration": 0.052444,
     "end_time": "2021-10-29T13:38:48.269664",
     "exception": false,
     "start_time": "2021-10-29T13:38:48.21722",
     "status": "completed"
    },
    "tags": []
   },
   "outputs": [],
   "source": [
    "css_file = '''\n",
    "div #notebook {\n",
    "background-color: white;\n",
    "font-family: 'Open Sans', Helvetica, sans-serif;\n",
    "line-height: 20px;\n",
    "}\n",
    "\n",
    "#notebook-container {\n",
    "margin-top: 2em;\n",
    "padding-top: 2em;\n",
    "border-top: 4px solid %s; /* light orange */\n",
    "-webkit-box-shadow: 0px 0px 8px 2px rgba(224, 212, 226, 0.5); /* pink */\n",
    "    box-shadow: 0px 0px 8px 2px rgba(224, 212, 226, 0.5); /* pink */\n",
    "}\n",
    "\n",
    "div .input {\n",
    "margin-bottom: 1em;\n",
    "}\n",
    "\n",
    ".rendered_html h1, .rendered_html h2, .rendered_html h3, .rendered_html h4, .rendered_html h5, .rendered_html h6 {\n",
    "color: %s; /* light orange */\n",
    "font-weight: 600;\n",
    "}\n",
    "\n",
    ".rendered_html code {\n",
    "    background-color: #efefef; /* light gray */\n",
    "}\n",
    "\n",
    ".CodeMirror {\n",
    "color: #8c8c8c; /* dark gray */\n",
    "padding: 0.7em;\n",
    "}\n",
    "\n",
    "div.input_area {\n",
    "border: none;\n",
    "    background-color: %s; /* rgba(229, 143, 101, 0.1); light orange [exactly #E58F65] */\n",
    "    border-top: 2px solid %s; /* light orange */\n",
    "}\n",
    "\n",
    "div.input_prompt {\n",
    "color: %s; /* light blue */\n",
    "}\n",
    "\n",
    "div.output_prompt {\n",
    "color: %s; /* strong orange */\n",
    "}\n",
    "\n",
    "div.cell.selected:before, div.cell.selected.jupyter-soft-selected:before {\n",
    "background: %s; /* light orange */\n",
    "}\n",
    "\n",
    "div.cell.selected, div.cell.selected.jupyter-soft-selected {\n",
    "    border-color: %s; /* light orange */\n",
    "}\n",
    "\n",
    ".edit_mode div.cell.selected:before {\n",
    "background: %s; /* light orange */\n",
    "}\n",
    "\n",
    ".edit_mode div.cell.selected {\n",
    "border-color: %s; /* light orange */\n",
    "\n",
    "}\n",
    "'''\n",
    "def to_rgb(h): return tuple(int(h[i:i+2], 16) for i in (0, 2, 4))\n",
    "main_color_rgba = 'rgba(%s, %s, %s, 0.1)' % (to_rgb(main_color[1:])[0], to_rgb(main_color[1:])[1], to_rgb(main_color[1:])[2])\n",
    "open('notebook.css', 'w').write(css_file % (main_color, main_color, main_color_rgba, main_color,  prompt, strong_main_color, main_color, main_color, main_color, main_color))\n",
    "from IPython.core.display import display, HTML, Javascript\n",
    "def nb(): return HTML(\"<style>\" + open(\"notebook.css\", \"r\").read() + \"</style>\")\n",
    "nb()"
   ]
  },
  {
   "cell_type": "code",
   "execution_count": 6,
   "id": "a7c914b5",
   "metadata": {
    "_cell_guid": "75d3e80e-0c31-48f5-88dd-5b6a3c79cf38",
    "_kg_hide-input": true,
    "_kg_hide-output": true,
    "_uuid": "968efaca-ede8-4817-b3aa-baedaba3205e",
    "collapsed": false,
    "execution": {
     "iopub.execute_input": "2021-10-29T13:38:48.36471Z",
     "iopub.status.busy": "2021-10-29T13:38:48.363774Z",
     "iopub.status.idle": "2021-10-29T13:38:48.370008Z",
     "shell.execute_reply": "2021-10-29T13:38:48.36937Z",
     "shell.execute_reply.started": "2021-10-29T12:52:34.293927Z"
    },
    "jupyter": {
     "outputs_hidden": false
    },
    "papermill": {
     "duration": 0.062624,
     "end_time": "2021-10-29T13:38:48.370222",
     "exception": false,
     "start_time": "2021-10-29T13:38:48.307598",
     "status": "completed"
    },
    "tags": []
   },
   "outputs": [],
   "source": [
    "from IPython.core.display import display, HTML, Javascript\n",
    "# def nb(): return HTML(\"<style>\" + open(\"../input/starter-utils/css_oranges.css\", \"r\").read() + \"</style>\")\n",
    "def nb(): return HTML(\"<style>\" + open(\"notebook.css\", \"r\").read() + \"</style>\")\n",
    "nb()"
   ]
  },
  {
   "cell_type": "markdown",
   "id": "a66812c3",
   "metadata": {
    "_cell_guid": "347324aa-490a-4556-bcc4-36379bdbec7c",
    "_uuid": "03824ce3-fc08-4d19-926d-27edbb773466",
    "papermill": {
     "duration": 0.042103,
     "end_time": "2021-10-29T13:38:48.463264",
     "exception": false,
     "start_time": "2021-10-29T13:38:48.421161",
     "status": "completed"
    },
    "tags": []
   },
   "source": [
    "# <span class=\"title-section w3-xxlarge\" id=\"outline\">Libraries 📚</span>\n",
    "<hr >"
   ]
  },
  {
   "cell_type": "markdown",
   "id": "75e217e2",
   "metadata": {
    "_cell_guid": "f5bdcf7b-aa74-4204-9ff2-f20042b819e0",
    "_uuid": "78d84509-539f-4a94-a546-e228b28ea70a",
    "papermill": {
     "duration": 0.03764,
     "end_time": "2021-10-29T13:38:48.539249",
     "exception": false,
     "start_time": "2021-10-29T13:38:48.501609",
     "status": "completed"
    },
    "tags": []
   },
   "source": [
    "#### Code starts here ⬇"
   ]
  },
  {
   "cell_type": "code",
   "execution_count": 7,
   "id": "6b5e3870",
   "metadata": {
    "_cell_guid": "70e49853-b3f0-4df1-bae4-2d6ec816e5bf",
    "_kg_hide-output": true,
    "_uuid": "eddb1644-d1bb-4a24-a638-5ed8d6481fd0",
    "collapsed": false,
    "execution": {
     "iopub.execute_input": "2021-10-29T13:38:48.619327Z",
     "iopub.status.busy": "2021-10-29T13:38:48.618731Z",
     "iopub.status.idle": "2021-10-29T13:39:16.458457Z",
     "shell.execute_reply": "2021-10-29T13:39:16.457901Z",
     "shell.execute_reply.started": "2021-10-29T12:52:34.30871Z"
    },
    "jupyter": {
     "outputs_hidden": false
    },
    "papermill": {
     "duration": 27.88081,
     "end_time": "2021-10-29T13:39:16.458629",
     "exception": false,
     "start_time": "2021-10-29T13:38:48.577819",
     "status": "completed"
    },
    "tags": []
   },
   "outputs": [],
   "source": [
    "import os\n",
    "import time\n",
    "import shap\n",
    "import random\n",
    "import xgboost\n",
    "import numpy as np\n",
    "import pandas as pd\n",
    "from umap import UMAP\n",
    "import networkx as nx\n",
    "import seaborn as sns\n",
    "import plotly.express as px\n",
    "import matplotlib.pyplot as plt\n",
    "from sklearn.manifold import TSNE\n",
    "import plotly.graph_objects as go\n",
    "from lightgbm import LGBMClassifier\n",
    "from sklearn.metrics import log_loss\n",
    "from catboost import CatBoostClassifier\n",
    "from plotly.subplots import make_subplots\n",
    "from sklearn.preprocessing import LabelEncoder\n",
    "from sklearn.model_selection import StratifiedKFold\n",
    "from sklearn.metrics import roc_auc_score,roc_curve,auc\n",
    "from sklearn.metrics import roc_curve, precision_recall_curve\n",
    "\n",
    "import warnings; warnings.filterwarnings(\"ignore\")"
   ]
  },
  {
   "cell_type": "code",
   "execution_count": 8,
   "id": "5d3d9029",
   "metadata": {
    "_cell_guid": "286032df-6d3c-4926-afbd-0b77e8074f1d",
    "_kg_hide-input": true,
    "_uuid": "f20a26c2-946e-4efc-8738-9e912441aab3",
    "collapsed": false,
    "execution": {
     "iopub.execute_input": "2021-10-29T13:39:16.541735Z",
     "iopub.status.busy": "2021-10-29T13:39:16.541099Z",
     "iopub.status.idle": "2021-10-29T13:39:16.545248Z",
     "shell.execute_reply": "2021-10-29T13:39:16.545748Z",
     "shell.execute_reply.started": "2021-10-29T12:53:03.964853Z"
    },
    "jupyter": {
     "outputs_hidden": false
    },
    "papermill": {
     "duration": 0.048088,
     "end_time": "2021-10-29T13:39:16.545926",
     "exception": false,
     "start_time": "2021-10-29T13:39:16.497838",
     "status": "completed"
    },
    "pycharm": {
     "name": "#%%\n"
    },
    "tags": []
   },
   "outputs": [],
   "source": [
    "sns.set_context(\"poster\", font_scale = 0.6,rc = {\"grid.linewidth\": 0.4})\n",
    "sns.set_style({'font.family':'serif'})"
   ]
  },
  {
   "cell_type": "code",
   "execution_count": 9,
   "id": "0b9b26d8",
   "metadata": {
    "_cell_guid": "6a286b71-aafe-4a38-a110-811d249691cf",
    "_uuid": "e37f5f91-c898-4745-b2b9-97318731ee87",
    "collapsed": false,
    "execution": {
     "iopub.execute_input": "2021-10-29T13:39:16.627015Z",
     "iopub.status.busy": "2021-10-29T13:39:16.626392Z",
     "iopub.status.idle": "2021-10-29T13:39:16.647133Z",
     "shell.execute_reply": "2021-10-29T13:39:16.647704Z",
     "shell.execute_reply.started": "2021-10-29T12:53:03.972025Z"
    },
    "jupyter": {
     "outputs_hidden": false
    },
    "papermill": {
     "duration": 0.062958,
     "end_time": "2021-10-29T13:39:16.647884",
     "exception": false,
     "start_time": "2021-10-29T13:39:16.584926",
     "status": "completed"
    },
    "tags": []
   },
   "outputs": [],
   "source": [
    "df.head()"
   ]
  },
  {
   "cell_type": "code",
   "execution_count": 10,
   "id": "5d03f921",
   "metadata": {
    "_cell_guid": "68588adc-d530-4186-8efe-8b0d3b3546d5",
    "_kg_hide-input": true,
    "_uuid": "b742837c-2677-460f-967e-24d10abfe0bc",
    "collapsed": false,
    "execution": {
     "iopub.execute_input": "2021-10-29T13:39:16.729924Z",
     "iopub.status.busy": "2021-10-29T13:39:16.72929Z",
     "iopub.status.idle": "2021-10-29T13:39:17.0023Z",
     "shell.execute_reply": "2021-10-29T13:39:17.001774Z",
     "shell.execute_reply.started": "2021-10-29T12:53:04.009115Z"
    },
    "jupyter": {
     "outputs_hidden": false
    },
    "papermill": {
     "duration": 0.315251,
     "end_time": "2021-10-29T13:39:17.002454",
     "exception": false,
     "start_time": "2021-10-29T13:39:16.687203",
     "status": "completed"
    },
    "scrolled": true,
    "tags": []
   },
   "outputs": [],
   "source": [
    "fig = make_subplots(rows=1, cols=2)\n",
    "fig.add_trace(go.Indicator(mode = \"number\", value = df.shape[0], number={'font':{'color': '#E58F65','size':100}}, title = {\"text\": \"🧑‍🤝‍🧑 Participants<br><span style='font-size:0.8em;color:gray'>Took the test</span>\"}, domain = {'x': [0, 0.5], 'y': [0.6, 1]}))\n",
    "fig.add_trace(go.Indicator(mode = \"number\", value = df.shape[1], number={'font':{'color': '#E58F65','size':100}}, title = {\"text\": \"❓ Questions<br><span style='font-size:0.8em;color:gray'>On the test</span>\"}, domain = {'x': [0.5, 1], 'y': [0, 0.4]}))\n",
    "fig.show()"
   ]
  },
  {
   "cell_type": "markdown",
   "id": "937379f9",
   "metadata": {
    "_cell_guid": "bcfc1fe6-c7d9-4e4d-91de-07137a09005d",
    "_uuid": "b1aa4eae-62d3-4eb8-a249-6fea41836e4b",
    "papermill": {
     "duration": 0.040576,
     "end_time": "2021-10-29T13:39:17.083879",
     "exception": false,
     "start_time": "2021-10-29T13:39:17.043303",
     "status": "completed"
    },
    "tags": []
   },
   "source": [
    "<div>  \n",
    "<center><h3 style = \"font-weight:lighter;\">Column Descriptive Statistics</h3></center>\n",
    "</div>"
   ]
  },
  {
   "cell_type": "code",
   "execution_count": 11,
   "id": "cb03298b",
   "metadata": {
    "_cell_guid": "729a7afc-e73b-4d52-b711-c2a22335e5c7",
    "_uuid": "a5f9ba85-8fed-4041-bd6d-bd95cb451b3d",
    "collapsed": false,
    "execution": {
     "iopub.execute_input": "2021-10-29T13:39:17.16877Z",
     "iopub.status.busy": "2021-10-29T13:39:17.168093Z",
     "iopub.status.idle": "2021-10-29T13:39:17.36182Z",
     "shell.execute_reply": "2021-10-29T13:39:17.36229Z",
     "shell.execute_reply.started": "2021-10-29T12:53:04.317536Z"
    },
    "jupyter": {
     "outputs_hidden": false
    },
    "papermill": {
     "duration": 0.237845,
     "end_time": "2021-10-29T13:39:17.362467",
     "exception": false,
     "start_time": "2021-10-29T13:39:17.124622",
     "status": "completed"
    },
    "tags": []
   },
   "outputs": [],
   "source": [
    "df.describe().T.style.background_gradient(cmap = CMAP)"
   ]
  },
  {
   "cell_type": "markdown",
   "id": "cd257fc8",
   "metadata": {
    "_cell_guid": "d204cf1a-37f0-4401-b0e1-918168780b90",
    "_uuid": "bb6e8b56-5154-4366-8365-3b98b0b251ef",
    "papermill": {
     "duration": 0.042185,
     "end_time": "2021-10-29T13:39:17.447708",
     "exception": false,
     "start_time": "2021-10-29T13:39:17.405523",
     "status": "completed"
    },
    "tags": []
   },
   "source": [
    "# <span class=\"title-section w3-xxlarge\" id=\"outline\">Correlations 🧮</span>\n",
    "<hr >"
   ]
  },
  {
   "cell_type": "markdown",
   "id": "c4744f59",
   "metadata": {
    "_cell_guid": "7a93daa2-c4fb-4dc5-a366-73a99f7bfbce",
    "_uuid": "b890f1ab-d872-424e-a6aa-aa2c614afd81",
    "papermill": {
     "duration": 0.041332,
     "end_time": "2021-10-29T13:39:17.530786",
     "exception": false,
     "start_time": "2021-10-29T13:39:17.489454",
     "status": "completed"
    },
    "tags": []
   },
   "source": [
    "<center><h3 style = \"font-weight:lighter;\">Correlation Matrix ⚅</h3></center>\n",
    "\n",
    "\n",
    "> A correlation matrix is simply a table which displays the correlation. The measure is best used in variables that demonstrate a linear relationship between each other. The fit of the data can be visually represented in a scatterplot. ... A correlation matrix consists of rows and columns that show the variables."
   ]
  },
  {
   "cell_type": "code",
   "execution_count": 12,
   "id": "483685ae",
   "metadata": {
    "_cell_guid": "53d3809f-24c6-4179-8c38-a50690e17d35",
    "_uuid": "7bfbc9d5-fb46-482c-963f-fe6e2fc23537",
    "collapsed": false,
    "execution": {
     "iopub.execute_input": "2021-10-29T13:39:17.617778Z",
     "iopub.status.busy": "2021-10-29T13:39:17.617115Z",
     "iopub.status.idle": "2021-10-29T13:39:17.846006Z",
     "shell.execute_reply": "2021-10-29T13:39:17.846499Z",
     "shell.execute_reply.started": "2021-10-29T12:53:04.534281Z"
    },
    "jupyter": {
     "outputs_hidden": false
    },
    "papermill": {
     "duration": 0.274001,
     "end_time": "2021-10-29T13:39:17.846708",
     "exception": false,
     "start_time": "2021-10-29T13:39:17.572707",
     "status": "completed"
    },
    "tags": []
   },
   "outputs": [],
   "source": [
    "df.corr().style.background_gradient(cmap = CMAP)"
   ]
  },
  {
   "cell_type": "code",
   "execution_count": 13,
   "id": "147f70b5",
   "metadata": {
    "_cell_guid": "3b9dfe50-940f-4dcc-ab85-e30e0684ba9a",
    "_uuid": "bd412aee-7947-4501-ab54-0b86ffafe107",
    "collapsed": false,
    "execution": {
     "iopub.execute_input": "2021-10-29T13:39:17.950877Z",
     "iopub.status.busy": "2021-10-29T13:39:17.95027Z",
     "iopub.status.idle": "2021-10-29T13:39:19.038487Z",
     "shell.execute_reply": "2021-10-29T13:39:19.037887Z",
     "shell.execute_reply.started": "2021-10-29T12:53:04.82089Z"
    },
    "jupyter": {
     "outputs_hidden": false
    },
    "papermill": {
     "duration": 1.140614,
     "end_time": "2021-10-29T13:39:19.038649",
     "exception": false,
     "start_time": "2021-10-29T13:39:17.898035",
     "status": "completed"
    },
    "tags": []
   },
   "outputs": [],
   "source": [
    "plt.figure(figsize=(16,16),dpi=80)\n",
    "corr = df.corr()\n",
    "mask = np.triu(np.ones_like(corr, dtype=bool))\n",
    "sns.heatmap(corr, mask=mask, cmap = CMAP, robust=True, center=0, square=True, linewidths=.5)\n",
    "plt.title('Correlation', fontsize=15)\n",
    "plt.show()"
   ]
  },
  {
   "cell_type": "markdown",
   "id": "505cf6c7",
   "metadata": {
    "_cell_guid": "c7bd2057-2956-4b09-abe1-d17bb245cdd0",
    "_uuid": "00229928-9d6b-46e3-98ba-4267a4240eb0",
    "papermill": {
     "duration": 0.05177,
     "end_time": "2021-10-29T13:39:19.144052",
     "exception": false,
     "start_time": "2021-10-29T13:39:19.092282",
     "status": "completed"
    },
    "tags": []
   },
   "source": [
    "<center><h3 style = \"font-weight:lighter;\">Correlation Network ⚛</h3></center>\n",
    "\n",
    "\n",
    "> Showing highly correlated columns as a network so we can capture patterns"
   ]
  },
  {
   "cell_type": "code",
   "execution_count": 14,
   "id": "846bcbc8",
   "metadata": {
    "_cell_guid": "d65b499b-394d-4f74-b6b1-fe3fe668e353",
    "_kg_hide-input": true,
    "_uuid": "fdbce054-4a90-4724-a0de-2b807deaabc9",
    "collapsed": false,
    "execution": {
     "iopub.execute_input": "2021-10-29T13:39:19.257895Z",
     "iopub.status.busy": "2021-10-29T13:39:19.257204Z",
     "iopub.status.idle": "2021-10-29T13:39:19.661998Z",
     "shell.execute_reply": "2021-10-29T13:39:19.661424Z",
     "shell.execute_reply.started": "2021-10-29T12:53:05.996184Z"
    },
    "jupyter": {
     "outputs_hidden": false
    },
    "papermill": {
     "duration": 0.465735,
     "end_time": "2021-10-29T13:39:19.662161",
     "exception": false,
     "start_time": "2021-10-29T13:39:19.196426",
     "status": "completed"
    },
    "tags": []
   },
   "outputs": [],
   "source": [
    "thresh = 0.3\n",
    "def correlation_network(data, corr_interval=[-0.8, 0.8], data_type=\"Train\", node_color=custom_colors[1]):\n",
    "    data = data\n",
    "    corr = data.corr()\n",
    "    corr = pd.melt(corr.reset_index(), id_vars='index')\n",
    "    corr.columns = ['x', 'y', 'value']\n",
    "    high_corr = corr[((corr['value'] <= corr_interval[0]) | (corr['value'] >= corr_interval[1]))]\n",
    "    high_corr = high_corr[(high_corr['value'] != 1)].reset_index(drop=True)\n",
    "    sources = list(high_corr.x.unique())\n",
    "    targets = list(high_corr.y.unique())\n",
    "    plt.figure(figsize=(16, 12))\n",
    "    g = nx.from_pandas_edgelist(high_corr, source='x', target='y') \n",
    "    layout = nx.spring_layout(g, iterations=50, k=0.6, seed=1337)\n",
    "    target_size = [g.degree(t) * 80 for t in targets]\n",
    "    nx.draw_networkx_nodes(g, layout, nodelist=targets, node_size=target_size, node_color=node_color)\n",
    "    nx.draw_networkx_nodes(g, layout, nodelist=sources, node_color=node_color, node_size=800, alpha=0.5)\n",
    "    nx.draw_networkx_edges(g, layout, width=1, edge_color=custom_colors[1])\n",
    "    target_dict = dict(zip(targets, targets))\n",
    "    nx.draw_networkx_labels(g, layout, labels=target_dict)\n",
    "    plt.axis('off')\n",
    "    plt.title(f\"Column Correlations Network\", fontsize=25)\n",
    "    plt.show()\n",
    "correlation_network(data=df, corr_interval=[-thresh, thresh], data_type=\"Train\", node_color=custom_colors[0])"
   ]
  },
  {
   "cell_type": "markdown",
   "id": "08db6388",
   "metadata": {
    "_cell_guid": "e413e894-b4e1-45b8-be25-51de4de79a7f",
    "_uuid": "cd325719-a31d-4210-a1e3-679458e2b636",
    "papermill": {
     "duration": 0.059378,
     "end_time": "2021-10-29T13:39:19.780495",
     "exception": false,
     "start_time": "2021-10-29T13:39:19.721117",
     "status": "completed"
    },
    "tags": []
   },
   "source": [
    "# <span class=\"title-section w3-xxlarge\" id=\"outline\">Dimensionality Reduction 💭</span>\n",
    "<hr >"
   ]
  },
  {
   "cell_type": "code",
   "execution_count": 15,
   "id": "25cab998",
   "metadata": {
    "_cell_guid": "b1ed8889-f457-4ecd-8d5f-7941190bd3d9",
    "_kg_hide-input": true,
    "_uuid": "8c75ee35-8212-4538-b191-543025426c10",
    "collapsed": false,
    "execution": {
     "iopub.execute_input": "2021-10-29T13:39:19.910611Z",
     "iopub.status.busy": "2021-10-29T13:39:19.909533Z",
     "iopub.status.idle": "2021-10-29T13:39:19.912926Z",
     "shell.execute_reply": "2021-10-29T13:39:19.913444Z",
     "shell.execute_reply.started": "2021-10-29T12:53:06.437318Z"
    },
    "jupyter": {
     "outputs_hidden": false
    },
    "papermill": {
     "duration": 0.072564,
     "end_time": "2021-10-29T13:39:19.913642",
     "exception": false,
     "start_time": "2021-10-29T13:39:19.841078",
     "status": "completed"
    },
    "tags": []
   },
   "outputs": [],
   "source": [
    "train_pp = df.copy()\n",
    "def plot_dr(technique, title):\n",
    "    start = time.time()\n",
    "    technique = technique(n_components = 2)\n",
    "    result = technique.fit_transform(train_pp[train_pp.select_dtypes(include='number').columns].values)\n",
    "    plt.figure(figsize = (16, 8))\n",
    "    plt.scatter(result[:,0], result[:,1], c = train_pp['gender' if 'gender' in train_pp.columns else list(train_pp.columns)[0]].values, s = 0.7, cmap=CMAP)\n",
    "    plt.title(title,fontsize=18, fontweight='bold')\n",
    "    plt.xticks([])\n",
    "    plt.yticks([])\n",
    "    plt.show()\n",
    "    print('Duration: {} seconds'.format(time.time() - start))"
   ]
  },
  {
   "cell_type": "markdown",
   "id": "75f4d687",
   "metadata": {
    "_cell_guid": "d9db40d1-9ecd-4795-9712-fec3cd614535",
    "_uuid": "1075a132-ddfb-4eed-bed8-c7fd9c006a4b",
    "papermill": {
     "duration": 0.059329,
     "end_time": "2021-10-29T13:39:20.032228",
     "exception": false,
     "start_time": "2021-10-29T13:39:19.972899",
     "status": "completed"
    },
    "tags": []
   },
   "source": [
    "<center><h3 style = \"font-weight:lighter;\">UMAP 🗾</h3></center>\n",
    "\n",
    "> Uniform Manifold Approximation and Projection (UMAP) is a dimension reduction technique that can be used for visualisation similarly to t-SNE, but also for general non-linear dimension reduction. <br> see: https://umap-learn.readthedocs.io/en/latest/ \n",
    ">"
   ]
  },
  {
   "cell_type": "code",
   "execution_count": 16,
   "id": "1d66ef64",
   "metadata": {
    "_cell_guid": "c8569ead-227e-4ced-908c-71b807427cff",
    "_uuid": "91abb189-7e16-497d-801e-dfd58ac63fd4",
    "collapsed": false,
    "execution": {
     "iopub.execute_input": "2021-10-29T13:39:20.15419Z",
     "iopub.status.busy": "2021-10-29T13:39:20.153543Z",
     "iopub.status.idle": "2021-10-29T13:39:20.155655Z",
     "shell.execute_reply": "2021-10-29T13:39:20.155084Z",
     "shell.execute_reply.started": "2021-10-29T12:53:06.447762Z"
    },
    "jupyter": {
     "outputs_hidden": false
    },
    "papermill": {
     "duration": 0.064018,
     "end_time": "2021-10-29T13:39:20.1558",
     "exception": false,
     "start_time": "2021-10-29T13:39:20.091782",
     "status": "completed"
    },
    "tags": []
   },
   "outputs": [],
   "source": [
    "plot_dr(UMAP, \"UMAP\")"
   ]
  },
  {
   "cell_type": "markdown",
   "id": "8b1c3107",
   "metadata": {
    "_cell_guid": "bb0372f8-0633-4d15-afa5-91f9d34be1bc",
    "_uuid": "7a47ffe0-1d97-4e78-b6f6-dc39e3f3a8a3",
    "papermill": {
     "duration": 0.058645,
     "end_time": "2021-10-29T13:39:20.273616",
     "exception": false,
     "start_time": "2021-10-29T13:39:20.214971",
     "status": "completed"
    },
    "tags": []
   },
   "source": [
    "<center><h3 style = \"font-weight:lighter;\">TSNE 🗾</h3></center>\n",
    "\n",
    "\n",
    "> t-SNE is a tool to visualize high-dimensional data. It converts similarities between data points to joint probabilities and tries to minimize the Kullback-Leibler divergence between the joint probabilities of the low-dimensional embedding and the high-dimensional data. t-SNE has a cost function that is not convex, i.e. with different initializations we can get different results. <br> see: https://scikit-learn.org/stable/modules/generated/sklearn.manifold.TSNE.html"
   ]
  },
  {
   "cell_type": "code",
   "execution_count": 17,
   "id": "5f1b78e3",
   "metadata": {
    "_cell_guid": "208778aa-d592-4080-ab4d-ddeca1fed0e3",
    "_uuid": "5a953b25-9e49-4902-98e7-bfa9ff4489af",
    "collapsed": false,
    "execution": {
     "iopub.execute_input": "2021-10-29T13:39:20.39987Z",
     "iopub.status.busy": "2021-10-29T13:39:20.399202Z",
     "iopub.status.idle": "2021-10-29T13:39:20.401992Z",
     "shell.execute_reply": "2021-10-29T13:39:20.402462Z",
     "shell.execute_reply.started": "2021-10-29T12:53:06.466521Z"
    },
    "jupyter": {
     "outputs_hidden": false
    },
    "papermill": {
     "duration": 0.068844,
     "end_time": "2021-10-29T13:39:20.402686",
     "exception": false,
     "start_time": "2021-10-29T13:39:20.333842",
     "status": "completed"
    },
    "tags": []
   },
   "outputs": [],
   "source": [
    "plot_dr(TSNE, \"TSNE\")"
   ]
  },
  {
   "cell_type": "markdown",
   "id": "7e323f7f",
   "metadata": {
    "_cell_guid": "7e025b5f-3965-4252-a8b7-4213fd7cc02b",
    "_uuid": "7c3c80da-8879-4764-b8b1-c25e5833c386",
    "papermill": {
     "duration": 0.05952,
     "end_time": "2021-10-29T13:39:20.521184",
     "exception": false,
     "start_time": "2021-10-29T13:39:20.461664",
     "status": "completed"
    },
    "tags": []
   },
   "source": [
    "# <span class=\"title-section w3-xxlarge\" id=\"outline\">Categorical Columns 📊</span>\n",
    "<hr >"
   ]
  },
  {
   "cell_type": "markdown",
   "id": "016a88f5",
   "metadata": {
    "_cell_guid": "a19232b8-a0f2-4959-b987-a1cdaea3a47b",
    "_uuid": "9288e13c-d418-48d5-a34f-8b97d8102c75",
    "papermill": {
     "duration": 0.0588,
     "end_time": "2021-10-29T13:39:20.639129",
     "exception": false,
     "start_time": "2021-10-29T13:39:20.580329",
     "status": "completed"
    },
    "tags": []
   },
   "source": [
    "<center><h3 style = \"font-weight:lighter;\">Categorical Columns</h3></center>\n",
    "\n",
    "> A categorical variable takes only a limited number of values. we will find them automaticlly based on this."
   ]
  },
  {
   "cell_type": "code",
   "execution_count": 18,
   "id": "41dc6673",
   "metadata": {
    "_cell_guid": "804e48af-45c5-4792-b457-690c34e08d1e",
    "_kg_hide-input": true,
    "_uuid": "b83323ac-f9ea-4f32-904e-a76736ae5c3a",
    "collapsed": false,
    "execution": {
     "iopub.execute_input": "2021-10-29T13:39:20.758825Z",
     "iopub.status.busy": "2021-10-29T13:39:20.758114Z",
     "iopub.status.idle": "2021-10-29T13:39:22.467221Z",
     "shell.execute_reply": "2021-10-29T13:39:22.466637Z",
     "shell.execute_reply.started": "2021-10-29T13:21:07.414481Z"
    },
    "jupyter": {
     "outputs_hidden": false
    },
    "papermill": {
     "duration": 1.770012,
     "end_time": "2021-10-29T13:39:22.467366",
     "exception": false,
     "start_time": "2021-10-29T13:39:20.697354",
     "status": "completed"
    },
    "tags": []
   },
   "outputs": [],
   "source": [
    "\n",
    "import pandas as pd\n",
    "import seaborn as sns\n",
    "import matplotlib.pyplot as plt\n",
    "import matplotlib.font_manager as fm\n",
    "import matplotlib.gridspec as gridspec\n",
    "\n",
    "sns.set_style(\"whitegrid\")\n",
    "\n",
    "def plot_barchart(df, col, order = None, x_label = None, y1_label = None, y2_label = None, title = None, figsize = (20, 4), plot_percentage = False, display_table = False, barh = False, colors = None, padding = None):    \n",
    "    try: plt.close()\n",
    "    except: pass\n",
    "    plt.style.use('seaborn-poster')\n",
    "    g = df[col].value_counts(ascending = True).to_dict()\n",
    "    ticks = list(g.keys())\n",
    "    data = list(g.values())\n",
    "    ind = np.arange(len(data))\n",
    "    fig = plt.figure(tight_layout=True)\n",
    "    ax = plt.subplot(111)\n",
    "    # ax.set_yticks(ind * 0.5)\n",
    "    ax.set_yticks(ind)\n",
    "    bar = ax.barh(ind, data, 0.8, color = colors)\n",
    "    # ax.set_yticks(ind * 0.5)\n",
    "    for i, rect in enumerate(bar.patches):\n",
    "        h = rect.get_height()\n",
    "        w = rect.get_width()\n",
    "        y = rect.get_y()\n",
    "        ax.annotate(f\"{w}\", (w, y + h / 2), color = 'k', size = 12, ha = 'left', va = 'center')    \n",
    "    r = ax.set_yticklabels(ticks, ha = 'left')\n",
    "    fig.set_size_inches(figsize[0], figsize[1], forward=True)     \n",
    "    plt.draw()\n",
    "    yax = ax.get_yaxis()    \n",
    "    if padding is None: pad = max(T.label.get_window_extent().width for T in yax.majorTicks)\n",
    "    else: pad = padding\n",
    "    yax.set_tick_params(pad=pad)\n",
    "    ax.grid(False)\n",
    "    plt.title('\\n\\n' + col)    \n",
    "    plt.draw()\n",
    "    plt.show()\n",
    "\n",
    "def get_max_width(df, col, order = None, x_label = None, y1_label = None, y2_label = None, title = None, figsize = (20, 4), plot_percentage = False, display_table = False, barh = False, colors = None, padding = None):\n",
    "    try: plt.close()\n",
    "    except: pass\n",
    "    plt.style.use('seaborn-poster')\n",
    "    g = df[col].value_counts(ascending = True).to_dict()\n",
    "    ticks = list(g.keys())\n",
    "    data = list(g.values())    \n",
    "    ind = np.arange(len(data))\n",
    "    fig = plt.figure(tight_layout=True)\n",
    "    ax = plt.subplot(111)\n",
    "    ax.barh(ind, data, 0.999)\n",
    "    ax.set_yticks(ind + 0.5)\n",
    "    r = ax.set_yticklabels(ticks, ha = 'left')\n",
    "    fig.set_size_inches(figsize[0], figsize[1], forward=True)     \n",
    "    plt.draw()\n",
    "    yax = ax.get_yaxis()    \n",
    "    pad = max(T.label.get_window_extent().width for T in yax.majorTicks)\n",
    "    yax.set_tick_params(pad=pad)\n",
    "    try: plt.close()\n",
    "    except: pass\n",
    "    return pad\n",
    "    \n",
    "max_of_maxes = -1\n",
    "categs = [i for i in df.columns if len(df[i].unique()) < 10 or i in df.select_dtypes(exclude='number').columns]\n",
    "plt_df = df.copy()\n",
    "for col in categs:\n",
    "    if col in q_dict: plt_df[col] = plt_df[col].astype('str').map(q_dict[col])    \n",
    "    max_size = max([len(i) for i in plt_df[col].astype('str').tolist()])    \n",
    "    max_of_maxes = max(max_of_maxes, max_size)\n",
    "\n",
    "plt_df = df.copy()\n",
    "max_pad_of_maxes = -1\n",
    "for col in categs:\n",
    "    if col in q_dict: plt_df[col] = plt_df[col].astype('str').map(q_dict[col])    \n",
    "    max_size = get_max_width(plt_df, col, x_label = None, y1_label = None, title = col, barh = True, colors = custom_colors)\n",
    "    max_pad_of_maxes = max(max_pad_of_maxes, max_size)\n",
    "    \n",
    "for col in categs:\n",
    "    plot_barchart(plt_df, col, x_label = None, y1_label = None, title = col, barh = True, colors = color_maps[random.choice(list(color_maps.keys()))][2:], padding = max_pad_of_maxes, figsize = (20, min(len(plt_df[col].unique()), 20)))"
   ]
  },
  {
   "cell_type": "markdown",
   "id": "adad5a46",
   "metadata": {
    "_cell_guid": "c0e1b36d-0f20-4806-962e-b5ef5d810a20",
    "_uuid": "1a30c587-a375-44fb-a562-e4ca5b86a27e",
    "papermill": {
     "duration": 0.062455,
     "end_time": "2021-10-29T13:39:22.5923",
     "exception": false,
     "start_time": "2021-10-29T13:39:22.529845",
     "status": "completed"
    },
    "tags": []
   },
   "source": [
    "# <span class=\"title-section w3-xxlarge\" id=\"outline\">Numerical Columns 📉</span>\n",
    "<hr >"
   ]
  },
  {
   "cell_type": "markdown",
   "id": "28965582",
   "metadata": {
    "_cell_guid": "f5e1c910-301c-4ce7-97f1-2da3306f90ff",
    "_uuid": "8ed44655-9bd8-425d-b78a-e5df53e31c73",
    "papermill": {
     "duration": 0.063823,
     "end_time": "2021-10-29T13:39:22.719608",
     "exception": false,
     "start_time": "2021-10-29T13:39:22.655785",
     "status": "completed"
    },
    "tags": []
   },
   "source": [
    "<center><h3 style = \"font-weight:lighter;\">Numerical Columns</h3></center>\n",
    "\n",
    "> Anything that is not categorical in our data will be considered numerical"
   ]
  },
  {
   "cell_type": "code",
   "execution_count": 19,
   "id": "60fea25e",
   "metadata": {
    "_cell_guid": "d3a85431-dec2-4da1-8b12-8d5b7af3cf49",
    "_kg_hide-input": true,
    "_kg_hide-output": true,
    "_uuid": "58782225-bbb2-4227-8891-0f58c4c48116",
    "collapsed": false,
    "execution": {
     "iopub.execute_input": "2021-10-29T13:39:22.849705Z",
     "iopub.status.busy": "2021-10-29T13:39:22.84897Z",
     "iopub.status.idle": "2021-10-29T13:39:22.857287Z",
     "shell.execute_reply": "2021-10-29T13:39:22.85789Z",
     "shell.execute_reply.started": "2021-10-29T12:53:08.57439Z"
    },
    "jupyter": {
     "outputs_hidden": false
    },
    "papermill": {
     "duration": 0.075536,
     "end_time": "2021-10-29T13:39:22.858136",
     "exception": false,
     "start_time": "2021-10-29T13:39:22.7826",
     "status": "completed"
    },
    "tags": []
   },
   "outputs": [],
   "source": [
    "def hist(col, title):\n",
    "    plt.figure(figsize = (20, 8))\n",
    "    ax = sns.distplot(col,kde=False);\n",
    "    values = np.array([patch.get_height() for patch in ax.patches])\n",
    "    norm = plt.Normalize(values.min(), values.max())\n",
    "    colors = plt.cm.rainbow(norm(values))\n",
    "    for patch, color in zip(ax.patches, colors): patch.set_color(color)\n",
    "    plt.title(title, size = 20, color = custom_colors[0])\n",
    "    sns.set_style(\"whitegrid\")\n",
    "def triple_plot(x, title,c):\n",
    "    fig, ax = plt.subplots(3,1,figsize=(20, 8),sharex=True)\n",
    "    sns.distplot(x, ax=ax[0],color=c)\n",
    "    ax[0].set(xlabel=None)\n",
    "    ax[0].set_title('Histogram + KDE')\n",
    "    sns.boxplot(x, ax=ax[1],color=c)\n",
    "    ax[1].set(xlabel=None)\n",
    "    ax[1].set_title('Boxplot')\n",
    "    sns.violinplot(x, ax=ax[2],color=c)\n",
    "    ax[2].set(xlabel=None)\n",
    "    ax[2].set_title('Violin plot')\n",
    "    #     fig.suptitle(title, fontsize=16)\n",
    "    plt.tight_layout(pad=3.0)\n",
    "    plt.show()"
   ]
  },
  {
   "cell_type": "code",
   "execution_count": 20,
   "id": "f2f06137",
   "metadata": {
    "_cell_guid": "aff41238-c99b-474b-a0f6-8ce7db7128a8",
    "_kg_hide-input": false,
    "_uuid": "2d560b9d-1f71-43eb-810a-c7330d7f3e80",
    "collapsed": false,
    "execution": {
     "iopub.execute_input": "2021-10-29T13:39:22.991159Z",
     "iopub.status.busy": "2021-10-29T13:39:22.990342Z",
     "iopub.status.idle": "2021-10-29T13:39:26.136376Z",
     "shell.execute_reply": "2021-10-29T13:39:26.136897Z",
     "shell.execute_reply.started": "2021-10-29T13:12:36.71682Z"
    },
    "jupyter": {
     "outputs_hidden": false
    },
    "papermill": {
     "duration": 3.214213,
     "end_time": "2021-10-29T13:39:26.137089",
     "exception": false,
     "start_time": "2021-10-29T13:39:22.922876",
     "status": "completed"
    },
    "tags": []
   },
   "outputs": [],
   "source": [
    "import random\n",
    "for col in [i for i in df.columns if i not in categs]: \n",
    "    hist(df[col], 'Distribution of ' + col)    \n",
    "    triple_plot(df[col],'Distribution ' + col, random.choice(list(color_maps.values()))[4])"
   ]
  },
  {
   "cell_type": "markdown",
   "id": "1e990ea6",
   "metadata": {
    "_cell_guid": "4ab2c2a7-eac6-401e-9e95-41e0ec25ce7b",
    "_uuid": "f6a6f236-e305-4a6a-b0a8-24de3a269f81",
    "papermill": {
     "duration": 0.067209,
     "end_time": "2021-10-29T13:39:26.27337",
     "exception": false,
     "start_time": "2021-10-29T13:39:26.206161",
     "status": "completed"
    },
    "tags": []
   },
   "source": [
    "\n",
    "# <span class=\"title-section w3-xxlarge\">References</span>\n",
    "<span id=\"f1\">1.</span> [🛍️ Shopee: EDA + RAPIDS preprocessing + W&B](https://www.kaggle.com/ruchi798/shopee-eda-rapids-preprocessing-w-b)<br>\n",
    "<span id=\"f2\">2.</span> [Custom Jupyter Notebook Theme with plain CSS 🎨](https://medium.com/@formigone/my-first-custom-theme-for-jupyter-notebook-a9c1e69efdfe)<br>\n",
    "<span id=\"f3\">3.</span> [Canva 🖌️](https://www.canva.com/en_gb/)</span><br>\n",
    "<span id=\"f4\">4.</span> [Machine Learning and Data Science Survey Analysis](https://www.kaggle.com/corneliuskristianto/machine-learning-and-data-science-survey-analysis)</span><br>\n",
    "<span id=\"f5\">5.</span> [📖 I.CommonLit: Explore + XGBRF&RepeatedFold Model](https://www.kaggle.com/andradaolteanu/i-commonlit-explore-xgbrf-repeatedfold-model)</span><br>\n",
    "\n",
    "\n",
    "<span class=\"title-section w3-large w3-tag\">WORK IN PROGRESS! 🚧</span>"
   ]
  },
  {
   "cell_type": "markdown",
   "id": "65dedec6",
   "metadata": {
    "_cell_guid": "7e51d681-d230-4dae-b3fd-fe4a5922fe50",
    "_uuid": "17a8779d-15bb-45df-b931-01eb41fb5c38",
    "papermill": {
     "duration": 0.070443,
     "end_time": "2021-10-29T13:39:26.415741",
     "exception": false,
     "start_time": "2021-10-29T13:39:26.345298",
     "status": "completed"
    },
    "tags": []
   },
   "source": [
    "<br><br><br>\n",
    "# <span class=\"title-section w3-xxlarge\" id=\"more\">🗂️ More of the series</span>\n",
    "<hr >"
   ]
  },
  {
   "cell_type": "code",
   "execution_count": 21,
   "id": "09229f0a",
   "metadata": {
    "_cell_guid": "3daa495c-3a07-4ae7-9779-9f5aa7d25a12",
    "_kg_hide-input": true,
    "_uuid": "8b635d03-e450-4655-b296-5359cac0280d",
    "collapsed": false,
    "execution": {
     "iopub.execute_input": "2021-10-29T13:39:26.557881Z",
     "iopub.status.busy": "2021-10-29T13:39:26.557198Z",
     "iopub.status.idle": "2021-10-29T13:39:26.559823Z",
     "shell.execute_reply": "2021-10-29T13:39:26.560261Z",
     "shell.execute_reply.started": "2021-10-29T12:53:09.457457Z"
    },
    "jupyter": {
     "outputs_hidden": false
    },
    "papermill": {
     "duration": 0.077134,
     "end_time": "2021-10-29T13:39:26.560434",
     "exception": false,
     "start_time": "2021-10-29T13:39:26.4833",
     "status": "completed"
    },
    "tags": []
   },
   "outputs": [],
   "source": [
    "%%html\n",
    "<style>\n",
    "// add your CSS styling here\n",
    "div.verdana {    \n",
    "    font-family:verdana;\n",
    "}\n",
    "\n",
    "div.bigger {\n",
    "    font-size: 20pt;\n",
    "}\n",
    "</style>\n",
    "<style>\n",
    ".dataset-link {    \n",
    "              border-top: #E58F65 1px solid; \n",
    "              border-bottom: #E58F65 1px solid; \n",
    "              padding-top:10px; padding-bottom:10px;\n",
    "              cursor: pointer;\n",
    "              cursor: hand;                            \n",
    "              padding-right: 20px;\n",
    "              padding-left: 20px;\n",
    "              color: #1B2631;\n",
    "              text-decoration: none;\n",
    "}    \n",
    ".dataset-link:hover {\n",
    "                        background-color:#ffdab9;\n",
    "                        color:#1B2631; \n",
    "                        text-decoration:none; \n",
    "                        cursor:pointer;  \n",
    "                    }\n",
    ".noselect {\n",
    "  -webkit-touch-callout: none; /* iOS Safari */\n",
    "    -webkit-user-select: none; /* Safari */\n",
    "     -khtml-user-select: none; /* Konqueror HTML */\n",
    "       -moz-user-select: none; /* Firefox */\n",
    "        -ms-user-select: none; /* Internet Explorer/Edge */\n",
    "            user-select: none; /* Non-prefixed version, currently\n",
    "                                  supported by Chrome and Opera */\n",
    "}    \n",
    "</style>"
   ]
  },
  {
   "cell_type": "markdown",
   "id": "1838979c",
   "metadata": {
    "_cell_guid": "7a023c04-9145-4254-b360-8c449437c6c3",
    "_uuid": "d0a152dc-a664-4f58-87f4-f23d23a3dde9",
    "papermill": {
     "duration": 0.068109,
     "end_time": "2021-10-29T13:39:26.696767",
     "exception": false,
     "start_time": "2021-10-29T13:39:26.628658",
     "status": "completed"
    },
    "tags": []
   },
   "source": [
    "<div class=\"dataset-link noselect\" onclick=\"window.open('https://www.kaggle.com/yamqwe/analog-to-multiple-broadband-inventories', '_blank'); return false;\">\n",
    "    <h3>Multiple Broadband Inventories Personality Test</h3>\n",
    "    <p style=\"max-width:600px\">📃 - Yarkoni, T. (2010). The abbreviation of personality, or how to measure 200 personality scales with 200 items. Journal of Research in Personality, 44, 180-198.</p>\n",
    "    🇰 - https://www.kaggle.com/yamqwe/analog-to-multiple-broadband-inventories\n",
    "</div>"
   ]
  },
  {
   "cell_type": "markdown",
   "id": "a55cb80e",
   "metadata": {
    "_cell_guid": "de3c2df0-263a-4460-a871-a93b44abb66d",
    "_uuid": "1110b5b8-6087-404b-8885-809c819cbaff",
    "papermill": {
     "duration": 0.068487,
     "end_time": "2021-10-29T13:39:26.833396",
     "exception": false,
     "start_time": "2021-10-29T13:39:26.764909",
     "status": "completed"
    },
    "tags": []
   },
   "source": [
    "<div class=\"dataset-link noselect\" onclick=\"window.open('https://www.kaggle.com/yamqwe/what-is-your-style-of-humor', '_blank'); return false;\">\n",
    "    <h3>What is your style of Humor?</h3>\n",
    "    <p style=\"max-width:600px\">📃 - Martin, R. A., Puhlik-Doris, P., Larsen, G., Gray, J., & Weir, K. (2003). Individual differences in uses of humor and their relation to psychological well-being: Development of the Humor Styles Questionnaire. Journal of Research in Personality, 37, 48-75.</p>\n",
    "    🇰 - https://www.kaggle.com/yamqwe/what-is-your-style-of-humor\n",
    "</div>"
   ]
  },
  {
   "cell_type": "markdown",
   "id": "1cb228c5",
   "metadata": {
    "_cell_guid": "ab767f13-7a26-47a2-abef-5b60e12c6406",
    "_uuid": "17490986-7af5-40a7-87eb-ee1a028ba02e",
    "papermill": {
     "duration": 0.06794,
     "end_time": "2021-10-29T13:39:26.96973",
     "exception": false,
     "start_time": "2021-10-29T13:39:26.90179",
     "status": "completed"
    },
    "tags": []
   },
   "source": [
    "<div class=\"dataset-link noselect\" onclick=\"window.open('https://www.kaggle.com/yamqwe/fisher-temperament-inventory', '_blank'); return false;\">\n",
    "    <h3>The Fisher Temperament Test</h3>\n",
    "    <p style=\"max-width:600px\">📃 - Brown, Lucy L., Bianca Acevedo, and Helen E. Fisher. \"Neural correlates of four broad temperament dimensions: testing predictions for a novel construct of personality.\" PloS one 8.11 (2013): e78734.</p>\n",
    "    🇰 - https://www.kaggle.com/yamqwe/fisher-temperament-inventory\n",
    "</div>"
   ]
  },
  {
   "cell_type": "markdown",
   "id": "49cf2c61",
   "metadata": {
    "_cell_guid": "a99e7466-8750-4d08-9228-a82ca3b410ae",
    "_uuid": "bf815c20-eed0-4a88-bfdc-5be1ed33aeac",
    "papermill": {
     "duration": 0.067912,
     "end_time": "2021-10-29T13:39:27.107778",
     "exception": false,
     "start_time": "2021-10-29T13:39:27.039866",
     "status": "completed"
    },
    "tags": []
   },
   "source": [
    "<div class=\"dataset-link noselect\" onclick=\"window.open('https://www.kaggle.com/yamqwe/measuring-belief-in-conspiracy-theories', '_blank'); return false;\">\n",
    "    <h3>Measuring Belief In Conspiracy Theories</h3>\n",
    "    <p style=\"max-width:600px\">📃 - Brotherton, Robert, Christopher C. French, and Alan D. Pickering. \"Measuring belief in conspiracy theories: the generic conspiracist beliefs scale.\" Frontiers in psychology 4 (2013). </p>\n",
    "    🇰 - https://www.kaggle.com/yamqwe/measuring-belief-in-conspiracy-theories\n",
    "</div>"
   ]
  },
  {
   "cell_type": "markdown",
   "id": "7ada3898",
   "metadata": {
    "_cell_guid": "3e607f48-3962-4de9-92ad-89ffef3daea2",
    "_uuid": "b2760b39-f77e-4589-b555-077d396b3900",
    "papermill": {
     "duration": 0.06844,
     "end_time": "2021-10-29T13:39:27.245725",
     "exception": false,
     "start_time": "2021-10-29T13:39:27.177285",
     "status": "completed"
    },
    "tags": []
   },
   "source": [
    "<div class=\"dataset-link noselect\" onclick=\"window.open('https://www.kaggle.com/yamqwe/empathizingsystemizing-test', '_blank'); return false;\">\n",
    "    <h3>Male & Female Differ? Empathizing-Systemizing Test</h3>\n",
    "    <p style=\"max-width:600px\">📃 - Baron-Cohen, S., Richler, J., Bisarya, D., Gurunathan, N., & Wheelwright, S. (2003). The systemizing quotient: An investigation of adults with Asperger Syndrome or high-functioning autism, and normal sex differences. In U. Frith & E. Hill (Eds.), Autism: Mind and brain (pp. 161,1-7186). Oxford: Oxford University Press.</p>\n",
    "    🇰 - https://www.kaggle.com/yamqwe/empathizingsystemizing-test\n",
    "</div>"
   ]
  },
  {
   "cell_type": "markdown",
   "id": "4a1ec14f",
   "metadata": {
    "_cell_guid": "9c7b5876-6459-499e-8b9b-ffc036a924cd",
    "_uuid": "09563cf4-2108-4f90-99aa-37cd0eabd1db",
    "papermill": {
     "duration": 0.068913,
     "end_time": "2021-10-29T13:39:27.383299",
     "exception": false,
     "start_time": "2021-10-29T13:39:27.314386",
     "status": "completed"
    },
    "tags": []
   },
   "source": [
    "<div class=\"dataset-link noselect\" onclick=\"window.open('https://www.kaggle.com/yamqwe/wagner-preference-inventory', '_blank'); return false;\">\n",
    "    <h3>Wagner Preference Inventory Test</h3>\n",
    "    <p style=\"max-width:600px\">📃 - Wagner, Rudolph F., and Kelly A. Wells. \"A refined neurobehavioral inventory of hemispheric preference.\" Journal of clinical psychology 41.5 (1985): 671-676.</p>\n",
    "    🇰 - https://www.kaggle.com/yamqwe/wagner-preference-inventory\n",
    "</div>"
   ]
  },
  {
   "cell_type": "markdown",
   "id": "a196d442",
   "metadata": {
    "_cell_guid": "c30a8d27-e40b-4a18-b985-36f87a6bb30c",
    "_uuid": "f3387330-ba7c-41b5-bb43-772784bb3829",
    "papermill": {
     "duration": 0.069452,
     "end_time": "2021-10-29T13:39:27.522218",
     "exception": false,
     "start_time": "2021-10-29T13:39:27.452766",
     "status": "completed"
    },
    "tags": []
   },
   "source": [
    "<div class=\"dataset-link noselect\" onclick=\"window.open('https://www.kaggle.com/yamqwe/vocabulary-iq-test', '_blank'); return false;\">\n",
    "    <h3>Vocabulary IQ Results</h3>\n",
    "    <p style=\"max-width:600px\">📃 - https://openpsychometrics.org/tests/VIQT/</p>\n",
    "    🇰 - https://www.kaggle.com/yamqwe/vocabulary-iq-test\n",
    "</div>"
   ]
  },
  {
   "cell_type": "markdown",
   "id": "285ef9a2",
   "metadata": {
    "_cell_guid": "2e7685bb-d1c7-4c60-b881-7e660d1aa1b3",
    "_uuid": "611a0703-7e97-45c4-be17-221b6dfcc46c",
    "papermill": {
     "duration": 0.077836,
     "end_time": "2021-10-29T13:39:27.669535",
     "exception": false,
     "start_time": "2021-10-29T13:39:27.591699",
     "status": "completed"
    },
    "tags": []
   },
   "source": [
    "<div class=\"dataset-link noselect\" onclick=\"window.open('https://www.kaggle.com/yamqwe/which-character-personality-test', '_blank'); return false;\">\n",
    "    <h3>https://www.kaggle.com/yamqwe/which-character-personality-test</h3>\n",
    "    <p style=\"max-width:600px\">📃 - https://openpsychometrics.org/tests/characters/</p>\n",
    "    🇰 - https://www.kaggle.com/yamqwe/which-character-personality-test\n",
    "</div>"
   ]
  },
  {
   "cell_type": "markdown",
   "id": "9a649582",
   "metadata": {
    "_cell_guid": "bc00be63-ef5e-4841-8cef-38579989da8c",
    "_uuid": "98034d32-fbdf-409c-b83c-ca544f5efbb3",
    "papermill": {
     "duration": 0.068903,
     "end_time": "2021-10-29T13:39:27.807723",
     "exception": false,
     "start_time": "2021-10-29T13:39:27.73882",
     "status": "completed"
    },
    "tags": []
   },
   "source": [
    "<div class=\"dataset-link noselect\" onclick=\"window.open('https://www.kaggle.com/yamqwe/hypersensitive-narcissism-dirty-dozen', '_blank'); return false;\">\n",
    "    <h3>Hypersensitive Narcissism Dirty Dozen</h3>\n",
    "    <p style=\"max-width:600px\">📃 - The Hyper Sensitive Narcissism Scale. Hendin, H.; & Cheek, J. (1997). \"Assessing Hypersensitive Narcissism: A Re-examination of Murray's Narcissism Scale\". Journal of Research in Personality, 31, 588-599.</p>\n",
    "    🇰 - https://www.kaggle.com/yamqwe/hypersensitive-narcissism-dirty-dozen\n",
    "</div>"
   ]
  },
  {
   "cell_type": "markdown",
   "id": "d9399c27",
   "metadata": {
    "_cell_guid": "9896d61d-f58b-4c91-8eec-af874d3a8286",
    "_uuid": "dd859606-0650-488c-93f9-cbe88b2f8b94",
    "papermill": {
     "duration": 0.068699,
     "end_time": "2021-10-29T13:39:27.945201",
     "exception": false,
     "start_time": "2021-10-29T13:39:27.876502",
     "status": "completed"
    },
    "tags": []
   },
   "source": [
    "<div class=\"dataset-link noselect\" onclick=\"window.open('https://www.kaggle.com/yamqwe/open-hemispheric-brain-dominance-scale', '_blank'); return false;\">\n",
    "    <h3>Left or Right Brain? - Hemispheric Brain Dominance</h3>\n",
    "    <p style=\"max-width:600px\">📃 - Eric Jorgenson (2015). \"Development of the Open Hemispheric Brain Dominance Scale\".</p>\n",
    "    🇰 - https://www.kaggle.com/yamqwe/open-hemispheric-brain-dominance-scale\n",
    "</div>"
   ]
  },
  {
   "cell_type": "markdown",
   "id": "15583829",
   "metadata": {
    "_cell_guid": "c4aa7cde-e1ff-4d32-8162-fabf679aae6c",
    "_uuid": "ecb86eaa-95df-43df-8ee7-176ab4f3d9fd",
    "papermill": {
     "duration": 0.069485,
     "end_time": "2021-10-29T13:39:28.08511",
     "exception": false,
     "start_time": "2021-10-29T13:39:28.015625",
     "status": "completed"
    },
    "tags": []
   },
   "source": [
    "<div class=\"dataset-link noselect\" onclick=\"window.open('Christopher F. Chabris, Union College, Schenectady, NY, and accepted by the Editorial Board September 17, 2015 (received for review April 1, 2015)', '_blank'); return false;\">\n",
    "    <h3>Does birth order effect personality?</h3>\n",
    "    <p style=\"max-width:600px\">📃 - https://openpsychometrics.org/tests/birthorder/development/</p>\n",
    "    🇰 - Christopher F. Chabris, Union College, Schenectady, NY, and accepted by the Editorial Board September 17, 2015 (received for review April 1, 2015)\n",
    "</div>"
   ]
  },
  {
   "cell_type": "markdown",
   "id": "ecb86f89",
   "metadata": {
    "_cell_guid": "fda0ad92-6e34-40ce-aeac-ff14b4ae004c",
    "_uuid": "0f721c49-99d3-4cab-9d3c-83c8e80b064a",
    "papermill": {
     "duration": 0.070782,
     "end_time": "2021-10-29T13:39:28.224752",
     "exception": false,
     "start_time": "2021-10-29T13:39:28.15397",
     "status": "completed"
    },
    "tags": []
   },
   "source": [
    "<div class=\"dataset-link noselect\" onclick=\"window.open('https://www.kaggle.com/yamqwe/exposure-based-face-memory-test/settings', '_blank'); return false;\">\n",
    "    <h3>Are you also bad with faces? - Face memory test</h3>\n",
    "    <p style=\"max-width:600px\">📃 - Andy Calder, Gillian Rhodes, Mark Johnson, and Jim Haxby (editors). \"Oxford handbook of face perception\". New York: Oxford University Press, 2011.</p>\n",
    "    🇰 - https://www.kaggle.com/yamqwe/exposure-based-face-memory-test/settings\n",
    "</div>"
   ]
  },
  {
   "cell_type": "markdown",
   "id": "272cb43f",
   "metadata": {
    "_cell_guid": "602311a0-9de0-4c99-ad03-ff8f2dfcad2d",
    "_uuid": "b9aa7592-2afb-4021-97d7-9fd00ceff7b2",
    "papermill": {
     "duration": 0.068128,
     "end_time": "2021-10-29T13:39:28.361392",
     "exception": false,
     "start_time": "2021-10-29T13:39:28.293264",
     "status": "completed"
    },
    "tags": []
   },
   "source": [
    "<div class=\"dataset-link noselect\" onclick=\"window.open('https://www.kaggle.com/yamqwe/rosenberg-selfesteem-scale', '_blank'); return false;\">\n",
    "    <h3>Are You Awesome?! - Predicting self esteem!</h3>\n",
    "    <p style=\"max-width:600px\">📃 - Rosenberg, M. (1965). Society and the adolescent self-image. Princeton, NJ: Princeton University Press. </p>\n",
    "    🇰 - https://www.kaggle.com/yamqwe/rosenberg-selfesteem-scale\n",
    "</div>"
   ]
  },
  {
   "cell_type": "markdown",
   "id": "b724e88c",
   "metadata": {
    "_cell_guid": "9f0290ae-7cb7-4598-a117-6a1ad3c7c0f6",
    "_uuid": "0c8f6ad9-b9f8-41aa-b5af-4ded1e9e022f",
    "papermill": {
     "duration": 0.068141,
     "end_time": "2021-10-29T13:39:28.498086",
     "exception": false,
     "start_time": "2021-10-29T13:39:28.429945",
     "status": "completed"
    },
    "tags": []
   },
   "source": [
    "<div class=\"dataset-link noselect\" onclick=\"window.open('https://www.kaggle.com/yamqwe/artistic-preferences-scale/settings', '_blank'); return false;\">\n",
    "    <h3>Predicting your awful taste in Art! Survey results</h3>\n",
    "    <p style=\"max-width:600px\">📃 - Development of the Artistic Preferences Scales. openpsychometrics.</p>\n",
    "    🇰 - https://www.kaggle.com/yamqwe/artistic-preferences-scale/settings\n",
    "</div>"
   ]
  },
  {
   "cell_type": "markdown",
   "id": "00389804",
   "metadata": {
    "_cell_guid": "8a595c38-8213-46b7-9c5b-a76d3b9574c6",
    "_uuid": "331f4cda-17be-477b-8e19-f33408548f90",
    "papermill": {
     "duration": 0.067889,
     "end_time": "2021-10-29T13:39:28.634267",
     "exception": false,
     "start_time": "2021-10-29T13:39:28.566378",
     "status": "completed"
    },
    "tags": []
   },
   "source": [
    "<div class=\"dataset-link noselect\" onclick=\"window.open('https://www.kaggle.com/yamqwe/sexual-compulsivity-scale', '_blank'); return false;\">\n",
    "    <h3>What causes high libido? Sexual Compulsivity Scale</h3>\n",
    "    <p style=\"max-width:600px\">📃 - Benotsch, E.G., Kalichman, S.C., and Pinkerton, S.D. (2001). Sexual Compulsivity in HIVPositive Men and Women: Prevalence, Predictors, and Consequences of High-Risk Behaviors. Sexual Addiction and Compulsivity: Journal of Treatment and Prevention 8, 83-99. Kalichman, S.C. and Rompa, D. (2001). The Sexual Compulsivity Scale: Further</p>\n",
    "    🇰 - https://www.kaggle.com/yamqwe/sexual-compulsivity-scale\n",
    "</div>"
   ]
  },
  {
   "cell_type": "markdown",
   "id": "4a42c73e",
   "metadata": {
    "_cell_guid": "e1c4642d-f799-4ffa-a05d-529dd8c4f619",
    "_uuid": "0514be1c-74e3-4762-b28f-9cab4d3ee6fb",
    "papermill": {
     "duration": 0.068096,
     "end_time": "2021-10-29T13:39:28.770532",
     "exception": false,
     "start_time": "2021-10-29T13:39:28.702436",
     "status": "completed"
    },
    "tags": []
   },
   "source": [
    "<div class=\"dataset-link noselect\" onclick=\"window.open('https://www.kaggle.com/yamqwe/multidimensional-sexual-selfconcept', '_blank'); return false;\">\n",
    "    <h3>The Multidimensional Sexual Self-Concept Questionnaire (MSSCQ) by Dr. William E. Snell, Jr.</h3>\n",
    "    <p style=\"max-width:600px\">📃 - TBD</p>\n",
    "    🇰 - https://www.kaggle.com/yamqwe/multidimensional-sexual-selfconcept\n",
    "</div>"
   ]
  },
  {
   "cell_type": "markdown",
   "id": "c7968d73",
   "metadata": {
    "_cell_guid": "dff23957-a4e0-4e46-9229-0b2b8fe98cf1",
    "_uuid": "3fc90ab2-ab08-4f97-8f86-1f581ef9f65c",
    "papermill": {
     "duration": 0.068796,
     "end_time": "2021-10-29T13:39:28.908656",
     "exception": false,
     "start_time": "2021-10-29T13:39:28.83986",
     "status": "completed"
    },
    "tags": []
   },
   "source": [
    "<div class=\"dataset-link noselect\" onclick=\"window.open('Fractionating Human Intelligence, Hampshire, Highfield, Parkin and Owen (2012).', '_blank'); return false;\">\n",
    "    <h3>Defeating human IQ Tests with Machine Learning</h3>\n",
    "    <p style=\"max-width:600px\">📃 - https://openpsychometrics.org/tests/FSIQ/</p>\n",
    "    🇰 - Fractionating Human Intelligence, Hampshire, Highfield, Parkin and Owen (2012).\n",
    "</div>"
   ]
  },
  {
   "cell_type": "markdown",
   "id": "cb925173",
   "metadata": {
    "_cell_guid": "898e6eb8-81a3-4dae-bf87-9d7a65f74381",
    "_uuid": "e27ec8c4-0666-4cdc-a0f8-26a428d359b6",
    "papermill": {
     "duration": 0.069614,
     "end_time": "2021-10-29T13:39:29.046785",
     "exception": false,
     "start_time": "2021-10-29T13:39:28.977171",
     "status": "completed"
    },
    "tags": []
   },
   "source": [
    "<div class=\"dataset-link noselect\" onclick=\"window.open('https://www.kaggle.com/yamqwe/open-sex-role-inventory', '_blank'); return false;\">\n",
    "    <h3>Measuring Masculinity and Femininity - Survey data</h3>\n",
    "    <p style=\"max-width:600px\">📃 - https://openpsychometrics.org/tests/OSRI/development/</p>\n",
    "    🇰 - https://www.kaggle.com/yamqwe/open-sex-role-inventory\n",
    "</div>"
   ]
  },
  {
   "cell_type": "markdown",
   "id": "9d8b4bbb",
   "metadata": {
    "_cell_guid": "9e0aab7a-84f8-4bd0-9e24-5cca2a8cd670",
    "_uuid": "6ff9b35b-bb9e-463e-8e4d-b0301704487b",
    "papermill": {
     "duration": 0.067784,
     "end_time": "2021-10-29T13:39:29.183778",
     "exception": false,
     "start_time": "2021-10-29T13:39:29.115994",
     "status": "completed"
    },
    "tags": []
   },
   "source": [
    "<div class=\"dataset-link noselect\" onclick=\"window.open('https://www.kaggle.com/yamqwe/nature-relatedness-scale', '_blank'); return false;\">\n",
    "    <h3>Nature Relatedness Personality Test</h3>\n",
    "    <p style=\"max-width:600px\">📃 - The NR-6: a new brief measure of nature relatedness. Elizabeth K. and John M.</p>\n",
    "    🇰 - https://www.kaggle.com/yamqwe/nature-relatedness-scale\n",
    "</div>"
   ]
  },
  {
   "cell_type": "markdown",
   "id": "501f972b",
   "metadata": {
    "_cell_guid": "70509561-4415-407d-aeda-4ba782956733",
    "_uuid": "6628644a-3bea-41cb-97c1-46fb4fa25c65",
    "papermill": {
     "duration": 0.067889,
     "end_time": "2021-10-29T13:39:29.319813",
     "exception": false,
     "start_time": "2021-10-29T13:39:29.251924",
     "status": "completed"
    },
    "tags": []
   },
   "source": [
    "<div class=\"dataset-link noselect\" onclick=\"window.open('https://www.kaggle.com/yamqwe/confidence-adventurousness-dominance', '_blank'); return false;\">\n",
    "    <h3>DISC personality test results</h3>\n",
    "    <p style=\"max-width:600px\">📃 - Marston, William M. (1928). Emotions of Normal People. K. Paul, Trench, Trubner & Co. Ltd. pp. 405.</p>\n",
    "    🇰 - https://www.kaggle.com/yamqwe/confidence-adventurousness-dominance\n",
    "</div>"
   ]
  },
  {
   "cell_type": "markdown",
   "id": "f2c14986",
   "metadata": {
    "_cell_guid": "9f1ee556-d22c-4d9c-a9d2-d31429cb1f3b",
    "_uuid": "dad6d2e4-fd05-42e6-aa34-1225bde7a127",
    "papermill": {
     "duration": 0.068169,
     "end_time": "2021-10-29T13:39:29.456944",
     "exception": false,
     "start_time": "2021-10-29T13:39:29.388775",
     "status": "completed"
    },
    "tags": []
   },
   "source": [
    "<div class=\"dataset-link noselect\" onclick=\"window.open('https://www.kaggle.com/yamqwe/nonverbal-immediacy-scale', '_blank'); return false;\">\n",
    "    <h3>Immediacy Scale Test</h3>\n",
    "    <p style=\"max-width:600px\">📃 - Richmond, V. P., McCroskey, J. C., & Johnson, A. D. (2003). Development of the Nonverbal Immediacy Scale (NIS): Measures of self- and other-perceived nonverbal immediacy. Communication Quarterly, 51, 502-515.</p>\n",
    "    🇰 - https://www.kaggle.com/yamqwe/nonverbal-immediacy-scale\n",
    "</div>"
   ]
  },
  {
   "cell_type": "markdown",
   "id": "ef67014b",
   "metadata": {
    "_cell_guid": "47d1cc92-16cc-4fa5-88fa-04514da4694b",
    "_uuid": "f0a5f26c-3335-4d14-8313-5a8260e85d78",
    "papermill": {
     "duration": 0.069887,
     "end_time": "2021-10-29T13:39:29.594862",
     "exception": false,
     "start_time": "2021-10-29T13:39:29.524975",
     "status": "completed"
    },
    "tags": []
   },
   "source": [
    "<div class=\"dataset-link noselect\" onclick=\"window.open('https://www.kaggle.com/yamqwe/short-dark-triad', '_blank'); return false;\">\n",
    "    <h3>Psychopathy & Antisocial test - Dark Triad</h3>\n",
    "    <p style=\"max-width:600px\">📃 - The Dark Triad of personality: Narcissism, Machiavellianism, and Psychopathy\". Journal of Research in Personality. 36 (6): 556–563. doi:10.1016/S0092-6566(02)00505-6.</p>\n",
    "    🇰 - https://www.kaggle.com/yamqwe/short-dark-triad\n",
    "</div>"
   ]
  },
  {
   "cell_type": "markdown",
   "id": "10efea0a",
   "metadata": {
    "_cell_guid": "8c988fd6-afb3-4240-8be4-46dbac9ac487",
    "_uuid": "2c1c8163-be14-4fb3-8ab0-92a9dadda76d",
    "papermill": {
     "duration": 0.06801,
     "end_time": "2021-10-29T13:39:29.731343",
     "exception": false,
     "start_time": "2021-10-29T13:39:29.663333",
     "status": "completed"
    },
    "tags": []
   },
   "source": [
    "<div class=\"dataset-link noselect\" onclick=\"window.open('https://www.kaggle.com/yamqwe/predicting-nerdiness', '_blank'); return false;\">\n",
    "    <h3>Predicting Nerdiness!</h3>\n",
    "    <p style=\"max-width:600px\">📃 - Development of the Nerdy Personality Attributes Scale\". 20 December 2015. https://openpsychometrics.org/tests/NPAS/development</p>\n",
    "    🇰 - https://www.kaggle.com/yamqwe/predicting-nerdiness\n",
    "</div>"
   ]
  },
  {
   "cell_type": "markdown",
   "id": "aa6efd48",
   "metadata": {
    "_cell_guid": "ffd7cccf-4933-48ee-83b1-22a04b5e48a4",
    "_uuid": "13bb9ef3-e035-426e-99e8-8fa9f8b559c0",
    "papermill": {
     "duration": 0.068362,
     "end_time": "2021-10-29T13:39:29.869049",
     "exception": false,
     "start_time": "2021-10-29T13:39:29.800687",
     "status": "completed"
    },
    "tags": []
   },
   "source": [
    "<div class=\"dataset-link noselect\" onclick=\"window.open('https://www.kaggle.com/yamqwe/introversionextraversion-scales', '_blank'); return false;\">\n",
    "    <h3>Introvert vs Extrovert Prediction</h3>\n",
    "    <p style=\"max-width:600px\">📃 - Development of the Multidimensional Introversion-Extraversion Scales. openpsychometrics</p>\n",
    "    🇰 - https://www.kaggle.com/yamqwe/introversionextraversion-scales\n",
    "</div>"
   ]
  },
  {
   "cell_type": "markdown",
   "id": "75ba594a",
   "metadata": {
    "_cell_guid": "cbd82907-72bb-4711-9856-5fa72cd45d30",
    "_uuid": "741e48d9-d343-492d-84c2-a9889b9a8255",
    "papermill": {
     "duration": 0.068763,
     "end_time": "2021-10-29T13:39:30.00639",
     "exception": false,
     "start_time": "2021-10-29T13:39:29.937627",
     "status": "completed"
    },
    "tags": []
   },
   "source": [
    "<div class=\"dataset-link noselect\" onclick=\"window.open('https://www.kaggle.com/yamqwe/loved-or-feared-machiavellianism-test', '_blank'); return false;\">\n",
    "    <h3>Loved or Feared? - which is better? - MACH-IV test</h3>\n",
    "    <p style=\"max-width:600px\">📃 - Richard Christie and Florence L. Geis. See Christie, R. & Geis, F. (1970) \"Studies in Machiavellianism\". NY: Academic Press.</p>\n",
    "    🇰 - https://www.kaggle.com/yamqwe/loved-or-feared-machiavellianism-test\n",
    "</div>"
   ]
  },
  {
   "cell_type": "markdown",
   "id": "163b1364",
   "metadata": {
    "_cell_guid": "a62d02d5-cc69-4f42-b800-e49c35d2a2ad",
    "_uuid": "53aeb275-5f57-4a5f-a47c-6052fa2d6715",
    "papermill": {
     "duration": 0.069028,
     "end_time": "2021-10-29T13:39:30.148364",
     "exception": false,
     "start_time": "2021-10-29T13:39:30.079336",
     "status": "completed"
    },
    "tags": []
   },
   "source": [
    "<div class=\"dataset-link noselect\" onclick=\"window.open('https://www.kaggle.com/yamqwe/ipip-hexaco-equivalent-scales', '_blank'); return false;\">\n",
    "    <h3>Personality Constructs - IPIP HEXACO</h3>\n",
    "    <p style=\"max-width:600px\">📃 - The IPIP–HEXACO scales: An alternative, public-domain measure of the personality constructs in the HEXACO model Michael C. Ashton a,*, Kibeom Lee b, Lewis R. Goldberg c</p>\n",
    "    🇰 - https://www.kaggle.com/yamqwe/ipip-hexaco-equivalent-scales\n",
    "</div>"
   ]
  },
  {
   "cell_type": "markdown",
   "id": "9da548d8",
   "metadata": {
    "_cell_guid": "2a4f0c6d-17e8-4262-8d19-36d5c7ae6f5e",
    "_uuid": "0a5ebcfb-19c8-4e15-b065-8469693f65fe",
    "papermill": {
     "duration": 0.071954,
     "end_time": "2021-10-29T13:39:30.289614",
     "exception": false,
     "start_time": "2021-10-29T13:39:30.21766",
     "status": "completed"
    },
    "tags": []
   },
   "source": [
    "<div class=\"dataset-link noselect\" onclick=\"window.open('https://www.kaggle.com/yamqwe/taylor-manifest-anxiety-scale', '_blank'); return false;\">\n",
    "    <h3>Measuring Anxiety - The Taylor Anxiety Scale Test</h3>\n",
    "    <p style=\"max-width:600px\">📃 - Taylor, J. (1953). \"A personality scale of manifest anxiety\". The Journal of Abnormal and Social Psychology, 48(2), 285-290.</p>\n",
    "    🇰 - https://www.kaggle.com/yamqwe/taylor-manifest-anxiety-scale\n",
    "</div>"
   ]
  },
  {
   "cell_type": "markdown",
   "id": "acf60f2f",
   "metadata": {
    "_cell_guid": "48ddb4fe-8f95-47b5-bc82-085da15756a1",
    "_uuid": "e764868b-235e-499a-b100-dffc6687ad6f",
    "papermill": {
     "duration": 0.070256,
     "end_time": "2021-10-29T13:39:30.42976",
     "exception": false,
     "start_time": "2021-10-29T13:39:30.359504",
     "status": "completed"
    },
    "tags": []
   },
   "source": [
    "<div class=\"dataset-link noselect\" onclick=\"window.open('https://www.kaggle.com/yamqwe/narcissistic-personality-inventory-test', '_blank'); return false;\">\n",
    "    <h3>Narcissistic Personality Inventory Test</h3>\n",
    "    <p style=\"max-width:600px\">📃 - Raskin, R.; Terry, H. (1988). \"A principal-components analysis of the Narcissistic Personality Inventory and further evidence of its construct validity\". Journal of Personality and Social Psychology, Vol 54(5), 890-902.</p>\n",
    "    🇰 - https://www.kaggle.com/yamqwe/narcissistic-personality-inventory-test\n",
    "</div>"
   ]
  },
  {
   "cell_type": "markdown",
   "id": "7c539fa9",
   "metadata": {
    "_cell_guid": "a97f8dfc-35ed-4fa7-957b-d8c0cc5ed8eb",
    "_uuid": "9850cefe-9be7-49c7-bd8f-4bce1e7ecd5e",
    "papermill": {
     "duration": 0.068978,
     "end_time": "2021-10-29T13:39:30.567707",
     "exception": false,
     "start_time": "2021-10-29T13:39:30.498729",
     "status": "completed"
    },
    "tags": []
   },
   "source": [
    "<div class=\"dataset-link noselect\" onclick=\"window.open('https://www.kaggle.com/yamqwe/multifactor-general-knowledge-test', '_blank'); return false;\">\n",
    "    <h3>General Knowledge Quiz - Multifactor questions!</h3>\n",
    "    <p style=\"max-width:600px\">📃 - https://openpsychometrics.org/tests/MGKT2/</p>\n",
    "    🇰 - https://www.kaggle.com/yamqwe/multifactor-general-knowledge-test\n",
    "</div>"
   ]
  },
  {
   "cell_type": "markdown",
   "id": "b4becfa7",
   "metadata": {
    "_cell_guid": "88096b17-a83d-4371-aed3-92d6aaa7423d",
    "_uuid": "e46f8619-6dcb-4a05-9b2c-2959978b36df",
    "papermill": {
     "duration": 0.069848,
     "end_time": "2021-10-29T13:39:30.706295",
     "exception": false,
     "start_time": "2021-10-29T13:39:30.636447",
     "status": "completed"
    },
    "tags": []
   },
   "source": [
    "<div class=\"dataset-link noselect\" onclick=\"window.open('https://www.kaggle.com/yamqwe/protestant-work-ethic-scale', '_blank'); return false;\">\n",
    "    <h3>Hard Working? - Protestant Work Ethic Scale</h3>\n",
    "    <p style=\"max-width:600px\">📃 - Mirels, H. L., & Garrett, J. B. (1971). The Protestant Ethic as a personality variable. Journal of Consulting and Clinical Psychology, 36(1), 40-44.</p>\n",
    "    🇰 - https://www.kaggle.com/yamqwe/protestant-work-ethic-scale\n",
    "</div>"
   ]
  },
  {
   "cell_type": "markdown",
   "id": "79cbcd09",
   "metadata": {
    "_cell_guid": "abe808d5-b749-44ec-aa33-4c80b8cdb1ed",
    "_uuid": "43319d0f-5e74-44f1-bd70-c48f40774be5",
    "papermill": {
     "duration": 0.068936,
     "end_time": "2021-10-29T13:39:30.844219",
     "exception": false,
     "start_time": "2021-10-29T13:39:30.775283",
     "status": "completed"
    },
    "tags": []
   },
   "source": [
    "<div class=\"dataset-link noselect\" onclick=\"window.open('https://www.kaggle.com/yamqwe/depression-anxiety-stress-scales', '_blank'); return false;\">\n",
    "    <h3>Predicting Depression, Anxiety and Stress</h3>\n",
    "    <p style=\"max-width:600px\">📃 - Taylor, J. (1953). \"A personality scale of manifest anxiety\". The Journal of Abnormal and Social Psychology, 48(2), 285-290.</p>\n",
    "    🇰 - https://www.kaggle.com/yamqwe/depression-anxiety-stress-scales\n",
    "</div>"
   ]
  },
  {
   "cell_type": "markdown",
   "id": "a0ffd022",
   "metadata": {
    "_cell_guid": "6b5536ce-44b8-4e7b-a7b1-f213f83976c4",
    "_uuid": "3a4b7f5b-998a-4dcf-bd93-742a1bdb84d6",
    "papermill": {
     "duration": 0.068076,
     "end_time": "2021-10-29T13:39:30.981403",
     "exception": false,
     "start_time": "2021-10-29T13:39:30.913327",
     "status": "completed"
    },
    "tags": []
   },
   "source": [
    "<div class=\"dataset-link noselect\" onclick=\"window.open('https://www.kaggle.com/yamqwe/16-personality-factors-cattells', '_blank'); return false;\">\n",
    "    <h3>16 Personality Factors - Personality Test</h3>\n",
    "    <p style=\"max-width:600px\">📃 - The Items in the 16 Preliminary IPIP Scales Measuring Constructs Similar to Those in Cattell's 16 Personality Factor Questionnaire (16PF)</p>\n",
    "    🇰 - https://www.kaggle.com/yamqwe/16-personality-factors-cattells\n",
    "</div>"
   ]
  },
  {
   "cell_type": "markdown",
   "id": "424346ea",
   "metadata": {
    "_cell_guid": "4307e73f-4830-49a7-96d7-191f4f818819",
    "_uuid": "e9165c4f-2f58-435a-a02e-701abb4b4796",
    "papermill": {
     "duration": 0.069301,
     "end_time": "2021-10-29T13:39:31.120902",
     "exception": false,
     "start_time": "2021-10-29T13:39:31.051601",
     "status": "completed"
    },
    "tags": []
   },
   "source": [
    "<div class=\"dataset-link noselect\" onclick=\"window.open('https://www.kaggle.com/yamqwe/consideration-of-future-consequences', '_blank'); return false;\">\n",
    "    <h3>Consideration of Future Consequences Test</h3>\n",
    "    <p style=\"max-width:600px\">📃 - The consideration of future consequences: Weighing immediate and distant outcomes of behavior. Journal of Personality and Social Psychology, 66, 742-752.</p>\n",
    "    🇰 - https://www.kaggle.com/yamqwe/consideration-of-future-consequences\n",
    "</div>"
   ]
  },
  {
   "cell_type": "markdown",
   "id": "e83910a6",
   "metadata": {
    "_cell_guid": "c346d8fa-ac87-49bd-9553-b7e52c3bf49b",
    "_uuid": "a413cb75-fcd1-4eb5-a626-361999518748",
    "papermill": {
     "duration": 0.069465,
     "end_time": "2021-10-29T13:39:31.261433",
     "exception": false,
     "start_time": "2021-10-29T13:39:31.191968",
     "status": "completed"
    },
    "tags": []
   },
   "source": [
    "<div class=\"dataset-link noselect\" onclick=\"window.open('https://www.kaggle.com/yamqwe/woodworth-psychoneurotic-inventory', '_blank'); return false;\">\n",
    "    <h3>Woodworth Psychoneurotic Inventory</h3>\n",
    "    <p style=\"max-width:600px\">📃 - https://www.kaggle.com/yamqwe/woodworth-psychoneurotic-inventory</p>\n",
    "    🇰 - Papurt, M. (1930). \"A study of the Woodworth Psychoneurotic Inventory with suggested revision\". Journal of Abnormal and Social Psychology, 25(3), 335-352.\n",
    "</div>"
   ]
  }
 ],
 "metadata": {
  "kernelspec": {
   "display_name": "Python 3 (ipykernel)",
   "language": "python",
   "name": "python3"
  },
  "language_info": {
   "codemirror_mode": {
    "name": "ipython",
    "version": 3
   },
   "file_extension": ".py",
   "mimetype": "text/x-python",
   "name": "python",
   "nbconvert_exporter": "python",
   "pygments_lexer": "ipython3",
   "version": "3.9.7"
  },
  "papermill": {
   "default_parameters": {},
   "duration": 55.721496,
   "end_time": "2021-10-29T13:39:34.047365",
   "environment_variables": {},
   "exception": null,
   "input_path": "__notebook__.ipynb",
   "output_path": "__notebook__.ipynb",
   "parameters": {},
   "start_time": "2021-10-29T13:38:38.325869",
   "version": "2.3.3"
  }
 },
 "nbformat": 4,
 "nbformat_minor": 5
}
