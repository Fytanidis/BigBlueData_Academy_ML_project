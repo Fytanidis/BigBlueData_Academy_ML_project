{
 "cells": [
  {
   "cell_type": "markdown",
   "id": "db1a6d74-b4c7-45d9-aaaa-522ae5937198",
   "metadata": {},
   "source": [
    "## Dimensionality reduction & Outlier detection"
   ]
  },
  {
   "cell_type": "code",
   "execution_count": null,
   "id": "65c5d062-ab6f-434d-8b9a-61f235ff869d",
   "metadata": {},
   "outputs": [],
   "source": [
    "import pandas as pd\n",
    "import numpy as np\n",
    "import matplotlib.pyplot as plt\n",
    "import seaborn as sns\n",
    "\n",
    "from sklearn.decomposition import PCA, TruncatedSVD\n",
    "from sklearn.manifold import TSNE\n",
    "from sklearn.ensemble import IsolationForest, RandomForestClassifier\n",
    "from sklearn.neighbors import LocalOutlierFactor\n",
    "\n",
    "from sklearn.model_selection import train_test_split, cross_val_score, StratifiedKFold, GridSearchCV\n",
    "from sklearn.metrics import classification_report, ConfusionMatrixDisplay, RocCurveDisplay, roc_curve, roc_auc_score\n",
    "from sklearn.pipeline import Pipeline\n",
    "from sklearn.impute import SimpleImputer, KNNImputer\n",
    "from sklearn.svm import SVC\n",
    "from sklearn.neighbors import KNeighborsClassifier\n",
    "from sklearn.naive_bayes import GaussianNB"
   ]
  },
  {
   "cell_type": "code",
   "execution_count": null,
   "id": "218d297f-29e9-4c18-b41d-edf6632df82e",
   "metadata": {},
   "outputs": [],
   "source": [
    "pd.options.display.max_columns = 50\n",
    "pd.options.display.max_colwidth = 50\n",
    "pd.options.display.max_rows = 200"
   ]
  },
  {
   "cell_type": "markdown",
   "id": "3cea0ac7-dfe1-468f-9bb0-3a22a51639e3",
   "metadata": {},
   "source": [
    "#### Data provided is from a small sample of a real world [dataset](./income.csv) that contains 2 classes of observations regarding individuals’ Income. Those classes are:  `>=50k$` and `<50k$`. "
   ]
  },
  {
   "cell_type": "code",
   "execution_count": null,
   "id": "27886c9f-2e08-4745-b392-059e73dc5d5f",
   "metadata": {},
   "outputs": [],
   "source": [
    "df = pd.read_csv('income.csv')\n",
    "df.shape"
   ]
  },
  {
   "cell_type": "code",
   "execution_count": null,
   "id": "01b547da-6d7d-4a6a-b076-1ce2f558e376",
   "metadata": {},
   "outputs": [],
   "source": [
    "(df.isna() == True).any().value_counts()"
   ]
  },
  {
   "cell_type": "code",
   "execution_count": null,
   "id": "b693d4c1-ccab-4371-92b0-91b0b3063aa4",
   "metadata": {},
   "outputs": [],
   "source": [
    "df.sample(5)"
   ]
  },
  {
   "cell_type": "code",
   "execution_count": null,
   "id": "cb54d938-e3b0-44c6-b264-82f0a55b6151",
   "metadata": {},
   "outputs": [],
   "source": [
    "df.replace('<=50K', 0, inplace=True)"
   ]
  },
  {
   "cell_type": "code",
   "execution_count": null,
   "id": "c55ce32b-94c4-486c-ae03-6bd8428de52f",
   "metadata": {},
   "outputs": [],
   "source": [
    "df.replace('>50K', 1, inplace=True)"
   ]
  },
  {
   "cell_type": "code",
   "execution_count": null,
   "id": "7a2fb2d7-768a-4744-af49-02104f645d4e",
   "metadata": {},
   "outputs": [],
   "source": [
    "# check for imbalance\n",
    "df['class'].value_counts()"
   ]
  },
  {
   "cell_type": "markdown",
   "id": "737f98e4-09bc-438f-b184-085fdbfd4f75",
   "metadata": {},
   "source": [
    "#### Luckily enough, data is already scaled for you and all categorical features are transformed using binary dummies so you can focus on your single task for the day:\n",
    "\n",
    "#### Compare the performance of three of your favorite classifiers on the original data. Then use PCA, TSNE and SVD to transform your data and find what performs better for you.\n",
    "\n",
    "* **Recommendation 1**: While using PCA and SVD transform your data in such a number of dimensions able to explain more than 99% of target’s variance.\n",
    "\n",
    "* **Recommendation 2**: Use grid search to optimize your classifiers. Remember that after changing the dimensions of your space you may also have to also adjust your hyperparameters. Gridsearch can choose for you each time you repeat the process.\n",
    "\n",
    "* **Recommendation 3**: Because of the stochastic elements in the process to fairly compare algorithms you better use the mean of more than one iterations."
   ]
  },
  {
   "cell_type": "code",
   "execution_count": null,
   "id": "a3c5922a-1949-428c-9e2d-fe8f50181614",
   "metadata": {},
   "outputs": [],
   "source": [
    "X = df.iloc[:, 1:]\n",
    "y = df.iloc[:, 0]"
   ]
  },
  {
   "cell_type": "code",
   "execution_count": null,
   "id": "dcdbefb9-ab52-4242-a205-802efedfea02",
   "metadata": {},
   "outputs": [],
   "source": [
    "X_train, X_test, y_train, y_test = train_test_split(X, y, test_size=0.20, random_state=5)"
   ]
  },
  {
   "cell_type": "code",
   "execution_count": null,
   "id": "1ceda940-567e-41fb-a923-d0b5f5088e18",
   "metadata": {},
   "outputs": [],
   "source": [
    "clfs = [RandomForestClassifier(), KNeighborsClassifier(), SVC()]"
   ]
  },
  {
   "cell_type": "code",
   "execution_count": null,
   "id": "dc29083e-c46b-487c-9f14-0d13ef119514",
   "metadata": {},
   "outputs": [],
   "source": [
    "pipe = Pipeline([\n",
    "\n",
    "    ('clf', 'passthrough'),\n",
    "])\n",
    "\n",
    "\n",
    "parameters = [\n",
    "    {\n",
    "        'clf': (SVC(probability=True),),\n",
    "        'clf__C': [0.01, 8.3, 10],\n",
    "        'clf__kernel': ('rbf', 'sigmoid',)\n",
    "    }, \n",
    "    {\n",
    "\n",
    "        'clf': (RandomForestClassifier(),),\n",
    "        'clf__n_estimators': [100, 1000],\n",
    "        'clf__max_features': ['auto'],\n",
    "        'clf__criterion': ['gini', 'entropy']\n",
    "        \n",
    "    }, \n",
    "\n",
    "]\n",
    "\n",
    "grid_search = GridSearchCV(pipe, parameters, cv=3, scoring=['balanced_accuracy', 'f1_macro', 'roc_auc', 'accuracy'], verbose=4,\n",
    "                           n_jobs=-1, refit='roc_auc')"
   ]
  },
  {
   "cell_type": "code",
   "execution_count": null,
   "id": "55b33061-c966-4eea-84aa-6cfa77015688",
   "metadata": {},
   "outputs": [],
   "source": [
    "result = grid_search.fit(X_train, y_train)\n",
    "report = pd.DataFrame(result.cv_results_)\n",
    "report.sort_values(by='mean_test_roc_auc', ascending=False).drop_duplicates('param_clf')"
   ]
  },
  {
   "cell_type": "code",
   "execution_count": null,
   "id": "f6eac504-a5e6-4e55-81b7-b307f51ddd30",
   "metadata": {},
   "outputs": [],
   "source": [
    "report.sort_values(by='mean_test_accuracy', ascending=False).drop_duplicates('param_clf')"
   ]
  },
  {
   "cell_type": "markdown",
   "id": "e5e45b61-77eb-4b59-ad5f-dfd78139c2ab",
   "metadata": {},
   "source": [
    "#### It seems that the RF classifier gives the highest roc_auc score and also one of the highest accuracy scores. Let's plot the confusion matrix"
   ]
  },
  {
   "cell_type": "code",
   "execution_count": null,
   "id": "f7528566-5fc0-4604-a288-25601cbc08d8",
   "metadata": {},
   "outputs": [],
   "source": [
    "y_pred = result.predict(X_test)\n",
    "y_pred_proba = result.predict_proba(X_test)"
   ]
  },
  {
   "cell_type": "code",
   "execution_count": null,
   "id": "ea40cd10-a0fa-45fc-abb8-5632427629a7",
   "metadata": {},
   "outputs": [],
   "source": [
    "ConfusionMatrixDisplay.from_predictions(y_test, y_pred)\n",
    "plt.show()"
   ]
  },
  {
   "cell_type": "code",
   "execution_count": null,
   "id": "fa870710-deec-42ed-b349-5a7749b74e15",
   "metadata": {},
   "outputs": [],
   "source": [
    "RocCurveDisplay.from_predictions(y_test, y_pred_proba[:,1])"
   ]
  },
  {
   "cell_type": "code",
   "execution_count": null,
   "id": "3625b808-99f9-4098-95b7-db17c18094bc",
   "metadata": {},
   "outputs": [],
   "source": [
    "print(classification_report(y_test, y_pred))"
   ]
  },
  {
   "cell_type": "markdown",
   "id": "28052e8a-a79b-495d-8290-d61fa8aafdeb",
   "metadata": {},
   "source": [
    "### Principal Component Analysis"
   ]
  },
  {
   "cell_type": "code",
   "execution_count": null,
   "id": "1f5ac90b-e5c3-46c8-8606-278ae3a6f53f",
   "metadata": {},
   "outputs": [],
   "source": [
    "pca = PCA(n_components=None, svd_solver='full')\n",
    "pca.fit(X)\n",
    "pca_cum = pca.explained_variance_ratio_.cumsum()\n",
    "plt.plot(pca_cum)\n",
    "\n",
    "# print(pca.singular_values_)"
   ]
  },
  {
   "cell_type": "code",
   "execution_count": null,
   "id": "a6756f7a-c9ff-4bd3-8138-764b0835e6b9",
   "metadata": {},
   "outputs": [],
   "source": [
    "def find_nearest(array, value):\n",
    "    array = np.asarray(array)\n",
    "    idx = (np.abs(array - value)).argmin()\n",
    "    return idx\n",
    "\n",
    "find_nearest(pca_cum, 0.99)"
   ]
  },
  {
   "cell_type": "markdown",
   "id": "79e29aeb-a839-4e63-8b09-2aa259d24048",
   "metadata": {},
   "source": [
    "#### So the 99% of the data is up to index 110 of the transformed matrix. Let's keep only those columns"
   ]
  },
  {
   "cell_type": "code",
   "execution_count": null,
   "id": "9b466fbc-7652-4dc6-b33b-03a16f38a1a1",
   "metadata": {},
   "outputs": [],
   "source": [
    "X_pca = pca.transform(X)[:, :111]"
   ]
  },
  {
   "cell_type": "code",
   "execution_count": null,
   "id": "c4904c8e-e4af-4c44-8ede-c51f87c6b737",
   "metadata": {},
   "outputs": [],
   "source": [
    "X_pca.shape, df.shape"
   ]
  },
  {
   "cell_type": "markdown",
   "id": "119ad69f-d85b-43de-b20e-c0cae1544dec",
   "metadata": {},
   "source": [
    "#### We went from 500 dimensions to 111 dimensions!\n",
    "\n",
    "Repeat now the same pipeline"
   ]
  },
  {
   "cell_type": "code",
   "execution_count": null,
   "id": "b3c36906-2ad0-49bb-b3e2-2af7b5582861",
   "metadata": {},
   "outputs": [],
   "source": [
    "X_train, X_test, y_train, y_test = train_test_split(X_pca, y, test_size=0.20, random_state=5)"
   ]
  },
  {
   "cell_type": "code",
   "execution_count": null,
   "id": "b6592939-47e7-4e16-a2cb-e053e8dc1462",
   "metadata": {},
   "outputs": [],
   "source": [
    "pipe = Pipeline([\n",
    "\n",
    "    ('clf', 'passthrough'),\n",
    "])\n",
    "\n",
    "parameters = [\n",
    "    {\n",
    "        'clf': (SVC(),),\n",
    "        'clf__C': [0.01, 10, 100],\n",
    "        'clf__kernel': ('rbf', 'sigmoid',)\n",
    "    }, \n",
    "    {\n",
    "\n",
    "        'clf': (RandomForestClassifier(),),\n",
    "        'clf__n_estimators': [100, 1000],\n",
    "        'clf__max_features': ['auto'],\n",
    "        'clf__criterion': ['gini', 'entropy']\n",
    "    }, \n",
    "\n",
    "]\n",
    "\n",
    "grid_search = GridSearchCV(pipe, parameters, cv=3, scoring=['balanced_accuracy', 'f1_macro', 'roc_auc', 'accuracy'], verbose=4,\n",
    "                           n_jobs=-1, refit='roc_auc')"
   ]
  },
  {
   "cell_type": "code",
   "execution_count": null,
   "id": "e7fe0ae2-0899-416d-9f3a-4dea5e31e8d5",
   "metadata": {},
   "outputs": [],
   "source": [
    "result = grid_search.fit(X_train, y_train)\n",
    "report = pd.DataFrame(result.cv_results_)\n",
    "report.sort_values(by='mean_test_roc_auc', ascending=False).drop_duplicates('param_clf')"
   ]
  },
  {
   "cell_type": "code",
   "execution_count": null,
   "id": "be8bda44-dbb0-4e5d-8691-4d43debcd96f",
   "metadata": {},
   "outputs": [],
   "source": []
  },
  {
   "cell_type": "markdown",
   "id": "e96158f7-b99c-48cd-aa33-beefb37c16ab",
   "metadata": {},
   "source": [
    "### Singular Value Decomposition"
   ]
  },
  {
   "cell_type": "code",
   "execution_count": null,
   "id": "ab56ef5b-50f6-45fe-8e11-7e41e672cd18",
   "metadata": {},
   "outputs": [],
   "source": [
    "svd = TruncatedSVD(n_components=400)\n",
    "svd.fit(X)\n",
    "svd_cum = svd.explained_variance_ratio_.cumsum()\n",
    "plt.plot(svd_cum)"
   ]
  },
  {
   "cell_type": "code",
   "execution_count": null,
   "id": "30e28f55-476f-4eee-abfd-736f92e049cd",
   "metadata": {},
   "outputs": [],
   "source": [
    "def find_nearest(array, value):\n",
    "    array = np.asarray(array)\n",
    "    idx = (np.abs(array - value)).argmin()\n",
    "    return idx\n",
    "\n",
    "find_nearest(svd_cum, 0.99)"
   ]
  },
  {
   "cell_type": "code",
   "execution_count": null,
   "id": "c098bfbd-57f7-4301-bc88-6816ca49656b",
   "metadata": {},
   "outputs": [],
   "source": [
    "X_svd = svd.transform(X)[:, :111]"
   ]
  },
  {
   "cell_type": "code",
   "execution_count": null,
   "id": "40f6bc76-98a9-493b-80a2-8c7db6750e14",
   "metadata": {},
   "outputs": [],
   "source": [
    "X_train, X_test, y_train, y_test = train_test_split(X_svd, y, test_size=0.20, random_state=5)"
   ]
  },
  {
   "cell_type": "code",
   "execution_count": null,
   "id": "0ae535ee-79ce-43fa-b803-40a05cf2097e",
   "metadata": {},
   "outputs": [],
   "source": [
    "result = grid_search.fit(X_train, y_train)\n",
    "report = pd.DataFrame(result.cv_results_)\n",
    "report.sort_values(by='mean_test_roc_auc', ascending=False).drop_duplicates('param_clf')"
   ]
  },
  {
   "cell_type": "markdown",
   "id": "de6132b4-0f17-4ce4-a3f7-983e9b0e5c89",
   "metadata": {},
   "source": [
    "#### Bonus: Compare how Isolation Forest and Local Outlier Factor methods impact your three classifiers."
   ]
  },
  {
   "cell_type": "code",
   "execution_count": null,
   "id": "6e5230c2-8b85-4c17-b503-80e6b6cba1fd",
   "metadata": {},
   "outputs": [],
   "source": [
    "clf = LocalOutlierFactor(n_neighbors=5)\n",
    "df['outlier'] = clf.fit_predict(df)"
   ]
  },
  {
   "cell_type": "code",
   "execution_count": null,
   "id": "2c05c317-785c-4b58-b9b9-b0486829287a",
   "metadata": {},
   "outputs": [],
   "source": [
    "df.outlier"
   ]
  },
  {
   "cell_type": "code",
   "execution_count": null,
   "id": "25cc4d77-476a-4498-9557-6ab87854f58e",
   "metadata": {},
   "outputs": [],
   "source": [
    "df_out = df[df.outlier != -1]"
   ]
  },
  {
   "cell_type": "code",
   "execution_count": null,
   "id": "8ebcb39b-e720-4c58-af23-8f2debe9db3c",
   "metadata": {},
   "outputs": [],
   "source": [
    "X = df_out.iloc[:, 1:]\n",
    "y = df_out.iloc[:, 0]"
   ]
  },
  {
   "cell_type": "code",
   "execution_count": null,
   "id": "9045a650-d39f-451d-b330-ea07cb345998",
   "metadata": {},
   "outputs": [],
   "source": [
    "X_train, X_test, y_train, y_test = train_test_split(X, y, test_size=0.20, random_state=5)"
   ]
  },
  {
   "cell_type": "code",
   "execution_count": null,
   "id": "5bc3ec4f-c07c-4b9b-9423-4aa4cb2f0419",
   "metadata": {},
   "outputs": [],
   "source": [
    "pipe = Pipeline([\n",
    "\n",
    "    ('clf', 'passthrough'),\n",
    "])\n",
    "\n",
    "parameters = [\n",
    "    {\n",
    "        'clf': (SVC(),),\n",
    "        'clf__C': [0.01, 8.3, 100],\n",
    "        'clf__kernel': ('rbf', 'sigmoid',),\n",
    "        'clf__class_weight': ('balanced', None,)\n",
    "        \n",
    "    }, \n",
    "    {\n",
    "\n",
    "        'clf': (RandomForestClassifier(),),\n",
    "        'clf__n_estimators': [100, 1000],\n",
    "        'clf__max_features': ['auto'],\n",
    "        'clf__criterion': ['gini', 'entropy']\n",
    "        \n",
    "    },\n",
    "        {\n",
    "\n",
    "        'clf': (KNeighborsClassifier(),),\n",
    "        'clf__n_neighbors': [3, 5],\n",
    "        'clf__leaf_size': [30, 50],\n",
    "        \n",
    "    }, \n",
    "]\n",
    "\n",
    "grid_search = GridSearchCV(pipe, parameters, cv=3, scoring=['roc_auc', 'accuracy'], verbose=4,\n",
    "                           n_jobs=-1, refit='roc_auc')"
   ]
  },
  {
   "cell_type": "code",
   "execution_count": null,
   "id": "91f3eeb5-2886-467e-98e5-9e9f6e73129a",
   "metadata": {},
   "outputs": [],
   "source": [
    "result = grid_search.fit(X_train, y_train)\n",
    "report = pd.DataFrame(result.cv_results_)\n",
    "report.sort_values(by='mean_test_roc_auc', ascending=False).drop_duplicates('param_clf')"
   ]
  },
  {
   "cell_type": "code",
   "execution_count": null,
   "id": "3997690a-531e-45cd-b9b4-03889b7c2da0",
   "metadata": {},
   "outputs": [],
   "source": [
    "report.sort_values(by='mean_test_accuracy', ascending=False).drop_duplicates('param_clf')"
   ]
  },
  {
   "cell_type": "code",
   "execution_count": null,
   "id": "674c46c4-cab7-49f1-8bd6-23ce3744eddd",
   "metadata": {},
   "outputs": [],
   "source": [
    "clf = IsolationForest(n_estimators=100)\n",
    "df['outlier'] = clf.fit_predict(df)"
   ]
  },
  {
   "cell_type": "code",
   "execution_count": null,
   "id": "cf3883c7-de63-45bc-9eed-e269c8bfea0a",
   "metadata": {},
   "outputs": [],
   "source": [
    "df_out = df[df.outlier != -1]"
   ]
  },
  {
   "cell_type": "code",
   "execution_count": null,
   "id": "d2f2c6f0-dae9-4f18-a76c-9468d8982fed",
   "metadata": {},
   "outputs": [],
   "source": [
    "X = df_out.iloc[:, 1:]\n",
    "y = df_out.iloc[:, 0]"
   ]
  },
  {
   "cell_type": "code",
   "execution_count": null,
   "id": "dd084fa6-1071-4570-a21e-f65f610b7d7c",
   "metadata": {},
   "outputs": [],
   "source": [
    "X_train, X_test, y_train, y_test = train_test_split(X, y, test_size=0.20, random_state=5)"
   ]
  },
  {
   "cell_type": "code",
   "execution_count": null,
   "id": "30121e3a-1349-426a-b708-d5b26ef68fa3",
   "metadata": {},
   "outputs": [],
   "source": [
    "pipe = Pipeline([\n",
    "\n",
    "    ('clf', 'passthrough'),\n",
    "])\n",
    "\n",
    "parameters = [\n",
    "    {\n",
    "        'clf': (SVC(),),\n",
    "        'clf__C': [0.01, 8.3, 100],\n",
    "        'clf__kernel': ('rbf', 'sigmoid',),\n",
    "        'clf__class_weight': ('balanced', None,)\n",
    "        \n",
    "    }, \n",
    "    {\n",
    "\n",
    "        'clf': (RandomForestClassifier(),),\n",
    "        'clf__n_estimators': [100, 1000],\n",
    "        'clf__max_features': ['auto'],\n",
    "        'clf__criterion': ['gini', 'entropy']\n",
    "        \n",
    "    },\n",
    "        {\n",
    "\n",
    "        'clf': (KNeighborsClassifier(),),\n",
    "        'clf__n_neighbors': [3, 5],\n",
    "        'clf__leaf_size': [30, 50],\n",
    "        \n",
    "    }, \n",
    "]\n",
    "\n",
    "grid_search = GridSearchCV(pipe, parameters, cv=3, scoring=['roc_auc', 'accuracy'], verbose=4,\n",
    "                           n_jobs=-1, refit='roc_auc')"
   ]
  },
  {
   "cell_type": "code",
   "execution_count": null,
   "id": "23224b55-8591-45ad-a4fb-3a0c72260a33",
   "metadata": {},
   "outputs": [],
   "source": [
    "result = grid_search.fit(X_train, y_train)\n",
    "report = pd.DataFrame(result.cv_results_)\n",
    "report.sort_values(by='mean_test_roc_auc', ascending=False).drop_duplicates('param_clf')"
   ]
  },
  {
   "cell_type": "code",
   "execution_count": null,
   "id": "7f36e359-44d7-4f32-82bb-bc436d89db73",
   "metadata": {},
   "outputs": [],
   "source": [
    "report.sort_values(by='mean_test_accuracy', ascending=False).drop_duplicates('param_clf')"
   ]
  },
  {
   "cell_type": "code",
   "execution_count": null,
   "id": "7dc27f87-e591-432a-8b8b-e6b50c66cbd7",
   "metadata": {},
   "outputs": [],
   "source": [
    "y_pred = result.predict(X_test)\n",
    "y_pred_proba = result.predict_proba(X_test)"
   ]
  },
  {
   "cell_type": "code",
   "execution_count": null,
   "id": "513f03ff-930f-40aa-8e4e-db9cb5813087",
   "metadata": {},
   "outputs": [],
   "source": [
    "ConfusionMatrixDisplay.from_predictions(y_test, y_pred)\n",
    "plt.show()"
   ]
  },
  {
   "cell_type": "code",
   "execution_count": null,
   "id": "5308db46-2665-4474-8a1f-28e524933c8c",
   "metadata": {},
   "outputs": [],
   "source": [
    "RocCurveDisplay.from_predictions(y_test, y_pred_proba[:,1])"
   ]
  },
  {
   "cell_type": "code",
   "execution_count": null,
   "id": "5039b9d4-0ac8-4f68-9272-0bee44f11791",
   "metadata": {},
   "outputs": [],
   "source": []
  }
 ],
 "metadata": {
  "kernelspec": {
   "display_name": "Python 3 (ipykernel)",
   "language": "python",
   "name": "python3"
  },
  "language_info": {
   "codemirror_mode": {
    "name": "ipython",
    "version": 3
   },
   "file_extension": ".py",
   "mimetype": "text/x-python",
   "name": "python",
   "nbconvert_exporter": "python",
   "pygments_lexer": "ipython3",
   "version": "3.9.7"
  }
 },
 "nbformat": 4,
 "nbformat_minor": 5
}
