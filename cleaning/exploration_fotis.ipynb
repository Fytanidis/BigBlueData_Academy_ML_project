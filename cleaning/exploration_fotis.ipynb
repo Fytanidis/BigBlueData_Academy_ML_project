{
 "cells": [
  {
   "cell_type": "code",
   "execution_count": null,
   "id": "023ec50b-bc81-4994-a75a-3dc553662880",
   "metadata": {},
   "outputs": [],
   "source": [
    "import pandas as pd\n",
    "import numpy as np\n",
    "import matplotlib.pyplot as plt\n",
    "import seaborn as sns\n",
    "sns.set_theme()\n",
    "from sklearn.model_selection import GridSearchCV\n",
    "from sklearn.model_selection import train_test_split, cross_val_score\n",
    "from sklearn.metrics import classification_report\n",
    "from sklearn.svm import SVC\n",
    "from sklearn import metrics\n",
    "from sklearn.preprocessing import StandardScaler\n",
    "from sklearn.pipeline import Pipeline\n",
    "from sklearn.ensemble import RandomForestClassifier\n",
    "import shap\n",
    "from sklearn.ensemble import AdaBoostClassifier\n",
    "from xgboost import XGBRFClassifier\n",
    "from lightgbm import LGBMClassifier"
   ]
  },
  {
   "cell_type": "code",
   "execution_count": null,
   "id": "2e941253-9536-4968-9efe-0677211950a7",
   "metadata": {},
   "outputs": [],
   "source": [
    "data = pd.read_csv('../data/data_labeled.csv', index_col=0)"
   ]
  },
  {
   "cell_type": "code",
   "execution_count": null,
   "id": "70d7af5f-e221-41f6-bd08-a21097cba24b",
   "metadata": {},
   "outputs": [],
   "source": [
    "# relabel 'race'\n",
    "data['race'] = data['race']/10\n",
    "data['race'] = data['race'].apply(int)\n",
    "# fix ages\n",
    "data['age'] = data['age'].apply(lambda x: 2018-x if x>1900 else x)\n",
    "data['age'] = data['age'].apply(lambda x: 90 if x>90 else x)\n",
    "# fix family size\n",
    "data['familysize'] = data['familysize'].apply(lambda x: 12 if x>12 else x)"
   ]
  },
  {
   "cell_type": "code",
   "execution_count": null,
   "id": "70499621-96ee-482d-b1a7-f9551e068912",
   "metadata": {},
   "outputs": [],
   "source": [
    "data['Stress_cat'].replace({1:0}, inplace=True)\n",
    "data['Stress_cat'].replace({3:4}, inplace=True)\n",
    "data['Anxiety_cat'].replace({1:0}, inplace=True)\n",
    "data['Anxiety_cat'].replace({3:4}, inplace=True)\n",
    "data['Depression_cat'].replace({1:0}, inplace=True)\n",
    "data['Depression_cat'].replace({3:4}, inplace=True)"
   ]
  },
  {
   "cell_type": "markdown",
   "id": "0a38aff0-b2f4-47a9-8333-a47c77b8988a",
   "metadata": {},
   "source": [
    "# Participants demographics"
   ]
  },
  {
   "cell_type": "code",
   "execution_count": null,
   "id": "5a2bc77d-20d7-4cac-92ba-f9b23d7f53c7",
   "metadata": {
    "tags": []
   },
   "outputs": [],
   "source": [
    "# age distribution\n",
    "age_limit = 40\n",
    "\n",
    "df = data[data['age']<=age_limit]['age'].value_counts().sort_index()\n",
    "plt.rcParams['figure.figsize'] = 10,8\n",
    "sns.set(font_scale=1.5, style='dark')\n",
    "plt.style.use(\"dark_background\")\n",
    "\n",
    "fig = sns.barplot(x=df.index, y=df.values)\n",
    "fig.set_xticklabels(df.index , rotation=0)\n",
    "plt.title('Age distribution', size=20)\n",
    "plt.savefig('../presentation/age_countbars.png', dpi=200)\n",
    "plt.savefig('../presentation/age_countbars_transparent.png', dpi=200, transparent=True)\n",
    "plt.show()"
   ]
  },
  {
   "cell_type": "code",
   "execution_count": null,
   "id": "4626c932-94ea-41df-87bb-d69fc99a20e5",
   "metadata": {
    "tags": []
   },
   "outputs": [],
   "source": [
    "# Stress\n",
    "index_meanings={0:'Normal-Mild', 2:'Moderate', 4:'Severe-Extreme'}\n",
    "\n",
    "df = data['Stress_cat'].value_counts().sort_index()\n",
    "plt.rcParams['figure.figsize'] = 10,8\n",
    "sns.set(font_scale=1.5, style='dark')\n",
    "plt.style.use(\"dark_background\")\n",
    "\n",
    "fig = sns.barplot(x=df.index, y=df.values)\n",
    "fig.set_xticklabels(df.index.map(index_meanings) , rotation=0)\n",
    "plt.title('Stress', size=20)\n",
    "plt.savefig('../presentation/stress_countbars.png', dpi=200)\n",
    "plt.savefig('../presentation/stress_countbars_transparent.png', dpi=200, transparent=True)\n",
    "plt.show()"
   ]
  },
  {
   "cell_type": "code",
   "execution_count": null,
   "id": "44f0034e-e79a-4762-8adf-8f83cf44ec91",
   "metadata": {
    "tags": []
   },
   "outputs": [],
   "source": [
    "# Anxiety\n",
    "index_meanings={0:'Normal-Mild', 2:'Moderate', 4:'Severe-Extreme'}\n",
    "\n",
    "df = data['Anxiety_cat'].value_counts().sort_index()\n",
    "plt.rcParams['figure.figsize'] = 10,8\n",
    "sns.set(font_scale=1.5, style='dark')\n",
    "plt.style.use(\"dark_background\")\n",
    "\n",
    "fig = sns.barplot(x=df.index, y=df.values)\n",
    "fig.set_xticklabels(df.index.map(index_meanings) , rotation=0)\n",
    "plt.title('Anxiety', size=20)\n",
    "plt.savefig('../presentation/anxiety_countbars.png', dpi=200)\n",
    "plt.savefig('../presentation/anxiety_countbars_transparent.png', dpi=200, transparent=True)\n",
    "plt.show()"
   ]
  },
  {
   "cell_type": "code",
   "execution_count": null,
   "id": "72bc9262-7709-468e-8a3b-79a4c810deb9",
   "metadata": {
    "tags": []
   },
   "outputs": [],
   "source": [
    "# Depression\n",
    "index_meanings={0:'Normal-Mild', 2:'Moderate', 4:'Severe-Extreme'}\n",
    "\n",
    "df = data['Depression_cat'].value_counts().sort_index()\n",
    "plt.rcParams['figure.figsize'] = 10,8\n",
    "sns.set(font_scale=1.5, style='dark')\n",
    "plt.style.use(\"dark_background\")\n",
    "\n",
    "fig = sns.barplot(x=df.index, y=df.values)\n",
    "fig.set_xticklabels(df.index.map(index_meanings) , rotation=0)\n",
    "plt.title('Depression', size=20)\n",
    "plt.savefig('../presentation/depression_countbars.png', dpi=200)\n",
    "plt.savefig('../presentation/depression_countbars_transparent.png', dpi=200, transparent=True)\n",
    "plt.show()"
   ]
  },
  {
   "cell_type": "markdown",
   "id": "2c992e8b-96ca-4aa6-b86f-0c2cbb352fb0",
   "metadata": {},
   "source": [
    "# Models"
   ]
  },
  {
   "cell_type": "code",
   "execution_count": null,
   "id": "a79903a7-24a9-4f7e-b53a-b07d2b01b414",
   "metadata": {},
   "outputs": [],
   "source": [
    "# labels\n",
    "l_cols = [\n",
    " 'Depression_cat',\n",
    " 'Anxiety_cat',\n",
    " 'Stress_cat']\n",
    "\n",
    "mylist=[]\n",
    "for col in l_cols:\n",
    "    mylist.append([col]+list(data[col].value_counts().sort_index().index))\n",
    "mylist"
   ]
  },
  {
   "cell_type": "code",
   "execution_count": null,
   "id": "edfc350f-49a3-456c-946e-fcd4dccc034c",
   "metadata": {
    "tags": []
   },
   "outputs": [],
   "source": [
    "# Features ready to use\n",
    "f_cols = [ 'Q1A', 'Q2A', 'Q3A', 'Q4A', 'Q5A', 'Q6A', 'Q7A', 'Q8A', 'Q9A', 'Q10A',\n",
    "        'Q11A', 'Q12A', 'Q13A', 'Q14A', 'Q15A', 'Q16A', 'Q17A', 'Q18A', 'Q19A',\n",
    "        'Q20A', 'Q21A', 'Q22A', 'Q23A', 'Q24A', 'Q25A', 'Q26A', 'Q27A', 'Q28A',\n",
    "        'Q29A', 'Q30A', 'Q31A', 'Q32A', 'Q33A', 'Q34A', 'Q35A', 'Q36A', 'Q37A',\n",
    "        'Q38A', 'Q39A', 'Q40A', 'Q41A', 'Q42A', 'TIPI1', 'TIPI2', 'TIPI3',\n",
    "        'TIPI4', 'TIPI5', 'TIPI6', 'TIPI7', 'TIPI8', 'TIPI9', 'TIPI10', 'education', 'age',\n",
    "        'urban', 'gender', 'hand', 'religion', 'orientation', 'race', 'voted', 'married', 'familysize']"
   ]
  },
  {
   "cell_type": "code",
   "execution_count": null,
   "id": "bf2aa2da-9cd4-43cd-80df-563161131a31",
   "metadata": {
    "tags": []
   },
   "outputs": [],
   "source": [
    "# check feature unique values\n",
    "mylist=[]\n",
    "for col in f_cols:\n",
    "    mylist.append([col]+list(data[col].value_counts().sort_index().index))"
   ]
  },
  {
   "cell_type": "code",
   "execution_count": null,
   "id": "ecabf749-fbd7-4ac1-b440-15b24250ca9f",
   "metadata": {},
   "outputs": [],
   "source": [
    "# questions related to depression\n",
    "dep_cols = ['Q3A','Q5A','Q10A','Q13A', 'Q16A', 'Q17A', 'Q21A',\n",
    "            'Q24A', 'Q26A', 'Q31A', 'Q34A', 'Q37A', 'Q38A', 'Q42A']"
   ]
  },
  {
   "cell_type": "code",
   "execution_count": null,
   "id": "ec5e004c-b876-48f6-bcf9-60e6ebfca235",
   "metadata": {},
   "outputs": [],
   "source": [
    "# questions related to anxiety\n",
    "anx_cols = [ 'Q2A', 'Q4A', 'Q7A', 'Q9A', 'Q15A', 'Q19A', 'Q20A',\n",
    "            'Q23A', 'Q25A', 'Q28A', 'Q30A', 'Q36A', 'Q40A', 'Q41A']"
   ]
  },
  {
   "cell_type": "code",
   "execution_count": null,
   "id": "96bf8564-b0a8-43e3-93bb-7c3e4fc2e1c6",
   "metadata": {},
   "outputs": [],
   "source": [
    "# questions related to stress\n",
    "stress_cols = [ 'Q1A', 'Q6A', 'Q8A', 'Q11A', 'Q12A', 'Q14A', 'Q18A',\n",
    "               'Q22A', 'Q27A', 'Q29A', 'Q32A', 'Q33A', 'Q35A', 'Q39A']"
   ]
  },
  {
   "cell_type": "code",
   "execution_count": null,
   "id": "1a64f276-cd0d-4e5f-a820-7514a82360be",
   "metadata": {},
   "outputs": [],
   "source": [
    "# Split (Depression)\n",
    "X = data[f_cols]\n",
    "y = data['Depression_cat']\n",
    "X_train, X_test, y_train, y_test = train_test_split(X,y, stratify=y, test_size=0.20)"
   ]
  },
  {
   "cell_type": "code",
   "execution_count": null,
   "id": "daa499d1-066d-45e4-b84b-d8a1352983cd",
   "metadata": {},
   "outputs": [],
   "source": [
    "# list of descending importances of features (svm) (Depression)\n",
    "svm_imp = list(pd.Series(abs(svm.coef_[0]), index=f_cols).sort_values(ascending=False).index)\n",
    "depression_imp = svm_imp"
   ]
  },
  {
   "cell_type": "code",
   "execution_count": null,
   "id": "03a34d25-ec44-4452-891f-29e54837df1f",
   "metadata": {},
   "outputs": [],
   "source": [
    "# Create Dataframe of balanced accuracy per features removed (Depression)\n",
    "bacc=[]\n",
    "removed=[]\n",
    "for i in range(47, len(svm_imp)):\n",
    "    cols = svm_imp[:len(svm_imp)-i]\n",
    "    svm = SVC(kernel='linear')\n",
    "    svm.fit(X_train[cols], y_train)\n",
    "    y_pred = svm.predict(X_test[cols])\n",
    "    removed.append(i)\n",
    "    bacc.append(metrics.balanced_accuracy_score(y_test, y_pred))\n",
    "df_depression = pd.DataFrame({'features_removed':removed, 'Balanced_accuracy':bacc})"
   ]
  },
  {
   "cell_type": "code",
   "execution_count": null,
   "id": "7dfd2dd8-4f22-4fbd-8ee6-026b6ac5a50e",
   "metadata": {},
   "outputs": [],
   "source": [
    "# Split (Anxiety)\n",
    "X = data[f_cols]\n",
    "y = data['Anxiety_cat']\n",
    "X_train, X_test, y_train, y_test = train_test_split(X,y, stratify=y, test_size=0.20)"
   ]
  },
  {
   "cell_type": "code",
   "execution_count": null,
   "id": "195a6ff1-2551-4d69-8b35-d85f390d76d6",
   "metadata": {},
   "outputs": [],
   "source": [
    "# list of descending importances of features (svm) (Anxiety)\n",
    "svm_imp = list(pd.Series(abs(svm.coef_[0]), index=f_cols).sort_values(ascending=False).index)\n",
    "anxiety_imp = svm_imp"
   ]
  },
  {
   "cell_type": "code",
   "execution_count": null,
   "id": "e8ecfc26-a267-4ad4-ba91-c1347728b85b",
   "metadata": {},
   "outputs": [],
   "source": [
    "# Create Dataframe of balanced accuracy per features removed (Anxiety)\n",
    "bacc=[]\n",
    "removed=[]\n",
    "for i in range(47, len(svm_imp)):\n",
    "    cols = svm_imp[:len(svm_imp)-i]\n",
    "    svm = SVC(kernel='linear')\n",
    "    svm.fit(X_train[cols], y_train)\n",
    "    y_pred = svm.predict(X_test[cols])\n",
    "    removed.append(i)\n",
    "    bacc.append(metrics.balanced_accuracy_score(y_test, y_pred))\n",
    "df_anxiety = pd.DataFrame({'features_removed':removed, 'Balanced_accuracy':bacc})"
   ]
  },
  {
   "cell_type": "code",
   "execution_count": null,
   "id": "86a5391b-6bb6-4a8c-8dd5-0ec9fbabedb8",
   "metadata": {},
   "outputs": [],
   "source": [
    "# Split (Stress)\n",
    "X = data[f_cols]\n",
    "y = data['Stress_cat']\n",
    "X_train, X_test, y_train, y_test = train_test_split(X,y, stratify=y, test_size=0.20)"
   ]
  },
  {
   "cell_type": "code",
   "execution_count": null,
   "id": "c9e7ee0e-e5b3-4400-bca4-d95393558378",
   "metadata": {},
   "outputs": [],
   "source": [
    "# list of descending importances of features (svm) (Stress)\n",
    "svm_imp = list(pd.Series(abs(svm.coef_[0]), index=f_cols).sort_values(ascending=False).index)\n",
    "stress_imp = svm_imp"
   ]
  },
  {
   "cell_type": "code",
   "execution_count": null,
   "id": "b170ec95-0391-4a03-9a87-b75a66648c91",
   "metadata": {},
   "outputs": [],
   "source": [
    "# Create Dataframe of balanced accuracy per features removed (Stress)\n",
    "bacc=[]\n",
    "removed=[]\n",
    "for i in range(47, len(svm_imp)):\n",
    "    cols = svm_imp[:len(svm_imp)-i]\n",
    "    svm = SVC(kernel='linear')\n",
    "    svm.fit(X_train[cols], y_train)\n",
    "    y_pred = svm.predict(X_test[cols])\n",
    "    removed.append(i)\n",
    "    bacc.append(metrics.balanced_accuracy_score(y_test, y_pred))\n",
    "df_stress = pd.DataFrame({'features_removed':removed, 'Balanced_accuracy':bacc})"
   ]
  },
  {
   "cell_type": "code",
   "execution_count": null,
   "id": "571600f2-f157-47ba-a3ca-31a93d6be661",
   "metadata": {
    "tags": []
   },
   "outputs": [],
   "source": [
    "df_depression"
   ]
  },
  {
   "cell_type": "code",
   "execution_count": null,
   "id": "8e22f947-a992-4766-847e-c85918afa1a2",
   "metadata": {
    "tags": []
   },
   "outputs": [],
   "source": [
    "df_anxiety"
   ]
  },
  {
   "cell_type": "code",
   "execution_count": null,
   "id": "cda3f26f-d857-4d8f-8252-e95bd6bda8bb",
   "metadata": {
    "tags": []
   },
   "outputs": [],
   "source": [
    "df_stress"
   ]
  },
  {
   "cell_type": "code",
   "execution_count": null,
   "id": "eddc5b40-bbea-4be8-b4b9-98518f07d8ab",
   "metadata": {},
   "outputs": [],
   "source": [
    "keep = []"
   ]
  },
  {
   "cell_type": "code",
   "execution_count": null,
   "id": "974b1fbe-d4d9-48ea-a6a0-b59cd859d021",
   "metadata": {
    "tags": []
   },
   "outputs": [],
   "source": [
    "# for b_acc > 0.9 we remove the bottom 53 features\n",
    "keep = keep + depression_imp[:len(depression_imp)-53]"
   ]
  },
  {
   "cell_type": "code",
   "execution_count": null,
   "id": "aa0a3d9e-f5d6-4f92-a3e3-cb88a334d935",
   "metadata": {
    "tags": []
   },
   "outputs": [],
   "source": [
    "# for b_acc > 0.9 we remove the bottom 52 features\n",
    "keep = keep + anxiety_imp[:len(anxiety_imp)-52]"
   ]
  },
  {
   "cell_type": "code",
   "execution_count": null,
   "id": "6f24c9a6-2555-4b2c-b9e9-88e29b4b9d75",
   "metadata": {
    "tags": []
   },
   "outputs": [],
   "source": [
    "# for b_acc > 0.9 we remove the bottom 52 features\n",
    "keep = keep + stress_imp[:len(stress_imp)-52]"
   ]
  },
  {
   "cell_type": "code",
   "execution_count": null,
   "id": "6863df3d-53fd-4fff-9aac-b8c4b65999c8",
   "metadata": {},
   "outputs": [],
   "source": [
    "keep = list(set(keep))"
   ]
  },
  {
   "cell_type": "code",
   "execution_count": null,
   "id": "bf69a654-c14e-4f17-84c1-96780e3497fa",
   "metadata": {},
   "outputs": [],
   "source": [
    "len(keep)"
   ]
  }
 ],
 "metadata": {
  "kernelspec": {
   "display_name": "Python 3 (ipykernel)",
   "language": "python",
   "name": "python3"
  },
  "language_info": {
   "codemirror_mode": {
    "name": "ipython",
    "version": 3
   },
   "file_extension": ".py",
   "mimetype": "text/x-python",
   "name": "python",
   "nbconvert_exporter": "python",
   "pygments_lexer": "ipython3",
   "version": "3.9.7"
  }
 },
 "nbformat": 4,
 "nbformat_minor": 5
}
