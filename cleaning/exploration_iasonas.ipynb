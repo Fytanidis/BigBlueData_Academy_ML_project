{
 "cells": [
  {
   "cell_type": "code",
   "execution_count": null,
   "id": "bdf0dc12-5121-48fa-bc58-798c9891430e",
   "metadata": {},
   "outputs": [],
   "source": [
    "import pandas as pd\n",
    "import numpy as np\n",
    "import matplotlib.pyplot as plt\n",
    "import seaborn as sns\n",
    "from pandas_profiling import ProfileReport\n",
    "from pprint import pp\n",
    "import re\n",
    "import json"
   ]
  },
  {
   "cell_type": "code",
   "execution_count": null,
   "id": "bb50b365-2aec-456f-a294-38966999c7f7",
   "metadata": {},
   "outputs": [],
   "source": [
    "data = pd.read_csv('../data/data.csv', sep=r'\\t')"
   ]
  },
  {
   "cell_type": "code",
   "execution_count": null,
   "id": "fa03f7c6-56df-46a5-9b96-bba6e8bf5458",
   "metadata": {},
   "outputs": [],
   "source": [
    "data.shape"
   ]
  },
  {
   "cell_type": "code",
   "execution_count": null,
   "id": "e3909b63-a409-45fe-9fc4-5bb4a8bdbd85",
   "metadata": {},
   "outputs": [],
   "source": [
    "data.head()"
   ]
  },
  {
   "cell_type": "code",
   "execution_count": null,
   "id": "0e649af0-5859-4bc7-8606-3a9e4f8fba95",
   "metadata": {},
   "outputs": [],
   "source": [
    "# profile = ProfileReport(data, title=\"Pandas Profiling Report\", explorative=True)\n",
    "# profile.to_file(\"your_report.html\")"
   ]
  },
  {
   "cell_type": "code",
   "execution_count": null,
   "id": "d016c656-10c5-456d-bdf8-d80998f60fe5",
   "metadata": {},
   "outputs": [],
   "source": [
    "data.columns[data.isna().any()].tolist()"
   ]
  },
  {
   "cell_type": "code",
   "execution_count": null,
   "id": "fa5f1a66-962f-40a2-a827-73ad992c6987",
   "metadata": {},
   "outputs": [],
   "source": [
    "# fill those nan values with \"unknown\"\n",
    "data[['country', 'major']] = data[['country', 'major']].fillna('unknown')"
   ]
  },
  {
   "cell_type": "code",
   "execution_count": null,
   "id": "1ced6445-b472-4c6b-9ad3-fbf537e39423",
   "metadata": {},
   "outputs": [],
   "source": [
    "print(data.columns.to_list())"
   ]
  },
  {
   "cell_type": "markdown",
   "id": "eacd8022-70c3-43ff-9a91-74410f4a2c76",
   "metadata": {},
   "source": [
    "### Make Dictionary from Codebook and save to json"
   ]
  },
  {
   "cell_type": "code",
   "execution_count": null,
   "id": "6d9179f6-244d-4efa-8e50-84a6c300bcee",
   "metadata": {},
   "outputs": [],
   "source": [
    "with open('../data/codebook.txt', 'r') as f:\n",
    "    codebook = f.read()\n",
    "    lines = codebook.split('\\n')"
   ]
  },
  {
   "cell_type": "code",
   "execution_count": null,
   "id": "4eab314b-7899-4f1c-803b-388414c6a74b",
   "metadata": {},
   "outputs": [],
   "source": [
    "q_dict = {'questions': {}, 'answers': {}, 'TIPI_types': {}, \n",
    "          'TIPI_responses': {}, 'VCL': {}, 'other_questions': {}, 'other_answers': {}}\n",
    "for line in lines:\n",
    "    # get questions\n",
    "    if re.search('^Q\\d{1,2}\\s', line):   \n",
    "        QnA = line.split('\\t', 1)\n",
    "        q_dict['questions'][QnA[0]] = QnA[1].strip()\n",
    "        \n",
    "    # get answers\n",
    "    if re.search('^\\d = .*[aA]ppl.*', line):\n",
    "        ans = line.split(' = ')\n",
    "        q_dict['answers'][ans[0]] = ans[1].strip()\n",
    "        \n",
    "    # get TIPI (Ten Item Personality Inventory) types\n",
    "    if re.search('^TIPI\\d{1,2}\\s', line):\n",
    "        tipi = line.split('\\t', 1)\n",
    "        q_dict['TIPI_types'][tipi[0]] = tipi[1].strip()\n",
    "        \n",
    "    # get the TIPI responses\n",
    "    if re.search('^\\d = .*[aA]gree.*', line): \n",
    "        tipi = line.split(' = ')\n",
    "        q_dict['TIPI_responses'][tipi[0]] = tipi[1].strip()\n",
    "        \n",
    "    # get VCL (Vocabulary) codes\n",
    "    if re.search('^VCL', line):\n",
    "        vcl = line.split('\\t')\n",
    "        q_dict['VCL'][vcl[0]] = vcl[1].strip()\n",
    "    # get other questions\n",
    "    if re.search('.*\\s\\\".*\\\",\\s\\d', line):\n",
    "        other = line.split('\\t')\n",
    "        q = line.split(r'\"')[1].strip()\n",
    "        q_dict['other_questions'][other[0]] = q\n",
    "    # get other answers\n",
    "        responses = line.split(r'\"')[2].split(', ')[1:]\n",
    "        q_dict['other_answers'][other[0]] = {resp.split('=')[0]: resp.split('=')[1].strip() \n",
    "                                             for resp in responses if '=' in resp}\n",
    "\n",
    "            \n",
    "    "
   ]
  },
  {
   "cell_type": "code",
   "execution_count": null,
   "id": "470ec675-9c49-42c2-a0f1-4a295b4fba00",
   "metadata": {},
   "outputs": [],
   "source": [
    "with open('../data/codebook_dict.json', 'w') as f:\n",
    "    json.dump(q_dict, f)"
   ]
  },
  {
   "cell_type": "markdown",
   "id": "4e5d775b-f495-49cf-a950-acac97bcb4bf",
   "metadata": {},
   "source": [
    "DASS results\n",
    "\n",
    "Calculate DASS score and categories according to:\n",
    "https://www.psytoolkit.org/survey-library/depression-anxiety-stress-dass.html\n",
    "\n",
    "Severities of depression, anxiety and stress are categorized to:\n",
    "\n",
    "    0 - Normal\n",
    "    1 - Mild\n",
    "    2 - Moderate\n",
    "    3 - Severe\n",
    "    4 - Extremely severe\n",
    "\n"
   ]
  },
  {
   "cell_type": "code",
   "execution_count": null,
   "id": "9607339e-9e28-433b-8d85-e67f02c000f1",
   "metadata": {},
   "outputs": [],
   "source": [
    "df = data.copy()\n",
    "\n",
    "DASS_keys = {'Depression': [3, 5, 10, 13, 16, 17, 21, 24, 26, 31, 34, 37, 38, 42],\n",
    "             'Anxiety': [2, 4, 7, 9, 15, 19, 20, 23, 25, 28, 30, 36, 40, 41],\n",
    "             'Stress': [1, 6, 8, 11, 12, 14, 18, 22, 27, 29, 32, 33, 35, 39]}\n",
    "\n",
    "DASS_bins = {'Depression': [(0, 10), (10, 14), (14, 21), (21, 28)],\n",
    "             'Anxiety': [(0, 8), (8, 10), (10, 15), (15, 20)],\n",
    "             'Stress': [(0, 15), (15, 19), (19, 26), (26, 34)]}\n",
    "             \n",
    "\n",
    "for name, keys in DASS_keys.items():\n",
    "    # Subtract one to match definition of DASS score in source\n",
    "    df[name] = (df.filter(regex='Q(%s)A' % '|'.join(map(str, keys))) - 1).sum(axis=1)\n",
    "    \n",
    "    bins = DASS_bins[name]\n",
    "    bins.append( (DASS_bins[name][-1][-1], df[name].max() + 1) )\n",
    "    bins = pd.IntervalIndex.from_tuples(bins, closed='left')\n",
    "    df[name + '_cat'] = np.arange(len(bins))[pd.cut(df[name], bins=bins).cat.codes]\n",
    "    \n",
    "dass = df[DASS_keys.keys()]\n",
    "dass_cat = df[[k + '_cat' for k in DASS_keys.keys()]]\n",
    "\n"
   ]
  },
  {
   "cell_type": "code",
   "execution_count": null,
   "id": "a95f4b02-3f7e-4371-af7b-26a457b7465c",
   "metadata": {},
   "outputs": [],
   "source": [
    "# Calculation of the big five personality attributes according to:\n",
    "# http://gosling.psy.utexas.edu/wp-content/uploads/2014/09/JRP-03-tipi.pdfc\n",
    "\n",
    "# Add personality types to data\n",
    "personality_types = ['Extraversion', 'Agreeableness', 'Conscientiousness', 'EmotionalStability', 'Openness']\n",
    "\n",
    "# Invert some entries\n",
    "tipi = df.filter(regex='TIPI\\d+').copy()\n",
    "tipi_inv = tipi.filter(regex='TIPI(2|4|6|8|10)').apply(lambda d: 7 - d)\n",
    "tipi[tipi.columns.intersection(tipi_inv.columns)] = tipi_inv\n",
    "\n",
    "# Calculate scores\n",
    "for idx, pt in enumerate( personality_types ):\n",
    "    df[pt] = tipi[['TIPI{}'.format(idx + 1), 'TIPI{}'.format(6 + idx)]].mean(axis=1)\n",
    "\n",
    "personalities = df[personality_types]"
   ]
  },
  {
   "cell_type": "code",
   "execution_count": null,
   "id": "a9bbc227-9f71-4181-9142-7d1c616492ee",
   "metadata": {},
   "outputs": [],
   "source": [
    "# There are no nan values\n",
    "df.isna().sum().sum()"
   ]
  },
  {
   "cell_type": "code",
   "execution_count": null,
   "id": "0142b668-d8c7-49c9-972d-9e2efc5de993",
   "metadata": {
    "jupyter": {
     "outputs_hidden": true
    },
    "tags": []
   },
   "outputs": [],
   "source": [
    "CMAP = 'Oranges'\n",
    "df.describe().T.style.background_gradient(cmap = CMAP)"
   ]
  },
  {
   "cell_type": "code",
   "execution_count": null,
   "id": "6658a0c3-a151-44ee-bf7d-fb2feec9dd4c",
   "metadata": {},
   "outputs": [],
   "source": [
    "df"
   ]
  },
  {
   "cell_type": "code",
   "execution_count": null,
   "id": "ff66157d-e4eb-40a3-be59-fb9268417054",
   "metadata": {},
   "outputs": [],
   "source": [
    "df.to_csv('../data/data_labeled.csv')"
   ]
  }
 ],
 "metadata": {
  "kernelspec": {
   "display_name": "Python 3 (ipykernel)",
   "language": "python",
   "name": "python3"
  },
  "language_info": {
   "codemirror_mode": {
    "name": "ipython",
    "version": 3
   },
   "file_extension": ".py",
   "mimetype": "text/x-python",
   "name": "python",
   "nbconvert_exporter": "python",
   "pygments_lexer": "ipython3",
   "version": "3.9.7"
  }
 },
 "nbformat": 4,
 "nbformat_minor": 5
}
