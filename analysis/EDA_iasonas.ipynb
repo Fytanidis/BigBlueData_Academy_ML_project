{
 "cells": [
  {
   "cell_type": "code",
   "execution_count": null,
   "id": "67aa8520-cece-4911-ad15-202319f4aa75",
   "metadata": {},
   "outputs": [],
   "source": [
    "import pandas as pd\n",
    "import numpy as np\n",
    "import matplotlib.pyplot as plt\n",
    "import seaborn as sns\n",
    "from sklearn.model_selection import GridSearchCV\n",
    "from sklearn.model_selection import train_test_split, cross_val_score\n",
    "from sklearn.metrics import classification_report, ConfusionMatrixDisplay\n",
    "from sklearn.svm import SVC\n",
    "from sklearn import metrics\n",
    "from sklearn.preprocessing import StandardScaler\n",
    "from sklearn.pipeline import Pipeline\n",
    "from sklearn.ensemble import RandomForestClassifier\n",
    "import shap\n",
    "from sklearn.ensemble import AdaBoostClassifier\n",
    "from xgboost import XGBRFClassifier\n",
    "from lightgbm import LGBMClassifier\n",
    "import json\n",
    "from sklearn.model_selection import StratifiedKFold\n",
    "from sklearn.feature_selection import RFECV"
   ]
  },
  {
   "cell_type": "code",
   "execution_count": null,
   "id": "85e9bc0b-b6ab-425c-910f-60e25fd85c10",
   "metadata": {},
   "outputs": [],
   "source": [
    "data = pd.read_csv('../data/data_labeled.csv', index_col=0)"
   ]
  },
  {
   "cell_type": "code",
   "execution_count": null,
   "id": "7b84f5b9-02ba-4d39-94c3-2ce87adc6f25",
   "metadata": {},
   "outputs": [],
   "source": [
    "with open('../data/codebook_dict.json', 'r') as f:\n",
    "    code = json.load(f)"
   ]
  },
  {
   "cell_type": "code",
   "execution_count": null,
   "id": "9102b8a9-2159-414a-8ab3-e09cbc09ec55",
   "metadata": {},
   "outputs": [],
   "source": [
    "DASS_keys = {'Depression': [3, 5, 10, 13, 16, 17, 21, 24, 26, 31, 34, 37, 38, 42],\n",
    "             'Anxiety': [2, 4, 7, 9, 15, 19, 20, 23, 25, 28, 30, 36, 40, 41],\n",
    "             'Stress': [1, 6, 8, 11, 12, 14, 18, 22, 27, 29, 32, 33, 35, 39]}\n",
    "\n",
    "DASS_bins = {'Depression': [(0, 10), (10, 14), (14, 21), (21, 28)],\n",
    "             'Anxiety': [(0, 8), (8, 10), (10, 15), (15, 20)],\n",
    "             'Stress': [(0, 15), (15, 19), (19, 26), (26, 34)]}\n",
    "             "
   ]
  },
  {
   "cell_type": "code",
   "execution_count": null,
   "id": "32259b6e-1712-441e-83e5-884f69e4bd00",
   "metadata": {},
   "outputs": [],
   "source": [
    "severity = {0: 'Normal', 1: 'Mild', 2: 'Moderate', 3: 'Severe', 4:'Extremely severe'}"
   ]
  },
  {
   "cell_type": "code",
   "execution_count": null,
   "id": "fc27f069-8d98-4afa-9bfd-7e8d9142798c",
   "metadata": {},
   "outputs": [],
   "source": [
    "to_drop = data.filter(regex='Q\\d{1,2}[IE]|VCL.*', axis=1).columns.to_list()"
   ]
  },
  {
   "cell_type": "code",
   "execution_count": null,
   "id": "a220a702-453c-4674-9b1b-dbbfbc259c63",
   "metadata": {},
   "outputs": [],
   "source": [
    "df1 = data.drop(labels=to_drop, axis=1).drop(['introelapse', 'testelapse', 'surveyelapse', \n",
    "                                              'uniquenetworklocation', 'screensize', 'hand', 'country','source'], axis=1)"
   ]
  },
  {
   "cell_type": "markdown",
   "id": "e570fadd-62e6-40b8-9d9e-b06e41f8383b",
   "metadata": {},
   "source": [
    "### Barplots"
   ]
  },
  {
   "cell_type": "code",
   "execution_count": null,
   "id": "915fb39e-97bb-46ff-a97b-56adc4e984dc",
   "metadata": {},
   "outputs": [],
   "source": [
    "group_dep = df1.groupby('Depression_cat')['Q1A'].count().reset_index().rename(columns={'Q1A': 'counts'})\n",
    "group_dep['Depression_Severity'] = group_dep.Depression_cat.replace(severity)\n",
    "group_dep['Percentage'] = group_dep.counts/group_dep.counts.sum()*100"
   ]
  },
  {
   "cell_type": "code",
   "execution_count": null,
   "id": "60ca5b8f-8d9e-43ae-8175-2ce5bad8fed4",
   "metadata": {},
   "outputs": [],
   "source": [
    "plt.figure(figsize=(10, 5))\n",
    "sns.set(font_scale=1.5)\n",
    "sns.barplot(data=group_dep, x='Depression_Severity', y='Percentage', palette='Oranges')\n",
    "plt.xlabel('Depression')\n",
    "plt.savefig('../presentation/depression_bars.png', dpi=200)"
   ]
  },
  {
   "cell_type": "code",
   "execution_count": null,
   "id": "6f487b39-bc7a-43c8-8d6d-0162a409afc8",
   "metadata": {},
   "outputs": [],
   "source": [
    "group_dep = df1.groupby('Anxiety_cat')['Q1A'].count().reset_index().rename(columns={'Q1A': 'counts'})\n",
    "group_dep['Anxiety_Severity'] = group_dep.Anxiety_cat.replace(severity)\n",
    "group_dep['Percentage'] = group_dep.counts/group_dep.counts.sum()*100"
   ]
  },
  {
   "cell_type": "code",
   "execution_count": null,
   "id": "b3785830-8017-4ba2-b0c4-f6304ddb86f0",
   "metadata": {},
   "outputs": [],
   "source": [
    "plt.figure(figsize=(10, 5))\n",
    "sns.set(font_scale=1.5)\n",
    "sns.barplot(data=group_dep, x='Anxiety_Severity', y='Percentage', palette='Oranges')\n",
    "plt.xlabel('Anxiety')\n",
    "plt.savefig('../presentation/anxiety_bars.png', dpi=200)"
   ]
  },
  {
   "cell_type": "code",
   "execution_count": null,
   "id": "59e0f54f-cb97-4bf0-945b-f42b85c87945",
   "metadata": {},
   "outputs": [],
   "source": [
    "group_dep = df1.groupby('Stress_cat')['Q1A'].count().reset_index().rename(columns={'Q1A': 'counts'})\n",
    "group_dep['Stress_Severity'] = group_dep.Stress_cat.replace(severity)\n",
    "group_dep['Percentage'] = group_dep.counts/group_dep.counts.sum()*100"
   ]
  },
  {
   "cell_type": "code",
   "execution_count": null,
   "id": "c31f80ec-163c-4e3a-b68d-5d3a6226d84c",
   "metadata": {},
   "outputs": [],
   "source": [
    "plt.figure(figsize=(10, 5))\n",
    "sns.set(font_scale=1.5)\n",
    "sns.barplot(data=group_dep, x='Stress_Severity', y='Percentage', palette='Oranges')\n",
    "plt.xlabel('Stress')\n",
    "plt.savefig('../presentation/stress_bars.png', dpi=200)"
   ]
  },
  {
   "cell_type": "markdown",
   "id": "a117aa35-65bf-43fc-880b-c7e6083e5deb",
   "metadata": {},
   "source": [
    "## Correlation Map between Depression, Stress and Anxiety"
   ]
  },
  {
   "cell_type": "code",
   "execution_count": null,
   "id": "3b0eb284-685b-46af-ab7a-eba790d89749",
   "metadata": {},
   "outputs": [],
   "source": [
    "df_cor = df1[['Depression_cat', 'Anxiety_cat', 'Stress_cat']]"
   ]
  },
  {
   "cell_type": "code",
   "execution_count": null,
   "id": "15ddb8eb-e375-4b17-bfa6-6ed6425b50af",
   "metadata": {},
   "outputs": [],
   "source": [
    "plt.figure()\n",
    "heatmap = sns.heatmap(df_cor.corr(),vmin=-1, vmax=1, annot=True)\n",
    "plt.savefig('../presentation/DAS_cmap.png', dpi=200)"
   ]
  },
  {
   "cell_type": "markdown",
   "id": "27b1f8a7-04ba-4901-bc33-031a7a6f4c8a",
   "metadata": {},
   "source": [
    "Maybe we can try predict e.g. anxiety from depression questions"
   ]
  },
  {
   "cell_type": "markdown",
   "id": "9d950506-1c5e-4c80-92df-c466a27f5059",
   "metadata": {},
   "source": [
    "## Correlation Map between Depression, Stress, Anxiety and TIPI questions"
   ]
  },
  {
   "cell_type": "code",
   "execution_count": null,
   "id": "1cc00d40-456f-4358-9703-6c64a2aa1f02",
   "metadata": {},
   "outputs": [],
   "source": [
    "df_tipi = df1.loc[:, 'TIPI1':'TIPI10']\n",
    "df_tipi = pd.concat([df_tipi, df_cor], axis=1)"
   ]
  },
  {
   "cell_type": "code",
   "execution_count": null,
   "id": "e85b0502-f0a0-494e-bfba-732732bac27c",
   "metadata": {},
   "outputs": [],
   "source": [
    "df_tipi.head(2)"
   ]
  },
  {
   "cell_type": "code",
   "execution_count": null,
   "id": "dabc786c-0ebb-4d40-8dc1-54d69b14f6cc",
   "metadata": {},
   "outputs": [],
   "source": [
    "plt.figure(figsize=(15, 12))\n",
    "heatmap = sns.heatmap(df_tipi.corr(),vmin=-1, vmax=1, annot=True, cmap='Oranges')\n",
    "plt.savefig('../presentation/TIPI_cmap.png', dpi=200)"
   ]
  },
  {
   "cell_type": "markdown",
   "id": "d92820ce-9c2c-4d89-94d1-5fcb57c4a16b",
   "metadata": {},
   "source": [
    "### Average reply score by question"
   ]
  },
  {
   "cell_type": "code",
   "execution_count": null,
   "id": "d071bef4-d1b1-4508-8de3-704d47a9cb6b",
   "metadata": {},
   "outputs": [],
   "source": [
    "qu_mean = df1.loc[:, 'Q1A': 'Q42A'].mean().sort_values().reset_index().rename(columns={'index': 'question', 0:'mean_answer'})"
   ]
  },
  {
   "cell_type": "code",
   "execution_count": null,
   "id": "9b575106-dcf2-4769-af7f-b995b170e432",
   "metadata": {},
   "outputs": [],
   "source": [
    "qu_mean.head(2)"
   ]
  },
  {
   "cell_type": "code",
   "execution_count": null,
   "id": "ecf9121f-5198-48f5-a84f-c654dc1c1483",
   "metadata": {},
   "outputs": [],
   "source": [
    "plt.figure(figsize=(12, 8))\n",
    "first = ['g']*6 + ['grey']*34 + ['r']*2\n",
    "ax = sns.barplot(data=qu_mean, x='question', y='mean_answer', palette=first)\n",
    "ax.axhline(y=qu_mean.mean()[0])\n",
    "plt.xticks(rotation=60)"
   ]
  },
  {
   "cell_type": "code",
   "execution_count": null,
   "id": "29f6f715-09b4-458a-af45-78fbcda7fd6a",
   "metadata": {},
   "outputs": [],
   "source": [
    "qu_mean.mean().va"
   ]
  },
  {
   "cell_type": "code",
   "execution_count": null,
   "id": "182596aa-3dc9-457f-8985-4d6c328af138",
   "metadata": {},
   "outputs": [],
   "source": [
    "[2,3] + [2]"
   ]
  },
  {
   "cell_type": "code",
   "execution_count": null,
   "id": "d8e92ab2-84f9-4ec0-baca-e17897f1c61b",
   "metadata": {},
   "outputs": [],
   "source": []
  }
 ],
 "metadata": {
  "kernelspec": {
   "display_name": "Python 3 (ipykernel)",
   "language": "python",
   "name": "python3"
  },
  "language_info": {
   "codemirror_mode": {
    "name": "ipython",
    "version": 3
   },
   "file_extension": ".py",
   "mimetype": "text/x-python",
   "name": "python",
   "nbconvert_exporter": "python",
   "pygments_lexer": "ipython3",
   "version": "3.9.7"
  }
 },
 "nbformat": 4,
 "nbformat_minor": 5
}
