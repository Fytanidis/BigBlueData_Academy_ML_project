{
 "cells": [
  {
   "cell_type": "code",
   "execution_count": null,
   "id": "0874fd14",
   "metadata": {
    "_cell_guid": "b1076dfc-b9ad-4769-8c92-a6c4dae69d19",
    "_uuid": "8f2839f25d086af736a60e9eeb907d3b93b6e0e5",
    "papermill": {
     "duration": 0.061016,
     "end_time": "2021-11-17T16:18:00.886235",
     "exception": false,
     "start_time": "2021-11-17T16:18:00.825219",
     "status": "completed"
    },
    "tags": []
   },
   "outputs": [],
   "source": [
    "# This Python 3 environment comes with many helpful analytics libraries installed\n",
    "# It is defined by the kaggle/python Docker image: https://github.com/kaggle/docker-python\n",
    "# For example, here's several helpful packages to load\n",
    "\n",
    "import numpy as np # linear algebra\n",
    "import pandas as pd # data processing, CSV file I/O (e.g. pd.read_csv)\n",
    "\n",
    "# Input data files are available in the read-only \"../input/\" directory\n",
    "# For example, running this (by clicking run or pressing Shift+Enter) will list all files under the input directory\n",
    "\n",
    "import os\n",
    "for dirname, _, filenames in os.walk('/kaggle/input'):\n",
    "    for filename in filenames:\n",
    "        print(os.path.join(dirname, filename))\n",
    "\n",
    "# You can write up to 20GB to the current directory (/kaggle/working/) that gets preserved as output when you create a version using \"Save & Run All\" \n",
    "# You can also write temporary files to /kaggle/temp/, but they won't be saved outside of the current session"
   ]
  },
  {
   "cell_type": "code",
   "execution_count": null,
   "id": "eedb1a10",
   "metadata": {
    "papermill": {
     "duration": 8.391288,
     "end_time": "2021-11-17T16:18:09.302075",
     "exception": false,
     "start_time": "2021-11-17T16:18:00.910787",
     "status": "completed"
    },
    "tags": []
   },
   "outputs": [],
   "source": [
    "df = pd.read_csv('../input/depression-anxiety-stress-scales/DASS_data_21.02.19/data.csv', sep=r'\\t', engine='python')"
   ]
  },
  {
   "cell_type": "code",
   "execution_count": null,
   "id": "c05310f1",
   "metadata": {
    "papermill": {
     "duration": 0.052474,
     "end_time": "2021-11-17T16:18:09.376550",
     "exception": false,
     "start_time": "2021-11-17T16:18:09.324076",
     "status": "completed"
    },
    "tags": []
   },
   "outputs": [],
   "source": [
    "df.head()"
   ]
  },
  {
   "cell_type": "code",
   "execution_count": null,
   "id": "7c8d1779",
   "metadata": {
    "papermill": {
     "duration": 0.033928,
     "end_time": "2021-11-17T16:18:09.433298",
     "exception": false,
     "start_time": "2021-11-17T16:18:09.399370",
     "status": "completed"
    },
    "tags": []
   },
   "outputs": [],
   "source": [
    "DASS_keys = {'Depression': [3, 5, 10, 13, 16, 17, 21, 24, 26, 31, 34, 37, 38, 42],\n",
    "             'Anxiety': [2, 4, 7, 9, 15, 19, 20, 23, 25, 28, 30, 36, 40, 41],\n",
    "             'Stress': [1, 6, 8, 11, 12, 14, 18, 22, 27, 29, 32, 33, 35, 39]}\n",
    "\n",
    "DASS_bins = {'Depression': [(0, 10), (10, 14), (14, 21), (21, 28)],\n",
    "             'Anxiety': [(0, 8), (8, 10), (10, 15), (15, 20)],\n",
    "             'Stress': [(0, 15), (15, 19), (19, 26), (26, 34)]}"
   ]
  },
  {
   "cell_type": "code",
   "execution_count": null,
   "id": "5d4d919b",
   "metadata": {
    "papermill": {
     "duration": 0.034151,
     "end_time": "2021-11-17T16:18:09.489825",
     "exception": false,
     "start_time": "2021-11-17T16:18:09.455674",
     "status": "completed"
    },
    "tags": []
   },
   "outputs": [],
   "source": [
    "only_q = df.filter(regex='Q\\d{1,2}A')"
   ]
  },
  {
   "cell_type": "code",
   "execution_count": null,
   "id": "33c2185b",
   "metadata": {
    "papermill": {
     "duration": 1.042097,
     "end_time": "2021-11-17T16:18:10.555048",
     "exception": false,
     "start_time": "2021-11-17T16:18:09.512951",
     "status": "completed"
    },
    "tags": []
   },
   "outputs": [],
   "source": [
    "import seaborn as sn\n",
    "def draw_freq_plot(df):\n",
    "    cnt_num = [(df[df == i].sum(axis=1).sum())/(i) for i in range(1,5)]\n",
    "    ax=sn.barplot(x = [0,1,2,3], y=cnt_num)\n",
    "    ax.set_xlabel('Level')\n",
    "    ax.set_ylabel('Frequency')"
   ]
  },
  {
   "cell_type": "code",
   "execution_count": null,
   "id": "050eb05c",
   "metadata": {
    "papermill": {
     "duration": 0.030449,
     "end_time": "2021-11-17T16:18:10.608154",
     "exception": false,
     "start_time": "2021-11-17T16:18:10.577705",
     "status": "completed"
    },
    "tags": []
   },
   "outputs": [],
   "source": [
    "def sub(df):\n",
    "    return df.subtract(1, axis=1)"
   ]
  },
  {
   "cell_type": "code",
   "execution_count": null,
   "id": "0f7d2082",
   "metadata": {
    "papermill": {
     "duration": 0.031542,
     "end_time": "2021-11-17T16:18:10.664958",
     "exception": false,
     "start_time": "2021-11-17T16:18:10.633416",
     "status": "completed"
    },
    "tags": []
   },
   "outputs": [],
   "source": [
    "dep = []\n",
    "for i in DASS_keys[\"Depression\"]:\n",
    "    dep.append('Q'+str(i)+'A')\n",
    "stress = []\n",
    "for i in DASS_keys[\"Stress\"]:\n",
    "    stress.append('Q'+str(i)+'A')\n",
    "anx = []\n",
    "for i in DASS_keys[\"Anxiety\"]:\n",
    "    anx.append('Q'+str(i)+'A')"
   ]
  },
  {
   "cell_type": "code",
   "execution_count": null,
   "id": "c9c8a40e",
   "metadata": {
    "papermill": {
     "duration": 0.03691,
     "end_time": "2021-11-17T16:18:10.724647",
     "exception": false,
     "start_time": "2021-11-17T16:18:10.687737",
     "status": "completed"
    },
    "tags": []
   },
   "outputs": [],
   "source": [
    "depression_q = only_q.filter(dep)\n",
    "stress_q = only_q.filter(stress)\n",
    "anxiety_q = only_q.filter(anx)"
   ]
  },
  {
   "cell_type": "code",
   "execution_count": null,
   "id": "d5cbd908",
   "metadata": {
    "papermill": {
     "duration": 0.479549,
     "end_time": "2021-11-17T16:18:11.226772",
     "exception": false,
     "start_time": "2021-11-17T16:18:10.747223",
     "status": "completed"
    },
    "tags": []
   },
   "outputs": [],
   "source": [
    "draw_freq_plot(stress_q)"
   ]
  },
  {
   "cell_type": "code",
   "execution_count": null,
   "id": "41b5e075",
   "metadata": {
    "papermill": {
     "duration": 0.459362,
     "end_time": "2021-11-17T16:18:11.709490",
     "exception": false,
     "start_time": "2021-11-17T16:18:11.250128",
     "status": "completed"
    },
    "tags": []
   },
   "outputs": [],
   "source": [
    "draw_freq_plot(depression_q)"
   ]
  },
  {
   "cell_type": "code",
   "execution_count": null,
   "id": "99fe1f9b",
   "metadata": {
    "papermill": {
     "duration": 0.446676,
     "end_time": "2021-11-17T16:18:12.184564",
     "exception": false,
     "start_time": "2021-11-17T16:18:11.737888",
     "status": "completed"
    },
    "tags": []
   },
   "outputs": [],
   "source": [
    "draw_freq_plot(anxiety_q)"
   ]
  },
  {
   "cell_type": "code",
   "execution_count": null,
   "id": "e96e3a3a",
   "metadata": {
    "papermill": {
     "duration": 0.035261,
     "end_time": "2021-11-17T16:18:12.245098",
     "exception": false,
     "start_time": "2021-11-17T16:18:12.209837",
     "status": "completed"
    },
    "tags": []
   },
   "outputs": [],
   "source": [
    "depression_q = sub(depression_q)\n",
    "stress_q = sub(stress_q)\n",
    "anxiety_q = sub(anxiety_q)"
   ]
  },
  {
   "cell_type": "code",
   "execution_count": null,
   "id": "c4a84734",
   "metadata": {
    "papermill": {
     "duration": 0.047239,
     "end_time": "2021-11-17T16:18:12.317526",
     "exception": false,
     "start_time": "2021-11-17T16:18:12.270287",
     "status": "completed"
    },
    "tags": []
   },
   "outputs": [],
   "source": [
    "depression_q.info()"
   ]
  },
  {
   "cell_type": "code",
   "execution_count": null,
   "id": "4c4b750f",
   "metadata": {
    "papermill": {
     "duration": 0.037518,
     "end_time": "2021-11-17T16:18:12.380040",
     "exception": false,
     "start_time": "2021-11-17T16:18:12.342522",
     "status": "completed"
    },
    "tags": []
   },
   "outputs": [],
   "source": [
    "depression_q.isnull().sum()"
   ]
  },
  {
   "cell_type": "code",
   "execution_count": null,
   "id": "e955d35c",
   "metadata": {
    "papermill": {
     "duration": 0.041545,
     "end_time": "2021-11-17T16:18:12.446711",
     "exception": false,
     "start_time": "2021-11-17T16:18:12.405166",
     "status": "completed"
    },
    "tags": []
   },
   "outputs": [],
   "source": [
    "depression_q.head()"
   ]
  },
  {
   "cell_type": "code",
   "execution_count": null,
   "id": "1cc0e4c7",
   "metadata": {
    "papermill": {
     "duration": 0.032932,
     "end_time": "2021-11-17T16:18:12.505456",
     "exception": false,
     "start_time": "2021-11-17T16:18:12.472524",
     "status": "completed"
    },
    "tags": []
   },
   "outputs": [],
   "source": [
    "def scores(df):\n",
    "    col = list(df)\n",
    "    df[\"Scores\"] = df[col].sum(axis=1)\n",
    "    return df"
   ]
  },
  {
   "cell_type": "code",
   "execution_count": null,
   "id": "d9353fe6",
   "metadata": {
    "papermill": {
     "duration": 0.044837,
     "end_time": "2021-11-17T16:18:12.576128",
     "exception": false,
     "start_time": "2021-11-17T16:18:12.531291",
     "status": "completed"
    },
    "tags": []
   },
   "outputs": [],
   "source": [
    "train_dep = scores(depression_q)\n",
    "train_str = scores(stress_q)\n",
    "train_anx = scores(anxiety_q)"
   ]
  },
  {
   "cell_type": "code",
   "execution_count": null,
   "id": "7a42821a",
   "metadata": {
    "papermill": {
     "duration": 0.04144,
     "end_time": "2021-11-17T16:18:12.643449",
     "exception": false,
     "start_time": "2021-11-17T16:18:12.602009",
     "status": "completed"
    },
    "tags": []
   },
   "outputs": [],
   "source": [
    "train_dep.head()"
   ]
  },
  {
   "cell_type": "code",
   "execution_count": null,
   "id": "d963dc21",
   "metadata": {
    "papermill": {
     "duration": 0.05975,
     "end_time": "2021-11-17T16:18:12.729619",
     "exception": false,
     "start_time": "2021-11-17T16:18:12.669869",
     "status": "completed"
    },
    "tags": []
   },
   "outputs": [],
   "source": [
    "def append(df, string):\n",
    "    conditions = [\n",
    "    ((df['Scores'] >= DASS_bins[string][0][0])  & (df['Scores'] < DASS_bins[string][0][1])),\n",
    "    ((df['Scores'] >= DASS_bins[string][1][0])  & (df['Scores'] < DASS_bins[string][1][1])),\n",
    "    ((df['Scores'] >= DASS_bins[string][2][0])  & (df['Scores'] < DASS_bins[string][2][1])),\n",
    "    ((df['Scores'] >= DASS_bins[string][3][0])  & (df['Scores'] < DASS_bins[string][3][1])),\n",
    "    (((df['Scores'] >= DASS_bins[string][3][1])))\n",
    "    ]\n",
    "    values = ['Normal','Mild', 'Moderate', 'Severe', 'Extremely Severe']\n",
    "    df['Category'] = np.select(conditions, values)\n",
    "    return df\n",
    "    \n",
    "train_dep = append(train_dep, 'Depression')\n",
    "train_dep.head()"
   ]
  },
  {
   "cell_type": "code",
   "execution_count": null,
   "id": "9ad5fd10",
   "metadata": {
    "papermill": {
     "duration": 0.226429,
     "end_time": "2021-11-17T16:18:12.984072",
     "exception": false,
     "start_time": "2021-11-17T16:18:12.757643",
     "status": "completed"
    },
    "tags": []
   },
   "outputs": [],
   "source": [
    "from sklearn.model_selection import train_test_split\n",
    "from sklearn.naive_bayes import MultinomialNB\n",
    "cat = train_dep['Category']\n",
    "train_dep.drop('Category', inplace=True, axis=1)"
   ]
  },
  {
   "cell_type": "code",
   "execution_count": null,
   "id": "e53008ad",
   "metadata": {
    "papermill": {
     "duration": 0.051961,
     "end_time": "2021-11-17T16:18:13.063251",
     "exception": false,
     "start_time": "2021-11-17T16:18:13.011290",
     "status": "completed"
    },
    "tags": []
   },
   "outputs": [],
   "source": [
    "Xtrain,Xtest,ytrain,ytest = train_test_split(train_dep, cat, train_size=0.75,random_state=2)\n",
    "print(Xtrain.shape, ytrain.shape, Xtest.shape, ytest.shape)"
   ]
  },
  {
   "cell_type": "code",
   "execution_count": null,
   "id": "7d4f09aa",
   "metadata": {
    "papermill": {
     "duration": 0.042563,
     "end_time": "2021-11-17T16:18:13.134449",
     "exception": false,
     "start_time": "2021-11-17T16:18:13.091886",
     "status": "completed"
    },
    "tags": []
   },
   "outputs": [],
   "source": [
    "import matplotlib.pyplot as plt\n",
    "from sklearn.metrics import confusion_matrix\n",
    "def plot_confusion_matrix(y_true, y_pred, classes,\n",
    "                          normalize=False,\n",
    "                          title=None,\n",
    "                          cmap=plt.cm.Blues):\n",
    "    \"\"\"\n",
    "    This function prints and plots the confusion matrix.\n",
    "    Normalization can be applied by setting `normalize=True`.\n",
    "    \"\"\"\n",
    " \n",
    "    title = 'Confusion Matrix'\n",
    "\n",
    "    # Compute confusion matrix\n",
    "    cm = confusion_matrix(y_true, y_pred, labels=classes)\n",
    "\n",
    "    fig, ax = plt.subplots(figsize=(5,5))\n",
    "    im = ax.imshow(cm, interpolation='nearest', cmap=cmap)\n",
    "    # ax.figure.colorbar(im, ax=ax)\n",
    "    ax.figure.colorbar(im, ax=ax, fraction=0.046, pad=0.04)\n",
    "    # We want to show all ticks...\n",
    "    ax.set(xticks=np.arange(cm.shape[1]),\n",
    "           yticks=np.arange(cm.shape[0]),\n",
    "           # ... and label them with the respective list entries\n",
    "           xticklabels=classes, yticklabels=classes,\n",
    "           title=title,\n",
    "           ylabel='True label',\n",
    "           xlabel='Predicted label')\n",
    "\n",
    "    # Rotate the tick labels and set their alignment.\n",
    "    plt.setp(ax.get_xticklabels(), rotation=0)\n",
    "\n",
    "    # Loop over data dimensions and create text annotations.\n",
    "    fmt = '.2f' if normalize else 'd'\n",
    "    thresh = cm.max() / 2.\n",
    "    for i in range(cm.shape[0]):\n",
    "        for j in range(cm.shape[1]):\n",
    "            ax.text(j, i, format(cm[i, j], fmt),\n",
    "                    ha=\"center\", va=\"center\",\n",
    "                    color=\"white\" if cm[i, j] > thresh else \"black\")\n",
    "    fig.tight_layout()\n",
    "    \n",
    "    plt.grid(b=None)"
   ]
  },
  {
   "cell_type": "code",
   "execution_count": null,
   "id": "9c431114",
   "metadata": {
    "papermill": {
     "duration": 0.87708,
     "end_time": "2021-11-17T16:18:14.039002",
     "exception": false,
     "start_time": "2021-11-17T16:18:13.161922",
     "status": "completed"
    },
    "tags": []
   },
   "outputs": [],
   "source": [
    "from sklearn.metrics import plot_confusion_matrix\n",
    "from sklearn.metrics import f1_score\n",
    "model_d = MultinomialNB(alpha=0.0001, fit_prior = False)\n",
    "model_d.fit(Xtrain,ytrain)\n",
    "plot_confusion_matrix(model_d, Xtest, ytest)\n",
    "predictions = model_d.predict(Xtest)\n",
    "f1_score(ytest,predictions, average = 'micro')"
   ]
  },
  {
   "cell_type": "code",
   "execution_count": null,
   "id": "1ddd6efc",
   "metadata": {
    "papermill": {
     "duration": 2.640802,
     "end_time": "2021-11-17T16:18:16.709029",
     "exception": false,
     "start_time": "2021-11-17T16:18:14.068227",
     "status": "completed"
    },
    "tags": []
   },
   "outputs": [],
   "source": [
    "from sklearn.ensemble import RandomForestClassifier\n",
    "model1 = RandomForestClassifier(random_state=0)\n",
    "model1.fit(Xtrain,ytrain)\n",
    "plot_confusion_matrix(model1, Xtest, ytest)\n",
    "predictions = model1.predict(Xtest)\n",
    "f1_score(ytest,predictions, average = 'micro')"
   ]
  },
  {
   "cell_type": "code",
   "execution_count": null,
   "id": "f3dc4beb",
   "metadata": {
    "papermill": {
     "duration": 4.152481,
     "end_time": "2021-11-17T16:18:20.891377",
     "exception": false,
     "start_time": "2021-11-17T16:18:16.738896",
     "status": "completed"
    },
    "tags": []
   },
   "outputs": [],
   "source": [
    "from sklearn.neighbors import KNeighborsClassifier\n",
    "model2 = KNeighborsClassifier(n_neighbors=3)\n",
    "model2.fit(Xtrain,ytrain)\n",
    "plot_confusion_matrix(model2, Xtest, ytest)\n",
    "predictions = model2.predict(Xtest)\n",
    "f1_score(ytest,predictions, average = 'micro')"
   ]
  }
 ],
 "metadata": {
  "kernelspec": {
   "display_name": "Python 3 (ipykernel)",
   "language": "python",
   "name": "python3"
  },
  "language_info": {
   "codemirror_mode": {
    "name": "ipython",
    "version": 3
   },
   "file_extension": ".py",
   "mimetype": "text/x-python",
   "name": "python",
   "nbconvert_exporter": "python",
   "pygments_lexer": "ipython3",
   "version": "3.9.7"
  },
  "papermill": {
   "default_parameters": {},
   "duration": 30.086874,
   "end_time": "2021-11-17T16:18:21.641177",
   "environment_variables": {},
   "exception": null,
   "input_path": "__notebook__.ipynb",
   "output_path": "__notebook__.ipynb",
   "parameters": {},
   "start_time": "2021-11-17T16:17:51.554303",
   "version": "2.3.3"
  }
 },
 "nbformat": 4,
 "nbformat_minor": 5
}
