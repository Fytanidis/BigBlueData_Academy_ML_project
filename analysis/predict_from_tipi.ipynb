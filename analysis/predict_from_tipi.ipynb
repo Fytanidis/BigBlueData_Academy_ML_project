{
 "cells": [
  {
   "cell_type": "code",
   "execution_count": null,
   "id": "143031ea-af64-4c65-a568-8627342730b8",
   "metadata": {},
   "outputs": [],
   "source": [
    "import pandas as pd\n",
    "import numpy as np\n",
    "import matplotlib.pyplot as plt\n",
    "import seaborn as sns\n",
    "from sklearn.model_selection import GridSearchCV\n",
    "from sklearn.model_selection import train_test_split, cross_val_score\n",
    "from sklearn.metrics import classification_report, ConfusionMatrixDisplay\n",
    "from sklearn.svm import SVC\n",
    "from sklearn import metrics\n",
    "from sklearn.preprocessing import StandardScaler\n",
    "from sklearn.pipeline import Pipeline\n",
    "from sklearn.ensemble import RandomForestClassifier\n",
    "import shap\n",
    "from sklearn.ensemble import AdaBoostClassifier\n",
    "from xgboost import XGBRFClassifier\n",
    "from lightgbm import LGBMClassifier\n",
    "import json\n",
    "from sklearn.model_selection import StratifiedKFold\n",
    "from sklearn.feature_selection import RFECV"
   ]
  },
  {
   "cell_type": "code",
   "execution_count": null,
   "id": "c79c5ba7-7f4d-42bf-8f59-1bd9b6619c42",
   "metadata": {},
   "outputs": [],
   "source": [
    "data = pd.read_csv('../data/data_labeled.csv', index_col=0)"
   ]
  },
  {
   "cell_type": "code",
   "execution_count": null,
   "id": "6c3ec5d0-5cdc-4f72-a4ea-eeef117c9858",
   "metadata": {},
   "outputs": [],
   "source": [
    "data['Stress_cat'].replace({1:0, 2:1, 3:1, 4:1}, inplace=True)\n",
    "data['Anxiety_cat'].replace({1:0, 2:1, 3:1, 4:1}, inplace=True)\n",
    "data['Depression_cat'].replace({1:0, 2:1, 3:1, 4:1}, inplace=True)\n"
   ]
  },
  {
   "cell_type": "code",
   "execution_count": null,
   "id": "b627183b-70a6-4ead-a897-661f717c826d",
   "metadata": {},
   "outputs": [],
   "source": [
    "with open('../data/codebook_dict.json', 'r') as f:\n",
    "    code = json.load(f)"
   ]
  },
  {
   "cell_type": "code",
   "execution_count": null,
   "id": "8bf2cb76-91a7-40d4-845c-0aabfe0c6a7a",
   "metadata": {},
   "outputs": [],
   "source": [
    "DASS_keys = {'Depression': [3, 5, 10, 13, 16, 17, 21, 24, 26, 31, 34, 37, 38, 42],\n",
    "             'Anxiety': [2, 4, 7, 9, 15, 19, 20, 23, 25, 28, 30, 36, 40, 41],\n",
    "             'Stress': [1, 6, 8, 11, 12, 14, 18, 22, 27, 29, 32, 33, 35, 39]}\n",
    "\n",
    "DASS_bins = {'Depression': [(0, 10), (10, 14), (14, 21), (21, 28)],\n",
    "             'Anxiety': [(0, 8), (8, 10), (10, 15), (15, 20)],\n",
    "             'Stress': [(0, 15), (15, 19), (19, 26), (26, 34)]}\n",
    "             "
   ]
  },
  {
   "cell_type": "code",
   "execution_count": null,
   "id": "c630f45f-1a50-4c41-a0a0-753641849131",
   "metadata": {},
   "outputs": [],
   "source": [
    "severity = {0: 'Normal', 1: 'Mild', 2: 'Moderate', 3: 'Severe', 4:'Extremely severe'}"
   ]
  },
  {
   "cell_type": "code",
   "execution_count": null,
   "id": "bb3bf8ab-3c99-40df-985c-bb6a1243de5f",
   "metadata": {},
   "outputs": [],
   "source": [
    "to_drop = data.filter(regex='Q\\d{1,2}[IE]|VCL.*', axis=1).columns.to_list()"
   ]
  },
  {
   "cell_type": "code",
   "execution_count": null,
   "id": "2b15a381-06e7-42f2-ae1c-d805c01bf135",
   "metadata": {},
   "outputs": [],
   "source": [
    "df1 = data.drop(labels=to_drop, axis=1).drop(['introelapse', 'testelapse', 'surveyelapse', \n",
    "                                              'uniquenetworklocation', 'screensize', 'hand', 'country','source'], axis=1)"
   ]
  },
  {
   "cell_type": "code",
   "execution_count": null,
   "id": "289845d4-7ea2-45ec-9944-4a8f60c41fed",
   "metadata": {},
   "outputs": [],
   "source": [
    "df_cor = df1[['Depression_cat', 'Anxiety_cat', 'Stress_cat']]\n",
    "df_tipi = df1.loc[:, 'TIPI1':'TIPI10']\n",
    "df_tipi = pd.concat([df_tipi, df_cor], axis=1)"
   ]
  },
  {
   "cell_type": "code",
   "execution_count": null,
   "id": "1087daec-7b60-40a0-83b9-9c5c1abc8725",
   "metadata": {},
   "outputs": [],
   "source": [
    "X = df_tipi.loc[:, :'TIPI10']\n",
    "y = df_tipi.Depression_cat"
   ]
  },
  {
   "cell_type": "code",
   "execution_count": null,
   "id": "18a78f7d-bb8c-49d0-a8b2-f1138d959fc4",
   "metadata": {},
   "outputs": [],
   "source": [
    "X_train, X_test, y_train, y_test = train_test_split(X, y,  stratify=y, test_size=0.20)"
   ]
  },
  {
   "cell_type": "code",
   "execution_count": null,
   "id": "fdf3e9c3-7cdd-4463-af53-09043063e95c",
   "metadata": {},
   "outputs": [],
   "source": [
    "svm = SVC(kernel='rbf', C=0.1, class_weight='balanced')\n",
    "svm.fit(X_train, y_train)\n",
    "y_pred_svm = svm.predict(X_test)\n",
    "sns.set_theme(style=\"white\", palette=None)\n",
    "ConfusionMatrixDisplay.from_predictions(y_test, y_pred_svm)"
   ]
  },
  {
   "cell_type": "code",
   "execution_count": null,
   "id": "f79fd144-fe38-45a8-a8c6-d74a1cfaeac2",
   "metadata": {},
   "outputs": [],
   "source": [
    "print(classification_report(y_test, y_pred_svm))"
   ]
  },
  {
   "cell_type": "code",
   "execution_count": null,
   "id": "0f91f482-1064-4be7-8a29-89c2ab745914",
   "metadata": {},
   "outputs": [],
   "source": [
    "metrics.balanced_accuracy_score(y_test, y_pred_svm)"
   ]
  },
  {
   "cell_type": "code",
   "execution_count": null,
   "id": "f63ae53a-1b74-4cec-9177-868593890b0e",
   "metadata": {},
   "outputs": [],
   "source": [
    "rf = RandomForestClassifier(n_estimators=1000, class_weight='balanced')\n",
    "rf.fit(X_train, y_train)\n",
    "y_pred_rf = rf.predict(X_test)\n",
    "sns.set_theme(style=\"white\", palette=None)\n",
    "ConfusionMatrixDisplay.from_predictions(y_test, y_pred_rf)"
   ]
  },
  {
   "cell_type": "code",
   "execution_count": null,
   "id": "58de08d5-02ee-4947-b43d-dd0eb2b04f2a",
   "metadata": {},
   "outputs": [],
   "source": [
    "print(classification_report(y_test, y_pred_rf))"
   ]
  },
  {
   "cell_type": "code",
   "execution_count": null,
   "id": "19d0f787-04ba-48c9-924a-8e95d329cf6a",
   "metadata": {},
   "outputs": [],
   "source": [
    "metrics.balanced_accuracy_score(y_test, y_pred_rf)"
   ]
  },
  {
   "cell_type": "code",
   "execution_count": null,
   "id": "092879ca-b2d9-476e-8807-9d138bd28f14",
   "metadata": {},
   "outputs": [],
   "source": [
    "pipe = Pipeline([\n",
    "\n",
    "    ('clf', 'passthrough'),\n",
    "])\n",
    "\n",
    "\n",
    "parameters = [\n",
    "    {\n",
    "        'clf': (SVC(),),\n",
    "        'clf__C': [0.01, 0.1],\n",
    "        'clf__kernel': ('rbf',),\n",
    "        'clf__class_weight': ['balanced'],\n",
    "    }, \n",
    "    {\n",
    "\n",
    "        'clf': (RandomForestClassifier(),),\n",
    "        'clf__n_estimators': [1000],\n",
    "        'clf__class_weight': ['balanced'],\n",
    "        'clf__criterion': ['entropy']\n",
    "        \n",
    "    }, \n",
    "    \n",
    "\n",
    "]\n",
    "\n",
    "grid_search = GridSearchCV(pipe, parameters, cv=3, scoring=['balanced_accuracy', 'f1_weighted'], verbose=4,\n",
    "                           n_jobs=-1, refit='balanced_accuracy')"
   ]
  },
  {
   "cell_type": "code",
   "execution_count": null,
   "id": "3315955d-0993-4382-a190-77ac5a3fdbf0",
   "metadata": {},
   "outputs": [],
   "source": [
    "result = grid_search.fit(X_train, y_train)\n",
    "report = pd.DataFrame(result.cv_results_)\n"
   ]
  },
  {
   "cell_type": "code",
   "execution_count": null,
   "id": "eb063fd8-eb5a-4648-8659-8c9a8080ac8a",
   "metadata": {},
   "outputs": [],
   "source": [
    "report.sort_values(by='mean_test_balanced_accuracy', ascending=False).drop_duplicates('param_clf')"
   ]
  },
  {
   "cell_type": "code",
   "execution_count": null,
   "id": "bbe515df-bb73-4023-a034-e461e7e53479",
   "metadata": {},
   "outputs": [],
   "source": []
  }
 ],
 "metadata": {
  "kernelspec": {
   "display_name": "Python 3 (ipykernel)",
   "language": "python",
   "name": "python3"
  },
  "language_info": {
   "codemirror_mode": {
    "name": "ipython",
    "version": 3
   },
   "file_extension": ".py",
   "mimetype": "text/x-python",
   "name": "python",
   "nbconvert_exporter": "python",
   "pygments_lexer": "ipython3",
   "version": "3.9.7"
  }
 },
 "nbformat": 4,
 "nbformat_minor": 5
}
