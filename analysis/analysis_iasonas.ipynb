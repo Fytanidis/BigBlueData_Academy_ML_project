{
 "cells": [
  {
   "cell_type": "code",
   "execution_count": null,
   "id": "2f4302d2-3942-4bd5-a148-a6b05042c8ec",
   "metadata": {},
   "outputs": [],
   "source": [
    "import pandas as pd\n",
    "import numpy as np\n",
    "import matplotlib.pyplot as plt\n",
    "import seaborn as sns\n",
    "from sklearn.model_selection import GridSearchCV\n",
    "from sklearn.model_selection import train_test_split, cross_val_score\n",
    "from sklearn.metrics import classification_report, ConfusionMatrixDisplay\n",
    "from sklearn.svm import SVC\n",
    "from sklearn import metrics\n",
    "from sklearn.preprocessing import StandardScaler\n",
    "from sklearn.pipeline import Pipeline\n",
    "from sklearn.ensemble import RandomForestClassifier\n",
    "import shap\n",
    "from sklearn.ensemble import AdaBoostClassifier\n",
    "from xgboost import XGBRFClassifier\n",
    "from lightgbm import LGBMClassifier\n",
    "import json\n",
    "from sklearn.model_selection import StratifiedKFold\n",
    "from sklearn.feature_selection import RFECV"
   ]
  },
  {
   "cell_type": "code",
   "execution_count": null,
   "id": "d5adcccb-758e-4e3f-b6cd-97c33dc2be2b",
   "metadata": {},
   "outputs": [],
   "source": [
    "data = pd.read_csv('../data/data_labeled.csv', index_col=0)"
   ]
  },
  {
   "cell_type": "code",
   "execution_count": null,
   "id": "48d4e715-8b3c-4697-bf18-1fc1347b604b",
   "metadata": {},
   "outputs": [],
   "source": [
    "with open('../data/codebook_dict.json', 'r') as f:\n",
    "    code = json.load(f)"
   ]
  },
  {
   "cell_type": "code",
   "execution_count": null,
   "id": "38b42d9f-6ba1-45a7-98f7-933c92489a06",
   "metadata": {},
   "outputs": [],
   "source": [
    "DASS_keys = {'Depression': [3, 5, 10, 13, 16, 17, 21, 24, 26, 31, 34, 37, 38, 42],\n",
    "             'Anxiety': [2, 4, 7, 9, 15, 19, 20, 23, 25, 28, 30, 36, 40, 41],\n",
    "             'Stress': [1, 6, 8, 11, 12, 14, 18, 22, 27, 29, 32, 33, 35, 39]}\n",
    "\n",
    "DASS_bins = {'Depression': [(0, 10), (10, 14), (14, 21), (21, 28)],\n",
    "             'Anxiety': [(0, 8), (8, 10), (10, 15), (15, 20)],\n",
    "             'Stress': [(0, 15), (15, 19), (19, 26), (26, 34)]}\n",
    "             "
   ]
  },
  {
   "cell_type": "code",
   "execution_count": null,
   "id": "30c2bb24-9a9c-4d29-a0f5-3e12859c9fa9",
   "metadata": {},
   "outputs": [],
   "source": [
    "severity = {0: 'Normal', 1: 'Mild', 2: 'Moderate', 3: 'Severe', 4:'Extremely severe'}"
   ]
  },
  {
   "cell_type": "code",
   "execution_count": null,
   "id": "29dfe77f-9b37-43fd-9f11-a8a046da7048",
   "metadata": {},
   "outputs": [],
   "source": [
    "to_drop = data.filter(regex='Q\\d{1,2}[IE]|VCL.*', axis=1).columns.to_list()"
   ]
  },
  {
   "cell_type": "code",
   "execution_count": null,
   "id": "1e8bbfd0-7e07-45b7-a6f8-2125026b91c0",
   "metadata": {},
   "outputs": [],
   "source": [
    "df1 = data.drop(labels=to_drop, axis=1).drop(['introelapse', 'testelapse', 'surveyelapse', \n",
    "                                              'uniquenetworklocation', 'screensize', 'hand', 'country','source'], axis=1)"
   ]
  },
  {
   "cell_type": "markdown",
   "id": "3c0824c2-bb53-43f1-b8c7-f3d46ebe5c16",
   "metadata": {},
   "source": [
    "### Depression"
   ]
  },
  {
   "cell_type": "code",
   "execution_count": null,
   "id": "e60fd525-5ed1-4e07-bc17-36cd71693938",
   "metadata": {},
   "outputs": [],
   "source": [
    "X = df1.loc[:, :'Q42A']\n",
    "y = df1.Depression_cat"
   ]
  },
  {
   "cell_type": "code",
   "execution_count": null,
   "id": "67f624c6-540f-457f-843b-ae439931a70b",
   "metadata": {},
   "outputs": [],
   "source": [
    "X_train, X_test, y_train, y_test = train_test_split(X, y,  test_size=0.20)"
   ]
  },
  {
   "cell_type": "code",
   "execution_count": null,
   "id": "d06bbc0a-0d90-4f7e-a13c-c44a68139d8b",
   "metadata": {},
   "outputs": [],
   "source": [
    "svm = SVC(kernel='linear', probability=True)\n",
    "svm.fit(X_train, y_train)\n",
    "y_pred = svm.predict(X_test)\n",
    "sns.set_theme(style=\"white\", palette=None)\n",
    "ConfusionMatrixDisplay.from_predictions(y_test, y_pred)"
   ]
  },
  {
   "cell_type": "code",
   "execution_count": null,
   "id": "fb8485cb-0f9d-4487-b676-5521d964f3e4",
   "metadata": {},
   "outputs": [],
   "source": [
    "svm_imp = pd.Series(abs(svm.coef_[0]), index=X.columns).sort_values(ascending=False)\n",
    "svm_imp.head(14)"
   ]
  },
  {
   "cell_type": "markdown",
   "id": "be0f725f-a7cb-4f6c-8d09-b9c97ac496fe",
   "metadata": {},
   "source": [
    "### Anxiety"
   ]
  },
  {
   "cell_type": "code",
   "execution_count": null,
   "id": "4e2b0675-c5fc-4cf7-bb21-c11b35770f86",
   "metadata": {},
   "outputs": [],
   "source": [
    "X = df1.loc[:, :'Q42A']\n",
    "y = df1.Anxiety_cat"
   ]
  },
  {
   "cell_type": "code",
   "execution_count": null,
   "id": "a9234ad2-402a-480d-bcab-731d03c11d9b",
   "metadata": {},
   "outputs": [],
   "source": [
    "X_train, X_test, y_train, y_test = train_test_split(X, y,  stratify=y, test_size=0.20)"
   ]
  },
  {
   "cell_type": "code",
   "execution_count": null,
   "id": "59072c04-e988-493f-86cc-93d0817349e9",
   "metadata": {},
   "outputs": [],
   "source": [
    "svm = SVC(kernel='linear', probability=True)\n",
    "svm.fit(X_train, y_train)\n",
    "y_pred = svm.predict(X_test)\n",
    "sns.set_theme(style=\"white\", palette=None)\n",
    "ConfusionMatrixDisplay.from_predictions(y_test, y_pred)"
   ]
  },
  {
   "cell_type": "code",
   "execution_count": null,
   "id": "91f577f3-e178-42fe-a50f-b194cb9d258d",
   "metadata": {},
   "outputs": [],
   "source": [
    "svm_imp = pd.Series(abs(svm.coef_[0]), index=X.columns).sort_values(ascending=False)\n",
    "svm_imp.head(14)"
   ]
  },
  {
   "cell_type": "markdown",
   "id": "5b08c357-d04a-461d-ad70-f4f876ead2d4",
   "metadata": {},
   "source": [
    "### Stress"
   ]
  },
  {
   "cell_type": "code",
   "execution_count": null,
   "id": "1815384a-a062-428a-9a23-d0b714b5c68c",
   "metadata": {},
   "outputs": [],
   "source": [
    "X = df1.loc[:, :'Q42A']\n",
    "y = df1.Stress_cat"
   ]
  },
  {
   "cell_type": "code",
   "execution_count": null,
   "id": "66f3e44e-6e62-4d99-a690-8adf3e68b782",
   "metadata": {},
   "outputs": [],
   "source": [
    "X_train, X_test, y_train, y_test = train_test_split(X, y,  test_size=0.20)"
   ]
  },
  {
   "cell_type": "code",
   "execution_count": null,
   "id": "70937f83-a3c6-4379-a7e9-ec41470de1f6",
   "metadata": {},
   "outputs": [],
   "source": [
    "svm = SVC(kernel='linear', probability=True)\n",
    "svm.fit(X_train, y_train)\n",
    "y_pred = svm.predict(X_test)\n",
    "sns.set_theme(style=\"white\", palette=None)\n",
    "ConfusionMatrixDisplay.from_predictions(y_tesclass_weight=ed)"
   ]
  },
  {
   "cell_type": "code",
   "execution_count": null,
   "id": "d7cc246e-a11c-49f5-8f90-7af1b57ef961",
   "metadata": {},
   "outputs": [],
   "source": [
    "svm_imp = pd.Series(abs(svm.coef_[0]), index=X.columns).sort_values(ascending=False)\n",
    "svm_imp.head(14)"
   ]
  },
  {
   "cell_type": "markdown",
   "id": "dcf13bf5-7ba1-476a-a6e8-1c702936280e",
   "metadata": {
    "tags": []
   },
   "source": [
    "### Recursive Feature Elimination\n",
    "\n",
    "Since linear SVM can perfectly predict the labels we can do recursive feature elimination to see if we could make the list of questions for each condition shorter"
   ]
  },
  {
   "cell_type": "code",
   "execution_count": null,
   "id": "7b7e4816-2f53-425e-8db4-b5d2978ad31c",
   "metadata": {},
   "outputs": [],
   "source": [
    "DASS_keys = {'Depression': [3, 5, 10, 13, 16, 17, 21, 24, 26, 31, 34, 37, 38, 42],\n",
    "             'Anxiety': [2, 4, 7, 9, 15, 19, 20, 23, 25, 28, 30, 36, 40, 41],\n",
    "             'Stress': [1, 6, 8, 11, 12, 14, 18, 22, 27, 29, 32, 33, 35, 39]}"
   ]
  },
  {
   "cell_type": "code",
   "execution_count": null,
   "id": "06941f26-b996-4539-a979-a2c548f2a521",
   "metadata": {},
   "outputs": [],
   "source": []
  },
  {
   "cell_type": "code",
   "execution_count": null,
   "id": "0737e854-894a-4407-b270-6ae1c00895f8",
   "metadata": {},
   "outputs": [],
   "source": [
    "to_str = '|'.join([str(x) for x in DASS_keys['Depression']])\n",
    "X_dep = X.filter(regex=f'^Q({to_str})A', axis=1)\n",
    "y_dep = df1.Depression_cat"
   ]
  },
  {
   "cell_type": "code",
   "execution_count": null,
   "id": "f53a34a2-4768-4ca6-9884-a338bd35c33d",
   "metadata": {},
   "outputs": [],
   "source": [
    "to_str = '|'.join([str(x) for x in DASS_keys['Anxiety']])\n",
    "X_anx = X.filter(regex=f'^Q({to_str})A', axis=1)\n",
    "y_anx = df1.Anxiety_cat"
   ]
  },
  {
   "cell_type": "code",
   "execution_count": null,
   "id": "6c6dab1a-763d-4b17-8bc0-f531fcaf501d",
   "metadata": {},
   "outputs": [],
   "source": [
    "to_str = '|'.join([str(x) for x in DASS_keys['Stress']])\n",
    "X_str = X.filter(regex=f'^Q({to_str})A', axis=1)\n",
    "y_str = df1.Stress_cat"
   ]
  },
  {
   "cell_type": "code",
   "execution_count": null,
   "id": "148e6d0e-fbac-455f-b0dd-bd0f38be1cc8",
   "metadata": {},
   "outputs": [],
   "source": [
    "results = []\n",
    "for X, y in zip([X_dep, X_anx, X_str], [y_dep, y_anx, y_str]):    \n",
    "    \n",
    "    # Create the RFE object and compute a cross-validated score.\n",
    "    svc = SVC(kernel=\"linear\", C=0.1, class_weight='balanced')\n",
    "    # The \"accuracy\" scoring shows the proportion of correct classifications\n",
    "\n",
    "    min_features_to_select = 7  # Minimum number of features to consider\n",
    "    rfecv = RFECV(\n",
    "        estimator=svc,\n",
    "        step=1,\n",
    "        cv=StratifiedKFold(3),\n",
    "        scoring=\"balanced_accuracy\",\n",
    "        min_features_to_select=min_features_to_select,\n",
    "        n_jobs=-1\n",
    "    )\n",
    "    rfecv.fit(X, y)\n",
    "    results.append(rfecv)\n",
    "    print('loop finished')\n",
    "    print(\"Optimal number of features : %d\" % rfecv.n_features_)\n",
    "\n",
    "    # Plot number of features VS. cross-validation scores\n",
    "    plt.figure()\n",
    "    plt.xlabel(\"Number of features selected\")\n",
    "    plt.ylabel(\"Cross validation score (balanced accuracy)\")\n",
    "    plt.plot(\n",
    "        range(min_features_to_select, len(rfecv.grid_scores_) + min_features_to_select),\n",
    "        rfecv.grid_scores_,\n",
    "    )\n",
    "    plt.show()"
   ]
  },
  {
   "cell_type": "markdown",
   "id": "db5cc59f-4fbf-4c7f-bffb-9e222e93b3b3",
   "metadata": {},
   "source": [
    "### Bin more the label columns"
   ]
  },
  {
   "cell_type": "code",
   "execution_count": null,
   "id": "22e0a362-41fc-4825-9532-c39427aced91",
   "metadata": {},
   "outputs": [],
   "source": [
    "data = df1.copy()"
   ]
  },
  {
   "cell_type": "code",
   "execution_count": null,
   "id": "da9d421d-10a1-40fb-b10b-6fada5d95ea2",
   "metadata": {},
   "outputs": [],
   "source": [
    "data['Stress_cat'].replace({1:0}, inplace=True)\n",
    "data['Stress_cat'].replace({3:4}, inplace=True)\n",
    "data['Anxiety_cat'].replace({1:0}, inplace=True)\n",
    "data['Anxiety_cat'].replace({3:4}, inplace=True)\n",
    "data['Depression_cat'].replace({1:0}, inplace=True)\n",
    "data['Depression_cat'].replace({3:4}, inplace=True)"
   ]
  },
  {
   "cell_type": "code",
   "execution_count": null,
   "id": "41a4f88d-4ae4-4905-bac1-65e798841e15",
   "metadata": {},
   "outputs": [],
   "source": [
    "severity = {0: 'Normal-Mild', 2: 'Moderate', 4:'Severe'}"
   ]
  },
  {
   "cell_type": "code",
   "execution_count": null,
   "id": "d928dcec-2222-4ae9-992c-ddd7a9a05636",
   "metadata": {},
   "outputs": [],
   "source": [
    "group_dep = data.groupby('Depression_cat')['Q1A'].count().reset_index().rename(columns={'Q1A': 'counts'})\n",
    "group_dep['Depression_Severity'] = group_dep.Depression_cat.replace(severity)\n",
    "group_dep['Percentage'] = group_dep.counts/group_dep.counts.sum()*100"
   ]
  },
  {
   "cell_type": "code",
   "execution_count": null,
   "id": "dd9dbb92-d694-4e56-9d2b-e88048804584",
   "metadata": {},
   "outputs": [],
   "source": []
  },
  {
   "cell_type": "code",
   "execution_count": null,
   "id": "2b052dca-bec2-4820-8f6b-7c58692b3e1c",
   "metadata": {},
   "outputs": [],
   "source": [
    "plt.figure(figsize=(10, 5))\n",
    "sns.set(font_scale=1.5)\n",
    "sns.barplot(data=group_dep, x='Depression_Severity', y='Percentage', palette='Oranges')\n",
    "plt.xlabel('Depression')\n",
    "plt.savefig('../presentation/depression_bars.png', dpi=200)"
   ]
  },
  {
   "cell_type": "code",
   "execution_count": null,
   "id": "f2c5d4de-1fe6-426f-80d5-5fa7e34d2de1",
   "metadata": {},
   "outputs": [],
   "source": [
    "X = data.loc[:, :'Q42A']"
   ]
  },
  {
   "cell_type": "code",
   "execution_count": null,
   "id": "3e42a7fb-0c7e-4fac-889e-bd727dd0e542",
   "metadata": {},
   "outputs": [],
   "source": [
    "to_str = '|'.join([str(x) for x in DASS_keys['Depression']])\n",
    "X_dep = X.filter(regex=f'^Q({to_str})A', axis=1)\n",
    "y_dep = data.Depression_cat"
   ]
  },
  {
   "cell_type": "code",
   "execution_count": null,
   "id": "01b30928-8a5e-4523-83ac-3ac165dd60dc",
   "metadata": {},
   "outputs": [],
   "source": [
    "to_str = '|'.join([str(x) for x in DASS_keys['Anxiety']])\n",
    "X_anx = X.filter(regex=f'^Q({to_str})A', axis=1)\n",
    "y_anx = data.Anxiety_cat"
   ]
  },
  {
   "cell_type": "code",
   "execution_count": null,
   "id": "f2d671f3-71de-4884-ada3-2c14778167ec",
   "metadata": {},
   "outputs": [],
   "source": [
    "to_str = '|'.join([str(x) for x in DASS_keys['Stress']])\n",
    "X_str = X.filter(regex=f'^Q({to_str})A', axis=1)\n",
    "y_str = data.Stress_cat"
   ]
  },
  {
   "cell_type": "code",
   "execution_count": null,
   "id": "a50c4023-6b96-4d8d-8c12-8293bf5435d5",
   "metadata": {},
   "outputs": [],
   "source": [
    "results_reduced = []\n",
    "for X, y in zip([X_dep, X_anx, X_str], [y_dep, y_anx, y_str]):    \n",
    "    \n",
    "    # Create the RFE object and compute a cross-validated score.\n",
    "    svc = SVC(kernel=\"linear\", C=0.1, class_weight='balanced')\n",
    "    # The \"accuracy\" scoring shows the proportion of correct classifications\n",
    "\n",
    "    min_features_to_select = 7  # Minimum number of features to consider\n",
    "    rfecv = RFECV(\n",
    "        estimator=svc,\n",
    "        step=1,\n",
    "        cv=StratifiedKFold(3),\n",
    "        scoring=\"balanced_accuracy\",\n",
    "        min_features_to_select=min_features_to_select,\n",
    "        njobs=-1\n",
    "    )\n",
    "    rfecv.fit(X, y)\n",
    "    results.append(rfecv)\n",
    "    print('loop finished')\n",
    "    print(\"Optimal number of features : %d\" % rfecv.n_features_)\n",
    "\n",
    "    # Plot number of features VS. cross-validation scores\n",
    "    plt.figure()\n",
    "    plt.xlabel(\"Number of features selected\")\n",
    "    plt.ylabel(\"Cross validation score (balanced accuracy)\")\n",
    "    plt.plot(\n",
    "        range(min_features_to_select, len(rfecv.grid_scores_) + min_features_to_select),\n",
    "        rfecv.grid_scores_,\n",
    "    )\n",
    "    plt.show()"
   ]
  },
  {
   "cell_type": "code",
   "execution_count": null,
   "id": "c2e403fa-b178-4192-af34-33f6f260dba6",
   "metadata": {},
   "outputs": [],
   "source": []
  },
  {
   "cell_type": "code",
   "execution_count": null,
   "id": "929c639d-d8a1-4409-9472-7bc4491b9d52",
   "metadata": {},
   "outputs": [],
   "source": []
  },
  {
   "cell_type": "code",
   "execution_count": null,
   "id": "38e74915-a499-4abf-8f17-0b3d80dddcf1",
   "metadata": {},
   "outputs": [],
   "source": []
  },
  {
   "cell_type": "code",
   "execution_count": null,
   "id": "f7be8ac0-7e59-410e-aff1-29b91d3e2309",
   "metadata": {},
   "outputs": [],
   "source": []
  },
  {
   "cell_type": "code",
   "execution_count": null,
   "id": "96e600c1-c8be-4542-bed9-1e081a2e3a7d",
   "metadata": {},
   "outputs": [],
   "source": []
  },
  {
   "cell_type": "code",
   "execution_count": null,
   "id": "6bf82976-44d0-42e0-9af3-5f7036a5cafd",
   "metadata": {},
   "outputs": [],
   "source": []
  }
 ],
 "metadata": {
  "kernelspec": {
   "display_name": "Python 3 (ipykernel)",
   "language": "python",
   "name": "python3"
  },
  "language_info": {
   "codemirror_mode": {
    "name": "ipython",
    "version": 3
   },
   "file_extension": ".py",
   "mimetype": "text/x-python",
   "name": "python",
   "nbconvert_exporter": "python",
   "pygments_lexer": "ipython3",
   "version": "3.9.7"
  }
 },
 "nbformat": 4,
 "nbformat_minor": 5
}
