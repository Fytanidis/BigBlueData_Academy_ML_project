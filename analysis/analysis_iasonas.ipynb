{
 "cells": [
  {
   "cell_type": "markdown",
   "id": "a5213d9b-e6fb-4783-99f3-ea21f82e9b90",
   "metadata": {},
   "source": [
    "### Data Classification and Feature Selection 📚"
   ]
  },
  {
   "cell_type": "code",
   "execution_count": null,
   "id": "89bbc47d-e437-4c0e-87c0-af33850babbf",
   "metadata": {},
   "outputs": [],
   "source": [
    "import shap\n",
    "import xgboost\n",
    "import numpy as np\n",
    "import pandas as pd\n",
    "from umap import UMAP\n",
    "import networkx as nx\n",
    "import seaborn as sns\n",
    "import matplotlib.pyplot as plt\n",
    "from sklearn.manifold import TSNE\n",
    "from lightgbm import LGBMClassifier\n",
    "from catboost import CatBoostClassifier\n",
    "from sklearn.preprocessing import LabelEncoder\n",
    "from sklearn.model_selection import StratifiedKFold\n",
    "from sklearn.metrics import roc_auc_score,roc_curve, auc, log_loss\n",
    "from sklearn.metrics import roc_curve, precision_recall_curve\n",
    "import json"
   ]
  },
  {
   "cell_type": "code",
   "execution_count": null,
   "id": "98f4600f-6f9e-47c6-a95f-281594b74dfa",
   "metadata": {},
   "outputs": [],
   "source": [
    "pd.options.display.max_columns = 200"
   ]
  },
  {
   "cell_type": "code",
   "execution_count": null,
   "id": "fefc8b57-4e4a-4d76-a0ca-c0a5d6f3ef9b",
   "metadata": {},
   "outputs": [],
   "source": [
    "df = pd.read_csv('../data/data_labeled.csv', index_col=0)\n",
    "with open('../data/codebook_dict.json', 'r') as f:\n",
    "    code = json.load(f)"
   ]
  },
  {
   "cell_type": "markdown",
   "id": "a46ff3b9-c96e-46c4-96ae-693387c5e885",
   "metadata": {},
   "source": [
    "About Question (Q) columns:\n",
    "* A indicates the question\n",
    "* I indicates the position of the question in the survey\n",
    "* E indicates the time (in ms) it took to answer the question"
   ]
  },
  {
   "cell_type": "code",
   "execution_count": null,
   "id": "b8ba3704-18b8-497c-b9b9-7d8b512d2424",
   "metadata": {},
   "outputs": [],
   "source": [
    "df.head()"
   ]
  },
  {
   "cell_type": "markdown",
   "id": "1eb237cc-6484-454f-a176-d8beb0ae87bf",
   "metadata": {},
   "source": [
    "DASS results\n",
    "\n",
    "Calculate DASS score and categories according to:\n",
    "https://www.psytoolkit.org/survey-library/depression-anxiety-stress-dass.html\n",
    "\n",
    "Severities of depression, anxiety and stress are categorized to:\n",
    "\n",
    "    0 - Normal\n",
    "    1 - Mild\n",
    "    2 - Moderate\n",
    "    3 - Severe\n",
    "    4 - Extremely severe\n"
   ]
  },
  {
   "cell_type": "code",
   "execution_count": null,
   "id": "833d5aa7-ae1e-4bf4-ae1c-3e1858716561",
   "metadata": {},
   "outputs": [],
   "source": [
    "diagnosis = {0: 'Normal', 1: 'Mild', 2: 'Moderate', 3: 'Severe', 4: 'Extremely Severe'}"
   ]
  },
  {
   "cell_type": "code",
   "execution_count": null,
   "id": "6862dd36-7067-4eba-a96b-0667d4cc8ef9",
   "metadata": {},
   "outputs": [],
   "source": [
    "# Dictionaries with the questions related to each category and the corresponding bins\n",
    "DASS_keys = {'Depression': [3, 5, 10, 13, 16, 17, 21, 24, 26, 31, 34, 37, 38, 42],\n",
    "             'Anxiety': [2, 4, 7, 9, 15, 19, 20, 23, 25, 28, 30, 36, 40, 41],\n",
    "             'Stress': [1, 6, 8, 11, 12, 14, 18, 22, 27, 29, 32, 33, 35, 39]}\n",
    "\n",
    "DASS_bins = {'Depression': [(0, 10), (10, 14), (14, 21), (21, 28)],\n",
    "             'Anxiety': [(0, 8), (8, 10), (10, 15), (15, 20)],\n",
    "             'Stress': [(0, 15), (15, 19), (19, 26), (26, 34)]}\n",
    "             "
   ]
  },
  {
   "cell_type": "markdown",
   "id": "0623b380-9f78-4f2c-b89e-2c3d097017be",
   "metadata": {},
   "source": [
    "Basic EDA and Classifier"
   ]
  },
  {
   "cell_type": "code",
   "execution_count": null,
   "id": "714b69ab-22de-4548-9c5f-0a7766cc122e",
   "metadata": {},
   "outputs": [],
   "source": [
    "df_Qdep = df.filter(regex='Q\\d{1,2}A|Depression_cat')\n",
    "counts_dep = df_Qdep.groupby('Depression_cat')['Q1A'].count().reset_index().rename(columns={'Q1A': 'dep_counts'})\n",
    "counts_dep['severity'] = counts_dep.Depression_cat.replace(diagnosis)\n",
    "counts_dep['percentage'] = counts_dep.dep_counts/counts_dep.dep_counts.sum()*100"
   ]
  },
  {
   "cell_type": "code",
   "execution_count": null,
   "id": "cb83d265-bf08-408b-8976-d02b0228ad6a",
   "metadata": {},
   "outputs": [],
   "source": [
    "df_Qanx = df.filter(regex='Q\\d{1,2}A|Anxiety_cat')\n",
    "counts_dep = df_Qdep.groupby('Depression_cat')['Q1A'].count().reset_index().rename(columns={'Q1A': 'dep_counts'})\n",
    "counts_dep['severity'] = counts_dep.Depression_cat.replace(diagnosis)\n",
    "counts_dep['percentage'] = counts_dep.dep_counts/counts_dep.dep_counts.sum()*100"
   ]
  },
  {
   "cell_type": "code",
   "execution_count": null,
   "id": "f9376a2b-b5e0-435b-a407-2a804b95f880",
   "metadata": {},
   "outputs": [],
   "source": []
  },
  {
   "cell_type": "code",
   "execution_count": null,
   "id": "d7662509-b1b7-49f3-ba64-70ff61c09d82",
   "metadata": {},
   "outputs": [],
   "source": []
  }
 ],
 "metadata": {
  "kernelspec": {
   "display_name": "Python 3 (ipykernel)",
   "language": "python",
   "name": "python3"
  },
  "language_info": {
   "codemirror_mode": {
    "name": "ipython",
    "version": 3
   },
   "file_extension": ".py",
   "mimetype": "text/x-python",
   "name": "python",
   "nbconvert_exporter": "python",
   "pygments_lexer": "ipython3",
   "version": "3.9.7"
  }
 },
 "nbformat": 4,
 "nbformat_minor": 5
}
